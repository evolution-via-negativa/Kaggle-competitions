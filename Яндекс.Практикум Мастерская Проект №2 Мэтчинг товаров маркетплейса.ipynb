{
 "cells": [
  {
   "cell_type": "markdown",
   "id": "83f12855",
   "metadata": {},
   "source": [
    "# Мэтчинг товаров маркетплейса\n",
    "\n",
    "Сопоставление или “мэтчинг” (англ. matching - соответствия) - одна из базовых задач машинного обучения, которая встречается в информационном поиске, компьютерном зрении, рекомендательных системах и др.\n",
    "\n",
    "Имеются реальные сырые данные от одного из крупнейших маркетплейсов страны. Задача - сопоставить и найти наиболее похожие товары. Необходимо:\n",
    "\n",
    "🔸 разработать алгоритм, который для всех товаров из `validation.csv` предложит несколько вариантов наиболее похожих товаров из `base.csv`  \n",
    "🔸 оценить качество алгоритма по метрике `accuracy@5`\n",
    "\n",
    "Импортируем полезные библиотеки, которые пригодятся нам в дальнейшем"
   ]
  },
  {
   "cell_type": "code",
   "execution_count": null,
   "id": "80d23e5e",
   "metadata": {},
   "outputs": [],
   "source": [
    "import numpy as np\n",
    "import pandas as pd\n",
    "import matplotlib.pyplot as plt\n",
    "import itertools\n",
    "from tqdm import tqdm\n",
    "from sklearn.base import BaseEstimator\n",
    "from sklearn.preprocessing import OneHotEncoder, StandardScaler\n",
    "from sklearn.impute import SimpleImputer\n",
    "from sklearn.model_selection import GridSearchCV, RandomizedSearchCV, train_test_split\n",
    "from sklearn.pipeline import Pipeline\n",
    "from sklearn.compose import ColumnTransformer\n",
    "from sklearn.neighbors import NearestNeighbors\n",
    "from sklearn.cluster import MiniBatchKMeans\n",
    "from lightgbm import LGBMRegressor"
   ]
  },
  {
   "cell_type": "markdown",
   "id": "e844171c",
   "metadata": {},
   "source": [
    "Зададим параметры по умолчанию и объявим константы, которые понадобятся нам в дальнейшем"
   ]
  },
  {
   "cell_type": "code",
   "execution_count": null,
   "id": "7c937a13",
   "metadata": {},
   "outputs": [],
   "source": [
    "RANDOM_STATE = 751286\n",
    "SMALL_SIZE = 12\n",
    "MEDIUM_SIZE = 18\n",
    "BIGGER_SIZE = 24\n",
    "\n",
    "pd.set_option('display.precision', 4)\n",
    "pd.set_option('display.float_format', '{:.4f}'.format)\n",
    "plt.rc('font', size=SMALL_SIZE)                                    # controls default text sizes\n",
    "plt.rc('axes', titlesize=MEDIUM_SIZE)                              # fontsize of the axes title\n",
    "plt.rc('axes', labelsize=MEDIUM_SIZE)                              # fontsize of the x and y labels\n",
    "plt.rc('xtick', labelsize=SMALL_SIZE)                              # fontsize of the tick labels\n",
    "plt.rc('ytick', labelsize=SMALL_SIZE)                              # fontsize of the tick labels\n",
    "plt.rc('legend', fontsize=SMALL_SIZE)                              # legend fontsize\n",
    "plt.rc('figure', titlesize=BIGGER_SIZE)                            # fontsize of the figure title\n",
    "plt.rc('figure', figsize=(24, 18))                                 # size of the figure"
   ]
  },
  {
   "cell_type": "markdown",
   "id": "e04afa99",
   "metadata": {},
   "source": [
    "## Подготовка данных\n"
   ]
  },
  {
   "cell_type": "markdown",
   "id": "5ce172cc",
   "metadata": {},
   "source": [
    "### Загрузка и разведочный анализ данных"
   ]
  },
  {
   "cell_type": "markdown",
   "id": "0eaa608d",
   "metadata": {},
   "source": [
    "#### Получим данные с информацией о товарах"
   ]
  },
  {
   "cell_type": "code",
   "execution_count": null,
   "id": "c5908a0e",
   "metadata": {},
   "outputs": [],
   "source": [
    "# Для экономии памяти будем использовать np.float32 вместо np.float64\n",
    "dtypes = {str(i): np.float32 for i in range(72)}\n",
    "dtypes.update({'Id': 'object', 'Target': 'object'})\n",
    "\n",
    "base = pd.read_csv('./base.csv', dtype=dtypes)\n",
    "train = pd.read_csv('./train.csv', dtype=dtypes)\n",
    "validation = pd.read_csv('./validation.csv', dtype=dtypes)"
   ]
  },
  {
   "cell_type": "markdown",
   "id": "e9eaadfd",
   "metadata": {},
   "source": [
    "#### Ознакомимся с набором данных. Выведем несколько строк из датафреймов"
   ]
  },
  {
   "cell_type": "code",
   "execution_count": null,
   "id": "0297cca3",
   "metadata": {},
   "outputs": [],
   "source": [
    "display(base.sample(5, random_state=RANDOM_STATE))\n",
    "display(train.sample(5, random_state=RANDOM_STATE))\n",
    "display(validation.sample(5, random_state=RANDOM_STATE))"
   ]
  },
  {
   "cell_type": "markdown",
   "id": "108bd508",
   "metadata": {},
   "source": [
    "#### Отобразим информацию для краткого обзора данных:"
   ]
  },
  {
   "cell_type": "code",
   "execution_count": null,
   "id": "11f62c8c",
   "metadata": {
    "scrolled": false
   },
   "outputs": [],
   "source": [
    "base.info()\n",
    "train.info()\n",
    "validation.info()"
   ]
  },
  {
   "cell_type": "markdown",
   "id": "5f3f12d4",
   "metadata": {},
   "source": [
    "#### Посчитаем количество пропущенных значений:"
   ]
  },
  {
   "cell_type": "code",
   "execution_count": null,
   "id": "4b737759",
   "metadata": {},
   "outputs": [],
   "source": [
    "print(f'Количество пропусков в датафрейме base: {base.isna().sum().sum()}')\n",
    "print(f'Количество пропусков в датафрейме train: {train.isna().sum().sum()}')\n",
    "print(f'Количество пропусков в датафрейме validation: {validation.isna().sum().sum()}')"
   ]
  },
  {
   "cell_type": "markdown",
   "id": "eca1119b",
   "metadata": {},
   "source": [
    "#### Отобразим таблицу с описательной статистикой признаков:"
   ]
  },
  {
   "cell_type": "code",
   "execution_count": null,
   "id": "f4396cdf",
   "metadata": {},
   "outputs": [],
   "source": [
    "display(base.describe())\n",
    "display(train.describe())\n",
    "display(validation.describe())"
   ]
  },
  {
   "cell_type": "markdown",
   "id": "c6e406fd",
   "metadata": {},
   "source": [
    "#### Отобразим таблицу с попарными корреляциями признаков:"
   ]
  },
  {
   "cell_type": "code",
   "execution_count": null,
   "id": "b28838a2",
   "metadata": {
    "scrolled": true
   },
   "outputs": [],
   "source": [
    "# Воспользуемся сэмплирование для того, чтобы уменьшить потребление ресурсов\n",
    "base_corr = base.sample(frac=0.5).corr()\n",
    "train_corr = train.corr()\n",
    "validation_corr = validation.corr()\n",
    "\n",
    "display(base_corr.style.background_gradient(axis=None, cmap='Blues'))\n",
    "display(train_corr.style.background_gradient(axis=None, cmap='Blues'))\n",
    "display(validation_corr.style.background_gradient(axis=None, cmap='Blues'))"
   ]
  },
  {
   "cell_type": "code",
   "execution_count": null,
   "id": "29bdca7c",
   "metadata": {},
   "outputs": [],
   "source": [
    "tol = 0.18\n",
    "size = 72\n",
    "base_high_corr = (base_corr > tol).sum().sum() - size\n",
    "train_high_corr = (train_corr > tol).sum().sum() - size\n",
    "validation_high_corr = (validation_corr > tol).sum().sum() - size\n",
    "\n",
    "print(f'Количество недиагональных попарных корреляций, значения которых больше чем {tol} в base: {base_high_corr}')\n",
    "print(f'Количество недиагональных попарных корреляций, значения которых больше чем {tol} в train: {train_high_corr}')\n",
    "print(f'Количество недиагональных попарных корреляций, значения которых больше чем {tol} в validation: {validation_high_corr}')"
   ]
  },
  {
   "cell_type": "markdown",
   "id": "4f2aba95",
   "metadata": {},
   "source": [
    "#### Отобразим гистограммы распределений значений признаков:"
   ]
  },
  {
   "cell_type": "code",
   "execution_count": null,
   "id": "424dee21",
   "metadata": {},
   "outputs": [],
   "source": [
    "print('гистограммы для датафрейма base:')\n",
    "base.hist()\n",
    "plt.tight_layout()\n",
    "plt.show()\n",
    "\n",
    "print('гистограммы для датафрейма train:')\n",
    "train.hist()\n",
    "plt.tight_layout()\n",
    "plt.show()\n",
    "\n",
    "print('гистограммы для датафрейма validation:')\n",
    "validation.hist()\n",
    "plt.tight_layout()\n",
    "plt.show()"
   ]
  },
  {
   "cell_type": "markdown",
   "id": "d0d50e41",
   "metadata": {},
   "source": [
    "#### Краткий вывод:\n",
    "- в данных присутствуют нарушения правила хорошего стиля в названиях признаков\n",
    "- в данных отсутствуют несоответствия типов в признаках \n",
    "- в данных отсутствуют пропуски в признаках\n",
    "- в данных присутствуют аномальные значения\n",
    "- в данных отсутствуют намёки на мультиколлинеарность\n",
    "- практически все признаки имеют распределение близкое к нормальному распределению"
   ]
  },
  {
   "cell_type": "markdown",
   "id": "d7ebdea2",
   "metadata": {},
   "source": [
    "### Предобработка данных"
   ]
  },
  {
   "cell_type": "markdown",
   "id": "429cc04e",
   "metadata": {},
   "source": [
    "#### Исправим нарушения правил хорошего стиля в названиях столбцов:"
   ]
  },
  {
   "cell_type": "code",
   "execution_count": null,
   "id": "70ec5c7e",
   "metadata": {},
   "outputs": [],
   "source": [
    "base.rename(inplace=True, columns={str(i): 'feature_'+str(i) for i in range(72)} | {'Id': 'id'})\n",
    "train.rename(inplace=True, columns={str(i): 'feature_'+str(i) for i in range(72)} | {'Id': 'id', 'Target': 'target'})\n",
    "validation.rename(inplace=True, columns={str(i): 'feature_'+str(i) for i in range(72)} | {'Id': 'id'})"
   ]
  },
  {
   "cell_type": "markdown",
   "id": "79fe5a00",
   "metadata": {},
   "source": [
    "#### Удалим неинформативные признаки, которые не несут ценности для прогноза:"
   ]
  },
  {
   "cell_type": "code",
   "execution_count": null,
   "id": "9c5df7ec",
   "metadata": {},
   "outputs": [],
   "source": [
    "base.drop(['id'], axis=1, inplace=True)\n",
    "train.drop(['id'], axis=1, inplace=True)\n",
    "validation.drop(['id'], axis=1, inplace=True)"
   ]
  },
  {
   "cell_type": "markdown",
   "id": "343cdbcb",
   "metadata": {},
   "source": [
    "#### Очистим данные от дубликатов"
   ]
  },
  {
   "cell_type": "code",
   "execution_count": null,
   "id": "cddad604",
   "metadata": {},
   "outputs": [],
   "source": [
    "# check\n",
    "print(base.duplicated().sum())\n",
    "print(train.duplicated().sum())\n",
    "print(validation.duplicated().sum())"
   ]
  },
  {
   "cell_type": "markdown",
   "id": "05131ca2",
   "metadata": {},
   "source": [
    "#### Очистим данные от аномальных значений"
   ]
  },
  {
   "cell_type": "markdown",
   "id": "e0723968",
   "metadata": {},
   "source": [
    "Todo"
   ]
  },
  {
   "cell_type": "markdown",
   "id": "123ce9d1",
   "metadata": {},
   "source": [
    "#### Создадим базовый пайплайн с предобработкой данных"
   ]
  },
  {
   "cell_type": "markdown",
   "id": "43d1d403",
   "metadata": {},
   "source": [
    "Todo"
   ]
  },
  {
   "cell_type": "markdown",
   "id": "a2d8b6b4",
   "metadata": {},
   "source": [
    "#### Краткий вывод:\n",
    "Todo"
   ]
  },
  {
   "cell_type": "markdown",
   "id": "713c6c44",
   "metadata": {},
   "source": [
    "## Обучение моделей"
   ]
  },
  {
   "cell_type": "code",
   "execution_count": 14,
   "id": "5faa1e1c",
   "metadata": {},
   "outputs": [],
   "source": [
    "# Модель, которая разделяет данные на кластеры и для каждого кластера обучает свою модель KNN\n",
    "class NearestNeighborsClusterMix(BaseEstimator):\n",
    "    def __init__(self, batch_size=1024, **kwargs):\n",
    "        self.batch_size = batch_size\n",
    "        self.kmeans = MiniBatchKMeans(**kwargs)\n",
    "        self.models = []\n",
    "        # Таблица с информацией о номере кластера, в котором находится объект, и его индекс внутри этого кластера\n",
    "        self.table = pd.DataFrame([], columns=['cluster', 'cluster_index'])\n",
    "        \n",
    "    def get_index(self, cluster, cluster_index):\n",
    "        return self.table[(self.table.cluster==cluster) & (self.table.cluster_index==cluster_index)].index[0]\n",
    "    \n",
    "    def fit(self, X):\n",
    "        for chunk in np.array_split(X, self.batch_size):\n",
    "            self.kmeans.partial_fit(chunk)\n",
    "        \n",
    "        cluster_nums = []\n",
    "        for chunk in np.array_split(X, self.batch_size):\n",
    "            cluster_nums.extend(self.kmeans.predict(chunk))\n",
    "        self.table.cluster = cluster_nums\n",
    "            \n",
    "        for i in self.table.cluster.sort_values().unique():\n",
    "            indexes = self.table.cluster[self.table.cluster==i].index.values\n",
    "            cluster_chunk = X.loc[indexes]\n",
    "            self.models.append(NearestNeighbors().fit(cluster_chunk))\n",
    "            #self.table.loc[indexes, 'cluster_index'] = list(itertools.chain(*self.models[i].kneighbors(cluster_chunk, n_neighbors=1)[1]))\n",
    "            \n",
    "    def predict_cluster_(self, X):\n",
    "        return self.kmeans.predict(X)\n",
    "\n",
    "    def predict(self, X):\n",
    "        predictions = []\n",
    "        cluster_nums = self.predict_cluster_(X)\n",
    "        for i, row in X.iterrows():\n",
    "            indexes = self.models[cluster_nums[i]].kneighbors(X.iloc[i:i+1], n_neighbors=5)[1][0]\n",
    "            #predictions.append([self.get_index(cluster_nums[i], index) for index in indexes])\n",
    "        return predictions"
   ]
  },
  {
   "cell_type": "code",
   "execution_count": 15,
   "id": "34d6ad0a",
   "metadata": {},
   "outputs": [
    {
     "name": "stdout",
     "output_type": "stream",
     "text": [
      "CPU times: user 14.9 s, sys: 1.96 s, total: 16.8 s\n",
      "Wall time: 16.8 s\n"
     ]
    }
   ],
   "source": [
    "%%time\n",
    "nncm = NearestNeighborsClusterMix(batch_size=1024, n_clusters=10)\n",
    "nncm.fit(base)"
   ]
  },
  {
   "cell_type": "code",
   "execution_count": 16,
   "id": "06a40566",
   "metadata": {},
   "outputs": [
    {
     "ename": "IndexError",
     "evalue": "index 0 is out of bounds for axis 0 with size 0",
     "output_type": "error",
     "traceback": [
      "\u001b[0;31m---------------------------------------------------------------------------\u001b[0m",
      "\u001b[0;31mIndexError\u001b[0m                                Traceback (most recent call last)",
      "\u001b[0;32m/tmp/ipykernel_474/2224334692.py\u001b[0m in \u001b[0;36m<module>\u001b[0;34m\u001b[0m\n\u001b[0;32m----> 1\u001b[0;31m \u001b[0mnncm\u001b[0m\u001b[0;34m.\u001b[0m\u001b[0mpredict\u001b[0m\u001b[0;34m(\u001b[0m\u001b[0mvalidation\u001b[0m\u001b[0;34m)\u001b[0m\u001b[0;34m\u001b[0m\u001b[0;34m\u001b[0m\u001b[0m\n\u001b[0m",
      "\u001b[0;32m/tmp/ipykernel_474/2421380326.py\u001b[0m in \u001b[0;36mpredict\u001b[0;34m(self, X)\u001b[0m\n\u001b[1;32m     34\u001b[0m         \u001b[0;32mfor\u001b[0m \u001b[0mi\u001b[0m\u001b[0;34m,\u001b[0m \u001b[0mrow\u001b[0m \u001b[0;32min\u001b[0m \u001b[0mX\u001b[0m\u001b[0;34m.\u001b[0m\u001b[0miterrows\u001b[0m\u001b[0;34m(\u001b[0m\u001b[0;34m)\u001b[0m\u001b[0;34m:\u001b[0m\u001b[0;34m\u001b[0m\u001b[0;34m\u001b[0m\u001b[0m\n\u001b[1;32m     35\u001b[0m             \u001b[0mindexes\u001b[0m \u001b[0;34m=\u001b[0m \u001b[0mself\u001b[0m\u001b[0;34m.\u001b[0m\u001b[0mmodels\u001b[0m\u001b[0;34m[\u001b[0m\u001b[0mcluster_nums\u001b[0m\u001b[0;34m[\u001b[0m\u001b[0mi\u001b[0m\u001b[0;34m]\u001b[0m\u001b[0;34m]\u001b[0m\u001b[0;34m.\u001b[0m\u001b[0mkneighbors\u001b[0m\u001b[0;34m(\u001b[0m\u001b[0mX\u001b[0m\u001b[0;34m.\u001b[0m\u001b[0miloc\u001b[0m\u001b[0;34m[\u001b[0m\u001b[0mi\u001b[0m\u001b[0;34m:\u001b[0m\u001b[0mi\u001b[0m\u001b[0;34m+\u001b[0m\u001b[0;36m1\u001b[0m\u001b[0;34m]\u001b[0m\u001b[0;34m,\u001b[0m \u001b[0mn_neighbors\u001b[0m\u001b[0;34m=\u001b[0m\u001b[0;36m5\u001b[0m\u001b[0;34m)\u001b[0m\u001b[0;34m[\u001b[0m\u001b[0;36m1\u001b[0m\u001b[0;34m]\u001b[0m\u001b[0;34m[\u001b[0m\u001b[0;36m0\u001b[0m\u001b[0;34m]\u001b[0m\u001b[0;34m\u001b[0m\u001b[0;34m\u001b[0m\u001b[0m\n\u001b[0;32m---> 36\u001b[0;31m             \u001b[0mpredictions\u001b[0m\u001b[0;34m.\u001b[0m\u001b[0mappend\u001b[0m\u001b[0;34m(\u001b[0m\u001b[0;34m[\u001b[0m\u001b[0mself\u001b[0m\u001b[0;34m.\u001b[0m\u001b[0mget_index\u001b[0m\u001b[0;34m(\u001b[0m\u001b[0mcluster_nums\u001b[0m\u001b[0;34m[\u001b[0m\u001b[0mi\u001b[0m\u001b[0;34m]\u001b[0m\u001b[0;34m,\u001b[0m \u001b[0mindex\u001b[0m\u001b[0;34m)\u001b[0m \u001b[0;32mfor\u001b[0m \u001b[0mindex\u001b[0m \u001b[0;32min\u001b[0m \u001b[0mindexes\u001b[0m\u001b[0;34m]\u001b[0m\u001b[0;34m)\u001b[0m\u001b[0;34m\u001b[0m\u001b[0;34m\u001b[0m\u001b[0m\n\u001b[0m\u001b[1;32m     37\u001b[0m         \u001b[0;32mreturn\u001b[0m \u001b[0mpredictions\u001b[0m\u001b[0;34m\u001b[0m\u001b[0;34m\u001b[0m\u001b[0m\n",
      "\u001b[0;32m/tmp/ipykernel_474/2421380326.py\u001b[0m in \u001b[0;36m<listcomp>\u001b[0;34m(.0)\u001b[0m\n\u001b[1;32m     34\u001b[0m         \u001b[0;32mfor\u001b[0m \u001b[0mi\u001b[0m\u001b[0;34m,\u001b[0m \u001b[0mrow\u001b[0m \u001b[0;32min\u001b[0m \u001b[0mX\u001b[0m\u001b[0;34m.\u001b[0m\u001b[0miterrows\u001b[0m\u001b[0;34m(\u001b[0m\u001b[0;34m)\u001b[0m\u001b[0;34m:\u001b[0m\u001b[0;34m\u001b[0m\u001b[0;34m\u001b[0m\u001b[0m\n\u001b[1;32m     35\u001b[0m             \u001b[0mindexes\u001b[0m \u001b[0;34m=\u001b[0m \u001b[0mself\u001b[0m\u001b[0;34m.\u001b[0m\u001b[0mmodels\u001b[0m\u001b[0;34m[\u001b[0m\u001b[0mcluster_nums\u001b[0m\u001b[0;34m[\u001b[0m\u001b[0mi\u001b[0m\u001b[0;34m]\u001b[0m\u001b[0;34m]\u001b[0m\u001b[0;34m.\u001b[0m\u001b[0mkneighbors\u001b[0m\u001b[0;34m(\u001b[0m\u001b[0mX\u001b[0m\u001b[0;34m.\u001b[0m\u001b[0miloc\u001b[0m\u001b[0;34m[\u001b[0m\u001b[0mi\u001b[0m\u001b[0;34m:\u001b[0m\u001b[0mi\u001b[0m\u001b[0;34m+\u001b[0m\u001b[0;36m1\u001b[0m\u001b[0;34m]\u001b[0m\u001b[0;34m,\u001b[0m \u001b[0mn_neighbors\u001b[0m\u001b[0;34m=\u001b[0m\u001b[0;36m5\u001b[0m\u001b[0;34m)\u001b[0m\u001b[0;34m[\u001b[0m\u001b[0;36m1\u001b[0m\u001b[0;34m]\u001b[0m\u001b[0;34m[\u001b[0m\u001b[0;36m0\u001b[0m\u001b[0;34m]\u001b[0m\u001b[0;34m\u001b[0m\u001b[0;34m\u001b[0m\u001b[0m\n\u001b[0;32m---> 36\u001b[0;31m             \u001b[0mpredictions\u001b[0m\u001b[0;34m.\u001b[0m\u001b[0mappend\u001b[0m\u001b[0;34m(\u001b[0m\u001b[0;34m[\u001b[0m\u001b[0mself\u001b[0m\u001b[0;34m.\u001b[0m\u001b[0mget_index\u001b[0m\u001b[0;34m(\u001b[0m\u001b[0mcluster_nums\u001b[0m\u001b[0;34m[\u001b[0m\u001b[0mi\u001b[0m\u001b[0;34m]\u001b[0m\u001b[0;34m,\u001b[0m \u001b[0mindex\u001b[0m\u001b[0;34m)\u001b[0m \u001b[0;32mfor\u001b[0m \u001b[0mindex\u001b[0m \u001b[0;32min\u001b[0m \u001b[0mindexes\u001b[0m\u001b[0;34m]\u001b[0m\u001b[0;34m)\u001b[0m\u001b[0;34m\u001b[0m\u001b[0;34m\u001b[0m\u001b[0m\n\u001b[0m\u001b[1;32m     37\u001b[0m         \u001b[0;32mreturn\u001b[0m \u001b[0mpredictions\u001b[0m\u001b[0;34m\u001b[0m\u001b[0;34m\u001b[0m\u001b[0m\n",
      "\u001b[0;32m/tmp/ipykernel_474/2421380326.py\u001b[0m in \u001b[0;36mget_index\u001b[0;34m(self, cluster, cluster_index)\u001b[0m\n\u001b[1;32m      9\u001b[0m \u001b[0;34m\u001b[0m\u001b[0m\n\u001b[1;32m     10\u001b[0m     \u001b[0;32mdef\u001b[0m \u001b[0mget_index\u001b[0m\u001b[0;34m(\u001b[0m\u001b[0mself\u001b[0m\u001b[0;34m,\u001b[0m \u001b[0mcluster\u001b[0m\u001b[0;34m,\u001b[0m \u001b[0mcluster_index\u001b[0m\u001b[0;34m)\u001b[0m\u001b[0;34m:\u001b[0m\u001b[0;34m\u001b[0m\u001b[0;34m\u001b[0m\u001b[0m\n\u001b[0;32m---> 11\u001b[0;31m         \u001b[0;32mreturn\u001b[0m \u001b[0mself\u001b[0m\u001b[0;34m.\u001b[0m\u001b[0mtable\u001b[0m\u001b[0;34m[\u001b[0m\u001b[0;34m(\u001b[0m\u001b[0mself\u001b[0m\u001b[0;34m.\u001b[0m\u001b[0mtable\u001b[0m\u001b[0;34m.\u001b[0m\u001b[0mcluster\u001b[0m\u001b[0;34m==\u001b[0m\u001b[0mcluster\u001b[0m\u001b[0;34m)\u001b[0m \u001b[0;34m&\u001b[0m \u001b[0;34m(\u001b[0m\u001b[0mself\u001b[0m\u001b[0;34m.\u001b[0m\u001b[0mtable\u001b[0m\u001b[0;34m.\u001b[0m\u001b[0mcluster_index\u001b[0m\u001b[0;34m==\u001b[0m\u001b[0mcluster_index\u001b[0m\u001b[0;34m)\u001b[0m\u001b[0;34m]\u001b[0m\u001b[0;34m.\u001b[0m\u001b[0mindex\u001b[0m\u001b[0;34m[\u001b[0m\u001b[0;36m0\u001b[0m\u001b[0;34m]\u001b[0m\u001b[0;34m\u001b[0m\u001b[0;34m\u001b[0m\u001b[0m\n\u001b[0m\u001b[1;32m     12\u001b[0m \u001b[0;34m\u001b[0m\u001b[0m\n\u001b[1;32m     13\u001b[0m     \u001b[0;32mdef\u001b[0m \u001b[0mfit\u001b[0m\u001b[0;34m(\u001b[0m\u001b[0mself\u001b[0m\u001b[0;34m,\u001b[0m \u001b[0mX\u001b[0m\u001b[0;34m)\u001b[0m\u001b[0;34m:\u001b[0m\u001b[0;34m\u001b[0m\u001b[0;34m\u001b[0m\u001b[0m\n",
      "\u001b[0;32m/opt/conda/lib/python3.9/site-packages/pandas/core/indexes/base.py\u001b[0m in \u001b[0;36m__getitem__\u001b[0;34m(self, key)\u001b[0m\n\u001b[1;32m   4295\u001b[0m         \u001b[0;32mif\u001b[0m \u001b[0mis_scalar\u001b[0m\u001b[0;34m(\u001b[0m\u001b[0mkey\u001b[0m\u001b[0;34m)\u001b[0m\u001b[0;34m:\u001b[0m\u001b[0;34m\u001b[0m\u001b[0;34m\u001b[0m\u001b[0m\n\u001b[1;32m   4296\u001b[0m             \u001b[0mkey\u001b[0m \u001b[0;34m=\u001b[0m \u001b[0mcom\u001b[0m\u001b[0;34m.\u001b[0m\u001b[0mcast_scalar_indexer\u001b[0m\u001b[0;34m(\u001b[0m\u001b[0mkey\u001b[0m\u001b[0;34m,\u001b[0m \u001b[0mwarn_float\u001b[0m\u001b[0;34m=\u001b[0m\u001b[0;32mTrue\u001b[0m\u001b[0;34m)\u001b[0m\u001b[0;34m\u001b[0m\u001b[0;34m\u001b[0m\u001b[0m\n\u001b[0;32m-> 4297\u001b[0;31m             \u001b[0;32mreturn\u001b[0m \u001b[0mgetitem\u001b[0m\u001b[0;34m(\u001b[0m\u001b[0mkey\u001b[0m\u001b[0;34m)\u001b[0m\u001b[0;34m\u001b[0m\u001b[0;34m\u001b[0m\u001b[0m\n\u001b[0m\u001b[1;32m   4298\u001b[0m \u001b[0;34m\u001b[0m\u001b[0m\n\u001b[1;32m   4299\u001b[0m         \u001b[0;32mif\u001b[0m \u001b[0misinstance\u001b[0m\u001b[0;34m(\u001b[0m\u001b[0mkey\u001b[0m\u001b[0;34m,\u001b[0m \u001b[0mslice\u001b[0m\u001b[0;34m)\u001b[0m\u001b[0;34m:\u001b[0m\u001b[0;34m\u001b[0m\u001b[0;34m\u001b[0m\u001b[0m\n",
      "\u001b[0;31mIndexError\u001b[0m: index 0 is out of bounds for axis 0 with size 0"
     ]
    }
   ],
   "source": [
    "nncm.predict(validation)"
   ]
  },
  {
   "cell_type": "code",
   "execution_count": null,
   "id": "de9a188e",
   "metadata": {},
   "outputs": [],
   "source": [
    "# TODO\n",
    "# Общий вывод\n",
    "# Оптимизировать класс NearestNeighborsClusterMix\n",
    "# Сделать пайплайн\n",
    "# Оптимизировать гиперпараметры при помощи кросс-валидации\n",
    "# Анализ результатов\n",
    "\n",
    "\n",
    "\n",
    "# Это фиаско"
   ]
  }
 ],
 "metadata": {
  "ExecuteTimeLog": [
   {
    "duration": 5,
    "start_time": "2024-01-23T14:43:32.491Z"
   },
   {
    "duration": 77,
    "start_time": "2024-01-23T14:48:17.921Z"
   },
   {
    "duration": 54,
    "start_time": "2024-01-23T14:48:20.841Z"
   },
   {
    "duration": 2403,
    "start_time": "2024-01-23T14:48:24.883Z"
   },
   {
    "duration": 5,
    "start_time": "2024-01-23T14:48:27.289Z"
   },
   {
    "duration": 256,
    "start_time": "2024-01-23T14:48:27.296Z"
   },
   {
    "duration": 49,
    "start_time": "2024-01-23T14:48:40.430Z"
   },
   {
    "duration": 132,
    "start_time": "2024-01-23T14:49:28.673Z"
   },
   {
    "duration": 325,
    "start_time": "2024-01-23T14:49:31.863Z"
   },
   {
    "duration": 51,
    "start_time": "2024-01-24T22:08:01.633Z"
   },
   {
    "duration": 2186,
    "start_time": "2024-01-24T22:08:07.266Z"
   },
   {
    "duration": 9,
    "start_time": "2024-01-24T22:08:09.455Z"
   },
   {
    "duration": 2079,
    "start_time": "2024-01-24T22:08:55.697Z"
   },
   {
    "duration": 5,
    "start_time": "2024-01-24T22:08:57.780Z"
   },
   {
    "duration": 749,
    "start_time": "2024-01-24T22:13:17.760Z"
   },
   {
    "duration": 0,
    "start_time": "2024-01-24T22:13:18.511Z"
   },
   {
    "duration": 3443,
    "start_time": "2024-01-24T22:13:28.206Z"
   },
   {
    "duration": 1379,
    "start_time": "2024-01-24T22:13:36.864Z"
   },
   {
    "duration": 0,
    "start_time": "2024-01-24T22:13:38.244Z"
   },
   {
    "duration": 0,
    "start_time": "2024-01-24T22:13:38.245Z"
   },
   {
    "duration": 9,
    "start_time": "2024-01-24T22:13:38.476Z"
   },
   {
    "duration": 8,
    "start_time": "2024-01-24T22:13:39.311Z"
   },
   {
    "duration": 26,
    "start_time": "2024-01-24T22:13:47.448Z"
   },
   {
    "duration": 7,
    "start_time": "2024-01-24T22:13:48.378Z"
   },
   {
    "duration": 44,
    "start_time": "2024-01-24T22:20:27.005Z"
   },
   {
    "duration": 1388,
    "start_time": "2024-01-24T22:20:30.288Z"
   },
   {
    "duration": 6,
    "start_time": "2024-01-24T22:20:31.678Z"
   },
   {
    "duration": 1509,
    "start_time": "2024-01-24T22:21:36.914Z"
   },
   {
    "duration": 7,
    "start_time": "2024-01-24T22:21:39.170Z"
   },
   {
    "duration": 45,
    "start_time": "2024-01-24T22:23:16.396Z"
   },
   {
    "duration": 1349,
    "start_time": "2024-01-24T22:23:19.016Z"
   },
   {
    "duration": 5,
    "start_time": "2024-01-24T22:23:20.367Z"
   },
   {
    "duration": 4968,
    "start_time": "2024-01-24T22:23:23.313Z"
   },
   {
    "duration": 80,
    "start_time": "2024-01-24T22:23:31.746Z"
   },
   {
    "duration": 23,
    "start_time": "2024-01-24T22:25:43.732Z"
   },
   {
    "duration": 10,
    "start_time": "2024-01-24T22:25:58.037Z"
   },
   {
    "duration": 81,
    "start_time": "2024-01-24T22:26:05.612Z"
   },
   {
    "duration": 9,
    "start_time": "2024-01-24T22:26:08.557Z"
   },
   {
    "duration": 10,
    "start_time": "2024-01-24T22:26:11.340Z"
   },
   {
    "duration": 17,
    "start_time": "2024-01-24T22:26:24.225Z"
   },
   {
    "duration": 61,
    "start_time": "2024-01-24T22:28:40.022Z"
   },
   {
    "duration": 1305,
    "start_time": "2024-01-24T22:28:43.078Z"
   },
   {
    "duration": 5,
    "start_time": "2024-01-24T22:28:44.385Z"
   },
   {
    "duration": 1552,
    "start_time": "2024-01-24T22:30:01.107Z"
   },
   {
    "duration": 5,
    "start_time": "2024-01-24T22:30:02.661Z"
   },
   {
    "duration": 57,
    "start_time": "2024-01-24T22:30:42.471Z"
   },
   {
    "duration": 8,
    "start_time": "2024-01-24T22:30:45.766Z"
   },
   {
    "duration": 8,
    "start_time": "2024-01-24T22:30:50.715Z"
   },
   {
    "duration": 1400,
    "start_time": "2024-01-24T22:30:56.324Z"
   },
   {
    "duration": 6,
    "start_time": "2024-01-24T22:30:57.726Z"
   },
   {
    "duration": 4066,
    "start_time": "2024-01-24T22:30:58.514Z"
   },
   {
    "duration": 30,
    "start_time": "2024-01-24T22:31:02.581Z"
   },
   {
    "duration": 95,
    "start_time": "2024-01-24T22:31:29.980Z"
   },
   {
    "duration": 9,
    "start_time": "2024-01-24T22:31:36.253Z"
   },
   {
    "duration": 4463,
    "start_time": "2024-01-24T22:37:42.237Z"
   },
   {
    "duration": 18,
    "start_time": "2024-01-24T22:37:58.625Z"
   },
   {
    "duration": 44,
    "start_time": "2024-01-24T22:38:13.608Z"
   },
   {
    "duration": 9,
    "start_time": "2024-01-24T22:38:43.083Z"
   },
   {
    "duration": 35,
    "start_time": "2024-01-24T22:43:39.074Z"
   },
   {
    "duration": 1926,
    "start_time": "2024-01-24T22:55:46.894Z"
   },
   {
    "duration": 4,
    "start_time": "2024-01-24T22:57:43.413Z"
   },
   {
    "duration": 4,
    "start_time": "2024-01-24T22:57:47.821Z"
   },
   {
    "duration": 8,
    "start_time": "2024-01-24T22:58:23.733Z"
   },
   {
    "duration": 4,
    "start_time": "2024-01-24T22:59:11.845Z"
   },
   {
    "duration": 89,
    "start_time": "2024-01-24T22:59:57.069Z"
   },
   {
    "duration": 2255,
    "start_time": "2024-01-24T23:00:01.358Z"
   },
   {
    "duration": 2733,
    "start_time": "2024-01-24T23:00:24.278Z"
   },
   {
    "duration": 3,
    "start_time": "2024-01-24T23:00:39.438Z"
   },
   {
    "duration": 9734,
    "start_time": "2024-01-24T23:00:51.135Z"
   },
   {
    "duration": 0,
    "start_time": "2024-01-24T23:01:00.870Z"
   },
   {
    "duration": 1395,
    "start_time": "2024-01-24T23:01:05.691Z"
   },
   {
    "duration": 5,
    "start_time": "2024-01-24T23:01:07.088Z"
   },
   {
    "duration": 99,
    "start_time": "2024-01-24T23:01:07.931Z"
   },
   {
    "duration": 3,
    "start_time": "2024-01-24T23:01:12.902Z"
   },
   {
    "duration": 3,
    "start_time": "2024-01-24T23:01:19.152Z"
   },
   {
    "duration": 4,
    "start_time": "2024-01-24T23:01:24.398Z"
   },
   {
    "duration": 6,
    "start_time": "2024-01-24T23:01:33.781Z"
   },
   {
    "duration": 96,
    "start_time": "2024-01-24T23:01:50.765Z"
   },
   {
    "duration": 8,
    "start_time": "2024-01-24T23:01:56.470Z"
   },
   {
    "duration": 5,
    "start_time": "2024-01-24T23:03:15.686Z"
   },
   {
    "duration": 4,
    "start_time": "2024-01-24T23:03:32.414Z"
   },
   {
    "duration": 4,
    "start_time": "2024-01-24T23:03:49.941Z"
   },
   {
    "duration": 5,
    "start_time": "2024-01-24T23:04:44.476Z"
   },
   {
    "duration": 4,
    "start_time": "2024-01-24T23:05:00.739Z"
   },
   {
    "duration": 7,
    "start_time": "2024-01-24T23:05:24.661Z"
   },
   {
    "duration": 72665,
    "start_time": "2024-01-24T23:05:35.890Z"
   },
   {
    "duration": 133,
    "start_time": "2024-01-24T23:07:08.670Z"
   },
   {
    "duration": 140,
    "start_time": "2024-01-24T23:07:22.816Z"
   },
   {
    "duration": 51,
    "start_time": "2024-01-24T23:10:39.661Z"
   },
   {
    "duration": 1596,
    "start_time": "2024-01-24T23:10:44.531Z"
   },
   {
    "duration": 5,
    "start_time": "2024-01-24T23:10:46.129Z"
   },
   {
    "duration": 53367,
    "start_time": "2024-01-24T23:10:53.258Z"
   },
   {
    "duration": 9,
    "start_time": "2024-01-24T23:12:00.735Z"
   },
   {
    "duration": 5,
    "start_time": "2024-01-24T23:12:08.356Z"
   },
   {
    "duration": 89,
    "start_time": "2024-01-24T23:13:30.908Z"
   },
   {
    "duration": 42,
    "start_time": "2024-01-24T23:13:36.970Z"
   },
   {
    "duration": 1406,
    "start_time": "2024-01-24T23:13:44.201Z"
   },
   {
    "duration": 6,
    "start_time": "2024-01-24T23:13:45.608Z"
   },
   {
    "duration": 46881,
    "start_time": "2024-01-24T23:13:45.738Z"
   },
   {
    "duration": 7,
    "start_time": "2024-01-24T23:15:29.630Z"
   },
   {
    "duration": 5,
    "start_time": "2024-01-24T23:16:09.857Z"
   },
   {
    "duration": 49744,
    "start_time": "2024-01-24T23:16:17.176Z"
   },
   {
    "duration": 2717,
    "start_time": "2024-01-24T23:18:04.876Z"
   },
   {
    "duration": 2038,
    "start_time": "2024-01-24T23:18:37.123Z"
   },
   {
    "duration": 51769,
    "start_time": "2024-01-24T23:18:52.064Z"
   },
   {
    "duration": 1436,
    "start_time": "2024-01-24T23:20:58.276Z"
   },
   {
    "duration": 6,
    "start_time": "2024-01-24T23:20:59.713Z"
   },
   {
    "duration": 54073,
    "start_time": "2024-01-24T23:21:00.389Z"
   },
   {
    "duration": 162,
    "start_time": "2024-01-24T23:24:03.619Z"
   },
   {
    "duration": 65,
    "start_time": "2024-01-24T23:24:08.243Z"
   },
   {
    "duration": 1432,
    "start_time": "2024-01-24T23:30:50.692Z"
   },
   {
    "duration": 7,
    "start_time": "2024-01-24T23:30:52.125Z"
   },
   {
    "duration": 73173,
    "start_time": "2024-01-24T23:30:52.606Z"
   },
   {
    "duration": 157,
    "start_time": "2024-01-24T23:32:05.781Z"
   },
   {
    "duration": 68,
    "start_time": "2024-01-24T23:32:05.939Z"
   },
   {
    "duration": 890,
    "start_time": "2024-01-24T23:39:05.103Z"
   },
   {
    "duration": 879,
    "start_time": "2024-01-24T23:39:23.015Z"
   },
   {
    "duration": 909,
    "start_time": "2024-01-24T23:39:39.344Z"
   },
   {
    "duration": 957,
    "start_time": "2024-01-24T23:39:47.810Z"
   },
   {
    "duration": 889,
    "start_time": "2024-01-24T23:42:54.892Z"
   },
   {
    "duration": 16415,
    "start_time": "2024-01-24T23:43:56.871Z"
   },
   {
    "duration": 2781,
    "start_time": "2024-01-24T23:45:24.429Z"
   },
   {
    "duration": 6,
    "start_time": "2024-01-24T23:45:27.253Z"
   },
   {
    "duration": 119317,
    "start_time": "2024-01-24T23:45:27.261Z"
   },
   {
    "duration": 374,
    "start_time": "2024-01-24T23:47:26.580Z"
   },
   {
    "duration": 139,
    "start_time": "2024-01-24T23:47:26.956Z"
   },
   {
    "duration": 1058,
    "start_time": "2024-01-24T23:47:27.097Z"
   },
   {
    "duration": 15924,
    "start_time": "2024-01-24T23:47:28.157Z"
   },
   {
    "duration": 905,
    "start_time": "2024-01-24T23:48:13.277Z"
   },
   {
    "duration": 16048,
    "start_time": "2024-01-24T23:48:14.607Z"
   },
   {
    "duration": 2549,
    "start_time": "2024-01-24T23:55:20.208Z"
   },
   {
    "duration": 5,
    "start_time": "2024-01-24T23:55:22.759Z"
   },
   {
    "duration": 2911,
    "start_time": "2024-01-24T23:55:22.768Z"
   },
   {
    "duration": 97,
    "start_time": "2024-01-24T23:55:25.681Z"
   },
   {
    "duration": 94,
    "start_time": "2024-01-24T23:55:25.779Z"
   },
   {
    "duration": 10,
    "start_time": "2024-01-24T23:55:25.874Z"
   },
   {
    "duration": 912,
    "start_time": "2024-01-24T23:55:27.386Z"
   },
   {
    "duration": 39466,
    "start_time": "2024-01-24T23:55:30.818Z"
   },
   {
    "duration": 0,
    "start_time": "2024-01-24T23:56:10.286Z"
   },
   {
    "duration": 10670,
    "start_time": "2024-01-24T23:56:12.028Z"
   },
   {
    "duration": 0,
    "start_time": "2024-01-24T23:56:22.752Z"
   },
   {
    "duration": 4,
    "start_time": "2024-01-24T23:56:29.626Z"
   },
   {
    "duration": 211,
    "start_time": "2024-01-24T23:56:33.972Z"
   },
   {
    "duration": 44867,
    "start_time": "2024-01-24T23:58:42.392Z"
   },
   {
    "duration": 73013,
    "start_time": "2024-01-24T23:59:47.572Z"
   },
   {
    "duration": 1107,
    "start_time": "2024-01-25T00:01:00.587Z"
   },
   {
    "duration": 1258,
    "start_time": "2024-01-25T00:02:17.941Z"
   },
   {
    "duration": 2562,
    "start_time": "2024-01-25T00:02:42.610Z"
   },
   {
    "duration": 3300,
    "start_time": "2024-01-25T00:03:46.571Z"
   },
   {
    "duration": 250,
    "start_time": "2024-01-25T00:03:51.526Z"
   },
   {
    "duration": 253,
    "start_time": "2024-01-25T00:03:59.616Z"
   },
   {
    "duration": 416,
    "start_time": "2024-01-25T00:04:07.951Z"
   },
   {
    "duration": 175,
    "start_time": "2024-01-25T00:04:23.625Z"
   },
   {
    "duration": 191,
    "start_time": "2024-01-25T00:04:28.910Z"
   },
   {
    "duration": 269,
    "start_time": "2024-01-25T00:04:36.285Z"
   },
   {
    "duration": 199,
    "start_time": "2024-01-25T00:04:39.989Z"
   },
   {
    "duration": 219,
    "start_time": "2024-01-25T00:04:43.952Z"
   },
   {
    "duration": 240,
    "start_time": "2024-01-25T00:04:46.926Z"
   },
   {
    "duration": 225,
    "start_time": "2024-01-25T00:04:51.751Z"
   },
   {
    "duration": 236,
    "start_time": "2024-01-25T00:04:54.926Z"
   },
   {
    "duration": 98,
    "start_time": "2024-01-25T00:08:58.703Z"
   },
   {
    "duration": 76,
    "start_time": "2024-01-25T00:09:01.559Z"
   },
   {
    "duration": 236,
    "start_time": "2024-01-25T00:09:06.534Z"
   },
   {
    "duration": 240,
    "start_time": "2024-01-25T00:09:13.926Z"
   },
   {
    "duration": 240,
    "start_time": "2024-01-25T00:09:24.924Z"
   },
   {
    "duration": 208,
    "start_time": "2024-01-25T00:09:35.956Z"
   },
   {
    "duration": 244,
    "start_time": "2024-01-25T00:09:44.309Z"
   },
   {
    "duration": 273,
    "start_time": "2024-01-25T00:09:53.311Z"
   },
   {
    "duration": 701,
    "start_time": "2024-01-25T00:11:25.175Z"
   },
   {
    "duration": 1440,
    "start_time": "2024-01-25T00:12:18.624Z"
   },
   {
    "duration": 667,
    "start_time": "2024-01-25T00:12:44.118Z"
   },
   {
    "duration": 689,
    "start_time": "2024-01-25T00:12:49.106Z"
   },
   {
    "duration": 652,
    "start_time": "2024-01-25T00:13:12.721Z"
   },
   {
    "duration": 688,
    "start_time": "2024-01-25T00:13:16.475Z"
   },
   {
    "duration": 634,
    "start_time": "2024-01-25T00:13:20.056Z"
   },
   {
    "duration": 2714,
    "start_time": "2024-01-25T00:13:28.248Z"
   },
   {
    "duration": 125,
    "start_time": "2024-01-25T00:14:42.870Z"
   },
   {
    "duration": 14350,
    "start_time": "2024-01-25T00:14:55.318Z"
   },
   {
    "duration": 16719,
    "start_time": "2024-01-25T00:15:43.841Z"
   },
   {
    "duration": 2111,
    "start_time": "2024-01-25T00:16:09.666Z"
   },
   {
    "duration": 8,
    "start_time": "2024-01-25T00:16:11.779Z"
   },
   {
    "duration": 4,
    "start_time": "2024-01-25T00:16:13.427Z"
   },
   {
    "duration": 6,
    "start_time": "2024-01-25T00:16:13.432Z"
   },
   {
    "duration": 2143,
    "start_time": "2024-01-25T00:16:14.841Z"
   },
   {
    "duration": 98,
    "start_time": "2024-01-25T00:16:16.987Z"
   },
   {
    "duration": 104,
    "start_time": "2024-01-25T00:16:17.087Z"
   },
   {
    "duration": 9,
    "start_time": "2024-01-25T00:16:17.580Z"
   },
   {
    "duration": 859,
    "start_time": "2024-01-25T00:16:18.116Z"
   },
   {
    "duration": 2374,
    "start_time": "2024-01-25T00:16:19.278Z"
   },
   {
    "duration": 99,
    "start_time": "2024-01-25T00:16:21.654Z"
   },
   {
    "duration": 15903,
    "start_time": "2024-01-25T00:16:21.755Z"
   },
   {
    "duration": 20321,
    "start_time": "2024-01-25T00:16:53.160Z"
   },
   {
    "duration": 15410,
    "start_time": "2024-01-25T00:17:22.269Z"
   },
   {
    "duration": 3154,
    "start_time": "2024-01-25T00:17:48.343Z"
   },
   {
    "duration": 34281,
    "start_time": "2024-01-25T00:17:59.008Z"
   },
   {
    "duration": 9389,
    "start_time": "2024-01-25T00:19:24.781Z"
   },
   {
    "duration": 11700,
    "start_time": "2024-01-25T00:19:34.359Z"
   },
   {
    "duration": 12148,
    "start_time": "2024-01-25T00:19:55.937Z"
   },
   {
    "duration": 12257,
    "start_time": "2024-01-25T00:21:01.223Z"
   },
   {
    "duration": 10881,
    "start_time": "2024-01-25T00:21:20.082Z"
   },
   {
    "duration": 7390,
    "start_time": "2024-01-25T00:21:56.984Z"
   },
   {
    "duration": 81,
    "start_time": "2024-01-25T00:22:05.449Z"
   },
   {
    "duration": 12273,
    "start_time": "2024-01-25T00:22:08.780Z"
   },
   {
    "duration": 43767,
    "start_time": "2024-01-25T00:22:36.108Z"
   },
   {
    "duration": 40148,
    "start_time": "2024-01-25T00:23:20.424Z"
   },
   {
    "duration": 40504,
    "start_time": "2024-01-25T00:25:05.165Z"
   },
   {
    "duration": 40576,
    "start_time": "2024-01-25T00:26:25.421Z"
   },
   {
    "duration": 2197,
    "start_time": "2024-01-25T07:55:53.885Z"
   },
   {
    "duration": 5,
    "start_time": "2024-01-25T07:55:56.083Z"
   },
   {
    "duration": 2380,
    "start_time": "2024-01-25T07:55:56.091Z"
   },
   {
    "duration": 106,
    "start_time": "2024-01-25T07:55:58.473Z"
   },
   {
    "duration": 90,
    "start_time": "2024-01-25T07:55:58.580Z"
   },
   {
    "duration": 7,
    "start_time": "2024-01-25T07:55:58.672Z"
   },
   {
    "duration": 1191,
    "start_time": "2024-01-25T07:55:58.680Z"
   },
   {
    "duration": 2594,
    "start_time": "2024-01-25T07:55:59.872Z"
   },
   {
    "duration": 110,
    "start_time": "2024-01-25T07:56:02.468Z"
   },
   {
    "duration": 43092,
    "start_time": "2024-01-25T07:56:02.580Z"
   },
   {
    "duration": 98,
    "start_time": "2024-01-25T08:42:51.766Z"
   },
   {
    "duration": 2307,
    "start_time": "2024-01-25T08:43:25.265Z"
   },
   {
    "duration": 4,
    "start_time": "2024-01-25T08:43:27.576Z"
   },
   {
    "duration": 2152,
    "start_time": "2024-01-25T08:43:27.581Z"
   },
   {
    "duration": 102,
    "start_time": "2024-01-25T08:43:29.752Z"
   },
   {
    "duration": 94,
    "start_time": "2024-01-25T08:43:29.858Z"
   },
   {
    "duration": 12,
    "start_time": "2024-01-25T08:43:29.960Z"
   },
   {
    "duration": 996,
    "start_time": "2024-01-25T08:43:29.974Z"
   },
   {
    "duration": 2739,
    "start_time": "2024-01-25T08:43:34.033Z"
   },
   {
    "duration": 104,
    "start_time": "2024-01-25T08:43:36.774Z"
   },
   {
    "duration": 2600,
    "start_time": "2024-01-25T08:43:59.292Z"
   },
   {
    "duration": 7,
    "start_time": "2024-01-25T08:44:04.245Z"
   },
   {
    "duration": 120175,
    "start_time": "2024-01-25T08:44:05.980Z"
   },
   {
    "duration": 332,
    "start_time": "2024-01-25T08:46:06.157Z"
   },
   {
    "duration": 188,
    "start_time": "2024-01-25T08:46:06.491Z"
   },
   {
    "duration": 1185,
    "start_time": "2024-01-25T08:46:06.681Z"
   },
   {
    "duration": 18206,
    "start_time": "2024-01-25T08:46:07.868Z"
   },
   {
    "duration": 3151,
    "start_time": "2024-01-25T08:46:55.333Z"
   },
   {
    "duration": 5,
    "start_time": "2024-01-25T08:46:58.486Z"
   },
   {
    "duration": 108381,
    "start_time": "2024-01-25T08:46:58.492Z"
   },
   {
    "duration": 788,
    "start_time": "2024-01-25T08:48:46.875Z"
   },
   {
    "duration": 290,
    "start_time": "2024-01-25T08:48:47.671Z"
   },
   {
    "duration": 1193,
    "start_time": "2024-01-25T08:48:47.965Z"
   },
   {
    "duration": 17425,
    "start_time": "2024-01-25T08:48:49.160Z"
   },
   {
    "duration": 4433,
    "start_time": "2024-01-25T08:49:47.187Z"
   },
   {
    "duration": 16,
    "start_time": "2024-01-25T08:49:51.652Z"
   },
   {
    "duration": 119306,
    "start_time": "2024-01-25T08:49:51.670Z"
   },
   {
    "duration": 394,
    "start_time": "2024-01-25T08:51:50.977Z"
   },
   {
    "duration": 214,
    "start_time": "2024-01-25T08:51:51.373Z"
   },
   {
    "duration": 2380,
    "start_time": "2024-01-25T08:51:51.588Z"
   },
   {
    "duration": 57512,
    "start_time": "2024-01-25T08:51:53.970Z"
   },
   {
    "duration": 3093,
    "start_time": "2024-01-25T08:53:05.071Z"
   },
   {
    "duration": 5,
    "start_time": "2024-01-25T08:53:08.166Z"
   },
   {
    "duration": 109057,
    "start_time": "2024-01-25T08:53:08.411Z"
   },
   {
    "duration": 387,
    "start_time": "2024-01-25T08:54:57.471Z"
   },
   {
    "duration": 228,
    "start_time": "2024-01-25T08:54:57.860Z"
   },
   {
    "duration": 2398,
    "start_time": "2024-01-25T08:54:58.090Z"
   },
   {
    "duration": 56504,
    "start_time": "2024-01-25T08:55:00.490Z"
   },
   {
    "duration": 3003,
    "start_time": "2024-01-25T09:00:24.762Z"
   },
   {
    "duration": 5,
    "start_time": "2024-01-25T09:00:27.767Z"
   },
   {
    "duration": 1287,
    "start_time": "2024-01-25T09:00:27.773Z"
   },
   {
    "duration": 106,
    "start_time": "2024-01-25T09:00:29.062Z"
   },
   {
    "duration": 100,
    "start_time": "2024-01-25T09:00:29.172Z"
   },
   {
    "duration": 11,
    "start_time": "2024-01-25T09:00:29.273Z"
   },
   {
    "duration": 1002,
    "start_time": "2024-01-25T09:00:29.286Z"
   },
   {
    "duration": 2680,
    "start_time": "2024-01-25T09:00:30.290Z"
   },
   {
    "duration": 190,
    "start_time": "2024-01-25T09:00:32.973Z"
   },
   {
    "duration": 48997,
    "start_time": "2024-01-25T09:01:20.275Z"
   },
   {
    "duration": 7,
    "start_time": "2024-01-25T09:05:44.554Z"
   },
   {
    "duration": 6,
    "start_time": "2024-01-25T09:05:48.778Z"
   },
   {
    "duration": 5,
    "start_time": "2024-01-25T09:06:08.887Z"
   },
   {
    "duration": 5,
    "start_time": "2024-01-25T09:06:10.217Z"
   },
   {
    "duration": 2398,
    "start_time": "2024-01-25T09:06:15.471Z"
   },
   {
    "duration": 5,
    "start_time": "2024-01-25T09:06:17.872Z"
   },
   {
    "duration": 1238,
    "start_time": "2024-01-25T09:06:17.878Z"
   },
   {
    "duration": 137,
    "start_time": "2024-01-25T09:06:19.118Z"
   },
   {
    "duration": 91,
    "start_time": "2024-01-25T09:06:19.262Z"
   },
   {
    "duration": 11,
    "start_time": "2024-01-25T09:06:19.357Z"
   },
   {
    "duration": 1028,
    "start_time": "2024-01-25T09:06:19.371Z"
   },
   {
    "duration": 2621,
    "start_time": "2024-01-25T09:06:20.452Z"
   },
   {
    "duration": 110,
    "start_time": "2024-01-25T09:06:23.074Z"
   },
   {
    "duration": 46396,
    "start_time": "2024-01-25T09:06:23.187Z"
   },
   {
    "duration": 62,
    "start_time": "2024-01-25T09:07:09.593Z"
   },
   {
    "duration": 13,
    "start_time": "2024-01-25T09:07:09.658Z"
   },
   {
    "duration": 4,
    "start_time": "2024-01-25T09:13:38.173Z"
   },
   {
    "duration": 4,
    "start_time": "2024-01-25T09:13:42.886Z"
   },
   {
    "duration": 232,
    "start_time": "2024-01-25T09:14:47.861Z"
   },
   {
    "duration": 83,
    "start_time": "2024-01-25T09:15:23.797Z"
   },
   {
    "duration": 9,
    "start_time": "2024-01-25T09:16:48.596Z"
   },
   {
    "duration": 4,
    "start_time": "2024-01-25T09:17:06.248Z"
   },
   {
    "duration": 22,
    "start_time": "2024-01-25T09:17:31.138Z"
   },
   {
    "duration": 11,
    "start_time": "2024-01-25T09:17:56.054Z"
   },
   {
    "duration": 7,
    "start_time": "2024-01-25T09:19:24.303Z"
   },
   {
    "duration": 36,
    "start_time": "2024-01-25T09:19:35.142Z"
   },
   {
    "duration": 19,
    "start_time": "2024-01-25T09:20:12.466Z"
   },
   {
    "duration": 434,
    "start_time": "2024-01-25T09:20:21.060Z"
   },
   {
    "duration": 55,
    "start_time": "2024-01-25T09:20:28.017Z"
   },
   {
    "duration": 4,
    "start_time": "2024-01-25T09:20:40.118Z"
   },
   {
    "duration": 2338,
    "start_time": "2024-01-25T09:21:07.923Z"
   },
   {
    "duration": 6,
    "start_time": "2024-01-25T09:21:10.266Z"
   },
   {
    "duration": 2315,
    "start_time": "2024-01-25T09:21:10.275Z"
   },
   {
    "duration": 169,
    "start_time": "2024-01-25T09:21:12.591Z"
   },
   {
    "duration": 34,
    "start_time": "2024-01-25T09:21:12.762Z"
   },
   {
    "duration": 61,
    "start_time": "2024-01-25T09:21:12.798Z"
   },
   {
    "duration": 1010,
    "start_time": "2024-01-25T09:21:12.861Z"
   },
   {
    "duration": 2514,
    "start_time": "2024-01-25T09:21:13.873Z"
   },
   {
    "duration": 175,
    "start_time": "2024-01-25T09:21:16.389Z"
   },
   {
    "duration": 42708,
    "start_time": "2024-01-25T09:21:16.568Z"
   },
   {
    "duration": 8,
    "start_time": "2024-01-25T09:21:59.278Z"
   },
   {
    "duration": 6,
    "start_time": "2024-01-25T09:22:15.379Z"
   },
   {
    "duration": 4,
    "start_time": "2024-01-25T09:22:21.402Z"
   },
   {
    "duration": 5,
    "start_time": "2024-01-25T09:22:21.728Z"
   },
   {
    "duration": 62,
    "start_time": "2024-01-25T09:22:28.009Z"
   },
   {
    "duration": 242,
    "start_time": "2024-01-25T09:22:40.440Z"
   },
   {
    "duration": 60,
    "start_time": "2024-01-25T09:22:46.698Z"
   },
   {
    "duration": 1646,
    "start_time": "2024-01-25T09:22:50.661Z"
   },
   {
    "duration": 27,
    "start_time": "2024-01-25T09:22:56.668Z"
   },
   {
    "duration": 17,
    "start_time": "2024-01-25T09:23:09.252Z"
   },
   {
    "duration": 9,
    "start_time": "2024-01-25T09:23:20.331Z"
   },
   {
    "duration": 12,
    "start_time": "2024-01-25T09:23:22.013Z"
   },
   {
    "duration": 30,
    "start_time": "2024-01-25T09:23:37.230Z"
   },
   {
    "duration": 14,
    "start_time": "2024-01-25T09:23:40.078Z"
   },
   {
    "duration": 30,
    "start_time": "2024-01-25T09:25:21.866Z"
   },
   {
    "duration": 17,
    "start_time": "2024-01-25T09:26:52.079Z"
   },
   {
    "duration": 71,
    "start_time": "2024-01-25T09:28:32.893Z"
   },
   {
    "duration": 3,
    "start_time": "2024-01-25T09:28:40.402Z"
   },
   {
    "duration": 751,
    "start_time": "2024-01-25T09:28:42.818Z"
   },
   {
    "duration": 84,
    "start_time": "2024-01-25T09:29:07.273Z"
   },
   {
    "duration": 59,
    "start_time": "2024-01-25T09:29:13.896Z"
   },
   {
    "duration": 29,
    "start_time": "2024-01-25T09:29:17.861Z"
   },
   {
    "duration": 27,
    "start_time": "2024-01-25T09:29:20.861Z"
   },
   {
    "duration": 139,
    "start_time": "2024-01-25T09:29:27.733Z"
   },
   {
    "duration": 203,
    "start_time": "2024-01-25T12:57:04.854Z"
   },
   {
    "duration": 310,
    "start_time": "2024-01-25T12:57:26.353Z"
   },
   {
    "duration": 12,
    "start_time": "2024-01-25T13:06:28.553Z"
   },
   {
    "duration": 99,
    "start_time": "2024-01-25T13:07:20.853Z"
   },
   {
    "duration": 311,
    "start_time": "2024-01-25T13:08:07.352Z"
   },
   {
    "duration": 202,
    "start_time": "2024-01-25T13:14:02.253Z"
   },
   {
    "duration": 14,
    "start_time": "2024-01-25T13:14:13.753Z"
   },
   {
    "duration": 106,
    "start_time": "2024-01-25T13:14:18.351Z"
   },
   {
    "duration": 5,
    "start_time": "2024-01-25T13:14:23.452Z"
   },
   {
    "duration": 8,
    "start_time": "2024-01-25T13:14:26.253Z"
   },
   {
    "duration": 109,
    "start_time": "2024-01-25T13:14:30.353Z"
   },
   {
    "duration": 198,
    "start_time": "2024-01-25T13:15:44.653Z"
   },
   {
    "duration": 11,
    "start_time": "2024-01-25T13:16:01.473Z"
   },
   {
    "duration": 103,
    "start_time": "2024-01-25T13:16:08.053Z"
   },
   {
    "duration": 11,
    "start_time": "2024-01-25T13:16:18.653Z"
   },
   {
    "duration": 384,
    "start_time": "2024-01-25T13:17:16.769Z"
   },
   {
    "duration": 112,
    "start_time": "2024-01-25T13:17:26.953Z"
   },
   {
    "duration": 109,
    "start_time": "2024-01-25T13:17:33.552Z"
   },
   {
    "duration": 13,
    "start_time": "2024-01-25T13:18:37.263Z"
   },
   {
    "duration": 10,
    "start_time": "2024-01-25T13:18:40.789Z"
   },
   {
    "duration": 114,
    "start_time": "2024-01-25T13:24:19.853Z"
   },
   {
    "duration": 103,
    "start_time": "2024-01-25T13:24:28.351Z"
   },
   {
    "duration": 22,
    "start_time": "2024-01-25T13:24:53.953Z"
   },
   {
    "duration": 198,
    "start_time": "2024-01-25T13:25:02.953Z"
   },
   {
    "duration": 111,
    "start_time": "2024-01-25T13:25:28.053Z"
   },
   {
    "duration": 99,
    "start_time": "2024-01-25T13:25:50.853Z"
   },
   {
    "duration": 99,
    "start_time": "2024-01-25T13:25:54.953Z"
   },
   {
    "duration": 198,
    "start_time": "2024-01-25T13:26:08.553Z"
   },
   {
    "duration": 101,
    "start_time": "2024-01-25T13:26:15.153Z"
   },
   {
    "duration": 106,
    "start_time": "2024-01-25T13:28:55.252Z"
   },
   {
    "duration": 103,
    "start_time": "2024-01-25T13:29:20.053Z"
   },
   {
    "duration": 108,
    "start_time": "2024-01-25T13:29:57.452Z"
   },
   {
    "duration": 110,
    "start_time": "2024-01-25T13:30:44.252Z"
   },
   {
    "duration": 199,
    "start_time": "2024-01-25T13:30:59.353Z"
   },
   {
    "duration": 604,
    "start_time": "2024-01-25T13:31:01.653Z"
   },
   {
    "duration": 299,
    "start_time": "2024-01-25T13:31:19.853Z"
   },
   {
    "duration": 201,
    "start_time": "2024-01-25T13:36:46.453Z"
   },
   {
    "duration": 207,
    "start_time": "2024-01-25T13:40:17.653Z"
   },
   {
    "duration": 108,
    "start_time": "2024-01-25T13:40:41.352Z"
   },
   {
    "duration": 198,
    "start_time": "2024-01-25T13:40:42.553Z"
   },
   {
    "duration": 106,
    "start_time": "2024-01-25T13:42:08.052Z"
   },
   {
    "duration": 204,
    "start_time": "2024-01-25T13:42:13.953Z"
   },
   {
    "duration": 198,
    "start_time": "2024-01-25T13:42:30.153Z"
   },
   {
    "duration": 297,
    "start_time": "2024-01-25T13:42:32.354Z"
   },
   {
    "duration": 107,
    "start_time": "2024-01-25T13:42:42.353Z"
   },
   {
    "duration": 107,
    "start_time": "2024-01-25T13:42:55.653Z"
   },
   {
    "duration": 203,
    "start_time": "2024-01-25T13:43:25.753Z"
   },
   {
    "duration": 106,
    "start_time": "2024-01-25T13:43:34.253Z"
   },
   {
    "duration": 113,
    "start_time": "2024-01-25T13:43:44.153Z"
   },
   {
    "duration": 114,
    "start_time": "2024-01-25T13:43:50.753Z"
   },
   {
    "duration": 208,
    "start_time": "2024-01-25T13:43:56.753Z"
   },
   {
    "duration": 107,
    "start_time": "2024-01-25T13:44:03.353Z"
   },
   {
    "duration": 28,
    "start_time": "2024-01-25T13:44:24.130Z"
   },
   {
    "duration": 2801,
    "start_time": "2024-01-25T13:44:31.553Z"
   },
   {
    "duration": 105,
    "start_time": "2024-01-25T13:44:38.361Z"
   },
   {
    "duration": 106,
    "start_time": "2024-01-25T13:44:46.553Z"
   },
   {
    "duration": 111,
    "start_time": "2024-01-25T13:44:49.952Z"
   },
   {
    "duration": 106,
    "start_time": "2024-01-25T13:44:57.953Z"
   },
   {
    "duration": 172,
    "start_time": "2024-01-25T13:45:20.579Z"
   },
   {
    "duration": 2803,
    "start_time": "2024-01-25T13:45:25.653Z"
   },
   {
    "duration": 104,
    "start_time": "2024-01-25T13:45:29.563Z"
   },
   {
    "duration": 16,
    "start_time": "2024-01-25T13:45:39.052Z"
   },
   {
    "duration": 198,
    "start_time": "2024-01-25T13:46:18.153Z"
   },
   {
    "duration": 106,
    "start_time": "2024-01-25T13:46:20.554Z"
   },
   {
    "duration": 100,
    "start_time": "2024-01-25T13:46:23.352Z"
   },
   {
    "duration": 103,
    "start_time": "2024-01-25T13:46:26.053Z"
   },
   {
    "duration": 12,
    "start_time": "2024-01-25T13:46:28.554Z"
   },
   {
    "duration": 101,
    "start_time": "2024-01-25T13:46:30.655Z"
   },
   {
    "duration": 109,
    "start_time": "2024-01-25T13:46:33.153Z"
   },
   {
    "duration": 101,
    "start_time": "2024-01-25T13:46:38.653Z"
   },
   {
    "duration": 102,
    "start_time": "2024-01-25T13:46:42.253Z"
   },
   {
    "duration": 110,
    "start_time": "2024-01-25T13:47:30.953Z"
   },
   {
    "duration": 101,
    "start_time": "2024-01-25T13:47:52.952Z"
   },
   {
    "duration": 101,
    "start_time": "2024-01-25T13:47:56.652Z"
   },
   {
    "duration": 14,
    "start_time": "2024-01-25T13:47:59.053Z"
   },
   {
    "duration": 101,
    "start_time": "2024-01-25T13:48:06.053Z"
   },
   {
    "duration": 106,
    "start_time": "2024-01-25T13:48:19.953Z"
   },
   {
    "duration": 105,
    "start_time": "2024-01-25T13:48:24.253Z"
   },
   {
    "duration": 106,
    "start_time": "2024-01-25T13:48:37.052Z"
   },
   {
    "duration": 113,
    "start_time": "2024-01-25T13:49:31.253Z"
   },
   {
    "duration": 108,
    "start_time": "2024-01-25T13:49:59.352Z"
   },
   {
    "duration": 187,
    "start_time": "2024-01-25T13:50:07.671Z"
   },
   {
    "duration": 107,
    "start_time": "2024-01-25T13:50:16.552Z"
   },
   {
    "duration": 105,
    "start_time": "2024-01-25T13:50:21.352Z"
   },
   {
    "duration": 106,
    "start_time": "2024-01-25T13:50:33.855Z"
   },
   {
    "duration": 202,
    "start_time": "2024-01-25T13:52:51.953Z"
   },
   {
    "duration": 119,
    "start_time": "2024-01-25T13:53:00.832Z"
   },
   {
    "duration": 201,
    "start_time": "2024-01-25T13:54:50.253Z"
   },
   {
    "duration": 34,
    "start_time": "2024-01-25T13:55:16.019Z"
   },
   {
    "duration": 15,
    "start_time": "2024-01-25T14:05:55.053Z"
   },
   {
    "duration": 216,
    "start_time": "2024-01-25T14:06:00.652Z"
   },
   {
    "duration": 100,
    "start_time": "2024-01-25T14:06:10.959Z"
   },
   {
    "duration": 98,
    "start_time": "2024-01-25T14:06:37.356Z"
   },
   {
    "duration": 10,
    "start_time": "2024-01-25T14:06:43.853Z"
   },
   {
    "duration": 44,
    "start_time": "2024-01-25T14:06:50.211Z"
   },
   {
    "duration": 99,
    "start_time": "2024-01-25T14:06:59.453Z"
   },
   {
    "duration": 101,
    "start_time": "2024-01-25T14:07:24.152Z"
   },
   {
    "duration": 103,
    "start_time": "2024-01-25T14:07:30.153Z"
   },
   {
    "duration": 8,
    "start_time": "2024-01-25T14:07:37.753Z"
   },
   {
    "duration": 11,
    "start_time": "2024-01-25T14:07:43.453Z"
   },
   {
    "duration": 5,
    "start_time": "2024-01-25T14:07:56.452Z"
   },
   {
    "duration": 16,
    "start_time": "2024-01-25T14:08:14.552Z"
   },
   {
    "duration": 100,
    "start_time": "2024-01-25T14:08:22.753Z"
   },
   {
    "duration": 93,
    "start_time": "2024-01-25T14:08:37.366Z"
   },
   {
    "duration": 6186,
    "start_time": "2024-01-27T12:03:43.522Z"
   },
   {
    "duration": 877,
    "start_time": "2024-01-27T12:03:54.738Z"
   },
   {
    "duration": 0,
    "start_time": "2024-01-27T12:03:55.617Z"
   },
   {
    "duration": 0,
    "start_time": "2024-01-27T12:03:55.618Z"
   },
   {
    "duration": 0,
    "start_time": "2024-01-27T12:03:55.619Z"
   },
   {
    "duration": 0,
    "start_time": "2024-01-27T12:03:55.620Z"
   },
   {
    "duration": 0,
    "start_time": "2024-01-27T12:03:55.621Z"
   },
   {
    "duration": 0,
    "start_time": "2024-01-27T12:03:55.622Z"
   },
   {
    "duration": 0,
    "start_time": "2024-01-27T12:03:55.623Z"
   },
   {
    "duration": 0,
    "start_time": "2024-01-27T12:03:55.624Z"
   },
   {
    "duration": 0,
    "start_time": "2024-01-27T12:03:55.625Z"
   },
   {
    "duration": 0,
    "start_time": "2024-01-27T12:03:55.626Z"
   },
   {
    "duration": 0,
    "start_time": "2024-01-27T12:03:55.627Z"
   },
   {
    "duration": 0,
    "start_time": "2024-01-27T12:03:55.628Z"
   },
   {
    "duration": 1,
    "start_time": "2024-01-27T12:03:55.628Z"
   },
   {
    "duration": 0,
    "start_time": "2024-01-27T12:03:55.629Z"
   },
   {
    "duration": 0,
    "start_time": "2024-01-27T12:03:55.630Z"
   },
   {
    "duration": 0,
    "start_time": "2024-01-27T12:03:55.631Z"
   },
   {
    "duration": 1164,
    "start_time": "2024-01-27T12:04:06.797Z"
   },
   {
    "duration": 5,
    "start_time": "2024-01-27T12:04:07.963Z"
   },
   {
    "duration": 1778,
    "start_time": "2024-01-27T12:04:07.969Z"
   },
   {
    "duration": 43,
    "start_time": "2024-01-27T12:04:09.749Z"
   },
   {
    "duration": 28,
    "start_time": "2024-01-27T12:04:09.793Z"
   },
   {
    "duration": 17,
    "start_time": "2024-01-27T12:04:09.823Z"
   },
   {
    "duration": 425,
    "start_time": "2024-01-27T12:04:09.842Z"
   },
   {
    "duration": 1105,
    "start_time": "2024-01-27T12:04:10.268Z"
   },
   {
    "duration": 43,
    "start_time": "2024-01-27T12:04:11.375Z"
   },
   {
    "duration": 18757,
    "start_time": "2024-01-27T12:04:11.419Z"
   },
   {
    "duration": 7,
    "start_time": "2024-01-27T12:04:30.178Z"
   },
   {
    "duration": 138,
    "start_time": "2024-01-27T12:04:30.187Z"
   },
   {
    "duration": 136,
    "start_time": "2024-01-27T12:04:30.327Z"
   },
   {
    "duration": 7,
    "start_time": "2024-01-27T12:04:30.464Z"
   },
   {
    "duration": 142,
    "start_time": "2024-01-27T12:04:30.472Z"
   },
   {
    "duration": 0,
    "start_time": "2024-01-27T12:04:30.616Z"
   },
   {
    "duration": 0,
    "start_time": "2024-01-27T12:04:30.617Z"
   },
   {
    "duration": 10,
    "start_time": "2024-01-27T12:04:44.562Z"
   },
   {
    "duration": 5,
    "start_time": "2024-01-27T12:06:26.227Z"
   },
   {
    "duration": 5,
    "start_time": "2024-01-27T12:06:29.754Z"
   },
   {
    "duration": 4,
    "start_time": "2024-01-27T12:06:35.834Z"
   },
   {
    "duration": 15,
    "start_time": "2024-01-27T12:06:44.914Z"
   },
   {
    "duration": 10,
    "start_time": "2024-01-27T12:06:47.491Z"
   },
   {
    "duration": 5,
    "start_time": "2024-01-27T12:06:49.594Z"
   },
   {
    "duration": 5,
    "start_time": "2024-01-27T12:06:58.562Z"
   },
   {
    "duration": 4,
    "start_time": "2024-01-27T12:07:01.218Z"
   },
   {
    "duration": 8,
    "start_time": "2024-01-27T12:14:48.476Z"
   },
   {
    "duration": 15,
    "start_time": "2024-01-27T12:15:00.174Z"
   },
   {
    "duration": 1202,
    "start_time": "2024-01-27T12:15:05.506Z"
   },
   {
    "duration": 5,
    "start_time": "2024-01-27T12:15:06.709Z"
   },
   {
    "duration": 2017,
    "start_time": "2024-01-27T12:15:06.716Z"
   },
   {
    "duration": 45,
    "start_time": "2024-01-27T12:15:08.736Z"
   },
   {
    "duration": 32,
    "start_time": "2024-01-27T12:15:08.783Z"
   },
   {
    "duration": 9,
    "start_time": "2024-01-27T12:15:08.816Z"
   },
   {
    "duration": 469,
    "start_time": "2024-01-27T12:15:08.826Z"
   },
   {
    "duration": 1157,
    "start_time": "2024-01-27T12:15:09.296Z"
   },
   {
    "duration": 53,
    "start_time": "2024-01-27T12:15:10.455Z"
   },
   {
    "duration": 19199,
    "start_time": "2024-01-27T12:15:10.510Z"
   },
   {
    "duration": 5,
    "start_time": "2024-01-27T12:15:29.711Z"
   },
   {
    "duration": 6,
    "start_time": "2024-01-27T12:16:03.028Z"
   },
   {
    "duration": 63,
    "start_time": "2024-01-27T12:16:10.701Z"
   },
   {
    "duration": 3,
    "start_time": "2024-01-27T12:16:11.858Z"
   },
   {
    "duration": 136,
    "start_time": "2024-01-27T12:16:14.574Z"
   },
   {
    "duration": 76,
    "start_time": "2024-01-27T12:16:17.500Z"
   },
   {
    "duration": 11,
    "start_time": "2024-01-27T12:16:27.068Z"
   },
   {
    "duration": 7,
    "start_time": "2024-01-27T12:16:35.653Z"
   },
   {
    "duration": 12,
    "start_time": "2024-01-27T12:16:41.652Z"
   },
   {
    "duration": 5,
    "start_time": "2024-01-27T12:18:54.215Z"
   },
   {
    "duration": 9,
    "start_time": "2024-01-27T12:20:01.910Z"
   },
   {
    "duration": 3,
    "start_time": "2024-01-27T12:20:18.366Z"
   },
   {
    "duration": 7,
    "start_time": "2024-01-27T12:20:27.005Z"
   },
   {
    "duration": 19,
    "start_time": "2024-01-27T12:20:38.846Z"
   },
   {
    "duration": 19,
    "start_time": "2024-01-27T12:20:45.718Z"
   },
   {
    "duration": 19,
    "start_time": "2024-01-27T12:20:59.814Z"
   },
   {
    "duration": 5,
    "start_time": "2024-01-27T12:21:09.217Z"
   },
   {
    "duration": 20,
    "start_time": "2024-01-27T12:21:17.302Z"
   },
   {
    "duration": 6,
    "start_time": "2024-01-27T12:21:27.103Z"
   },
   {
    "duration": 4,
    "start_time": "2024-01-27T12:21:32.142Z"
   },
   {
    "duration": 19,
    "start_time": "2024-01-27T12:21:34.950Z"
   },
   {
    "duration": 5,
    "start_time": "2024-01-27T12:21:54.527Z"
   },
   {
    "duration": 5,
    "start_time": "2024-01-27T12:21:56.998Z"
   },
   {
    "duration": 19,
    "start_time": "2024-01-27T12:21:59.206Z"
   },
   {
    "duration": 5,
    "start_time": "2024-01-27T12:22:07.694Z"
   },
   {
    "duration": 9,
    "start_time": "2024-01-27T12:22:11.045Z"
   },
   {
    "duration": 230,
    "start_time": "2024-01-27T12:22:25.336Z"
   },
   {
    "duration": 22,
    "start_time": "2024-01-27T12:22:34.930Z"
   },
   {
    "duration": 5,
    "start_time": "2024-01-27T12:22:44.558Z"
   },
   {
    "duration": 4,
    "start_time": "2024-01-27T12:28:48.304Z"
   },
   {
    "duration": 5,
    "start_time": "2024-01-27T12:31:15.033Z"
   },
   {
    "duration": 21,
    "start_time": "2024-01-27T12:31:16.249Z"
   },
   {
    "duration": 4,
    "start_time": "2024-01-27T12:31:16.577Z"
   },
   {
    "duration": 2239,
    "start_time": "2024-01-27T12:31:41.977Z"
   },
   {
    "duration": 1223,
    "start_time": "2024-01-27T12:31:47.036Z"
   },
   {
    "duration": 5,
    "start_time": "2024-01-27T12:31:48.261Z"
   },
   {
    "duration": 2206,
    "start_time": "2024-01-27T12:31:48.268Z"
   },
   {
    "duration": 48,
    "start_time": "2024-01-27T12:31:50.476Z"
   },
   {
    "duration": 52,
    "start_time": "2024-01-27T12:31:50.527Z"
   },
   {
    "duration": 19,
    "start_time": "2024-01-27T12:31:50.580Z"
   },
   {
    "duration": 549,
    "start_time": "2024-01-27T12:31:50.601Z"
   },
   {
    "duration": 1516,
    "start_time": "2024-01-27T12:31:51.152Z"
   },
   {
    "duration": 392,
    "start_time": "2024-01-27T12:31:52.670Z"
   },
   {
    "duration": 19640,
    "start_time": "2024-01-27T12:31:53.065Z"
   },
   {
    "duration": 5,
    "start_time": "2024-01-27T12:32:12.707Z"
   },
   {
    "duration": 20,
    "start_time": "2024-01-27T12:32:12.714Z"
   },
   {
    "duration": 146,
    "start_time": "2024-01-27T12:32:12.735Z"
   },
   {
    "duration": 2,
    "start_time": "2024-01-27T12:32:12.885Z"
   },
   {
    "duration": 145,
    "start_time": "2024-01-27T12:32:12.889Z"
   },
   {
    "duration": 1,
    "start_time": "2024-01-27T12:32:13.035Z"
   },
   {
    "duration": 0,
    "start_time": "2024-01-27T12:32:13.037Z"
   },
   {
    "duration": 0,
    "start_time": "2024-01-27T12:32:13.038Z"
   },
   {
    "duration": 0,
    "start_time": "2024-01-27T12:32:13.040Z"
   },
   {
    "duration": 0,
    "start_time": "2024-01-27T12:32:13.041Z"
   },
   {
    "duration": 13,
    "start_time": "2024-01-27T12:32:16.265Z"
   },
   {
    "duration": 8,
    "start_time": "2024-01-27T12:32:16.593Z"
   },
   {
    "duration": 1543,
    "start_time": "2024-01-27T12:32:17.185Z"
   },
   {
    "duration": 6,
    "start_time": "2024-01-27T12:32:18.731Z"
   },
   {
    "duration": 1180,
    "start_time": "2024-01-27T12:32:54.675Z"
   },
   {
    "duration": 10,
    "start_time": "2024-01-27T12:32:55.857Z"
   },
   {
    "duration": 6337,
    "start_time": "2024-01-27T12:32:55.869Z"
   },
   {
    "duration": 58,
    "start_time": "2024-01-27T12:33:02.208Z"
   },
   {
    "duration": 87,
    "start_time": "2024-01-27T12:33:02.268Z"
   },
   {
    "duration": 61,
    "start_time": "2024-01-27T12:33:02.356Z"
   },
   {
    "duration": 1220,
    "start_time": "2024-01-27T12:33:02.419Z"
   },
   {
    "duration": 4793,
    "start_time": "2024-01-27T12:33:03.641Z"
   },
   {
    "duration": 3689,
    "start_time": "2024-01-27T12:33:08.435Z"
   },
   {
    "duration": 19209,
    "start_time": "2024-01-27T12:33:12.126Z"
   },
   {
    "duration": 5,
    "start_time": "2024-01-27T12:33:31.337Z"
   },
   {
    "duration": 98,
    "start_time": "2024-01-27T12:33:31.344Z"
   },
   {
    "duration": 1305,
    "start_time": "2024-01-27T12:33:31.445Z"
   },
   {
    "duration": 3,
    "start_time": "2024-01-27T12:33:32.752Z"
   },
   {
    "duration": 209,
    "start_time": "2024-01-27T12:33:32.756Z"
   },
   {
    "duration": 0,
    "start_time": "2024-01-27T12:33:32.967Z"
   },
   {
    "duration": 0,
    "start_time": "2024-01-27T12:33:32.967Z"
   },
   {
    "duration": 0,
    "start_time": "2024-01-27T12:33:32.968Z"
   },
   {
    "duration": 0,
    "start_time": "2024-01-27T12:33:32.970Z"
   },
   {
    "duration": 0,
    "start_time": "2024-01-27T12:33:32.971Z"
   },
   {
    "duration": 102,
    "start_time": "2024-01-27T12:33:37.346Z"
   },
   {
    "duration": 43,
    "start_time": "2024-01-27T12:33:37.985Z"
   },
   {
    "duration": 1119,
    "start_time": "2024-01-27T12:34:58.524Z"
   },
   {
    "duration": 4,
    "start_time": "2024-01-27T12:34:59.645Z"
   },
   {
    "duration": 5273,
    "start_time": "2024-01-27T12:34:59.651Z"
   },
   {
    "duration": 59,
    "start_time": "2024-01-27T12:35:04.926Z"
   },
   {
    "duration": 90,
    "start_time": "2024-01-27T12:35:04.988Z"
   },
   {
    "duration": 52,
    "start_time": "2024-01-27T12:35:05.080Z"
   },
   {
    "duration": 1185,
    "start_time": "2024-01-27T12:35:05.133Z"
   },
   {
    "duration": 4723,
    "start_time": "2024-01-27T12:35:06.320Z"
   },
   {
    "duration": 3643,
    "start_time": "2024-01-27T12:35:11.044Z"
   },
   {
    "duration": 19053,
    "start_time": "2024-01-27T12:35:14.689Z"
   },
   {
    "duration": 5,
    "start_time": "2024-01-27T12:35:33.744Z"
   },
   {
    "duration": 60,
    "start_time": "2024-01-27T12:35:33.751Z"
   },
   {
    "duration": 2490,
    "start_time": "2024-01-27T12:35:33.812Z"
   },
   {
    "duration": 2,
    "start_time": "2024-01-27T12:35:36.305Z"
   },
   {
    "duration": 376,
    "start_time": "2024-01-27T12:35:36.309Z"
   },
   {
    "duration": 0,
    "start_time": "2024-01-27T12:35:36.687Z"
   },
   {
    "duration": 0,
    "start_time": "2024-01-27T12:35:36.688Z"
   },
   {
    "duration": 0,
    "start_time": "2024-01-27T12:35:36.690Z"
   },
   {
    "duration": 99,
    "start_time": "2024-01-27T12:35:39.291Z"
   },
   {
    "duration": 43,
    "start_time": "2024-01-27T12:35:39.602Z"
   },
   {
    "duration": 1253,
    "start_time": "2024-01-27T12:36:33.127Z"
   },
   {
    "duration": 4,
    "start_time": "2024-01-27T12:36:34.382Z"
   },
   {
    "duration": 5345,
    "start_time": "2024-01-27T12:36:34.388Z"
   },
   {
    "duration": 57,
    "start_time": "2024-01-27T12:36:39.735Z"
   },
   {
    "duration": 96,
    "start_time": "2024-01-27T12:36:39.794Z"
   },
   {
    "duration": 52,
    "start_time": "2024-01-27T12:36:39.893Z"
   },
   {
    "duration": 1211,
    "start_time": "2024-01-27T12:36:39.947Z"
   },
   {
    "duration": 4621,
    "start_time": "2024-01-27T12:36:41.160Z"
   },
   {
    "duration": 3590,
    "start_time": "2024-01-27T12:36:45.783Z"
   },
   {
    "duration": 19617,
    "start_time": "2024-01-27T12:36:49.375Z"
   },
   {
    "duration": 7,
    "start_time": "2024-01-27T12:37:08.994Z"
   },
   {
    "duration": 56,
    "start_time": "2024-01-27T12:37:09.003Z"
   },
   {
    "duration": 1257,
    "start_time": "2024-01-27T12:37:09.061Z"
   },
   {
    "duration": 3,
    "start_time": "2024-01-27T12:37:10.320Z"
   },
   {
    "duration": 7,
    "start_time": "2024-01-27T12:37:10.324Z"
   },
   {
    "duration": 1345,
    "start_time": "2024-01-27T12:37:10.332Z"
   },
   {
    "duration": 0,
    "start_time": "2024-01-27T12:37:11.680Z"
   },
   {
    "duration": 0,
    "start_time": "2024-01-27T12:37:11.681Z"
   },
   {
    "duration": 0,
    "start_time": "2024-01-27T12:37:11.682Z"
   },
   {
    "duration": 0,
    "start_time": "2024-01-27T12:37:11.684Z"
   },
   {
    "duration": 53,
    "start_time": "2024-01-27T12:37:42.443Z"
   },
   {
    "duration": 50,
    "start_time": "2024-01-27T12:37:42.810Z"
   },
   {
    "duration": 1517,
    "start_time": "2024-01-27T12:37:43.250Z"
   },
   {
    "duration": 9,
    "start_time": "2024-01-27T12:37:44.825Z"
   },
   {
    "duration": 1287,
    "start_time": "2024-01-27T12:37:53.427Z"
   },
   {
    "duration": 5,
    "start_time": "2024-01-27T12:37:55.946Z"
   },
   {
    "duration": 4,
    "start_time": "2024-01-27T12:38:04.322Z"
   },
   {
    "duration": 6381,
    "start_time": "2024-01-27T12:38:15.515Z"
   },
   {
    "duration": 12606,
    "start_time": "2024-01-27T12:38:33.002Z"
   },
   {
    "duration": 4,
    "start_time": "2024-01-27T12:38:50.356Z"
   },
   {
    "duration": 1488,
    "start_time": "2024-01-27T12:56:40.265Z"
   },
   {
    "duration": 6,
    "start_time": "2024-01-27T12:56:41.755Z"
   },
   {
    "duration": 6325,
    "start_time": "2024-01-27T12:56:41.766Z"
   },
   {
    "duration": 53,
    "start_time": "2024-01-27T12:56:48.093Z"
   },
   {
    "duration": 82,
    "start_time": "2024-01-27T12:56:48.166Z"
   },
   {
    "duration": 67,
    "start_time": "2024-01-27T12:56:48.249Z"
   },
   {
    "duration": 1188,
    "start_time": "2024-01-27T12:56:48.317Z"
   },
   {
    "duration": 4645,
    "start_time": "2024-01-27T12:56:49.507Z"
   },
   {
    "duration": 3621,
    "start_time": "2024-01-27T12:56:54.154Z"
   },
   {
    "duration": 19157,
    "start_time": "2024-01-27T12:56:57.777Z"
   },
   {
    "duration": 8,
    "start_time": "2024-01-27T12:57:16.936Z"
   },
   {
    "duration": 58,
    "start_time": "2024-01-27T12:57:16.945Z"
   },
   {
    "duration": 1254,
    "start_time": "2024-01-27T12:57:17.005Z"
   },
   {
    "duration": 7,
    "start_time": "2024-01-27T12:57:18.260Z"
   },
   {
    "duration": 15,
    "start_time": "2024-01-27T12:57:18.269Z"
   },
   {
    "duration": 7,
    "start_time": "2024-01-27T12:57:18.285Z"
   },
   {
    "duration": 70,
    "start_time": "2024-01-27T12:57:18.294Z"
   },
   {
    "duration": 17,
    "start_time": "2024-01-27T12:57:18.366Z"
   },
   {
    "duration": 115711,
    "start_time": "2024-01-27T12:57:18.384Z"
   },
   {
    "duration": 106,
    "start_time": "2024-01-27T12:59:14.097Z"
   },
   {
    "duration": 12,
    "start_time": "2024-01-27T12:59:23.681Z"
   },
   {
    "duration": 9,
    "start_time": "2024-01-27T12:59:33.147Z"
   },
   {
    "duration": 10,
    "start_time": "2024-01-27T12:59:37.897Z"
   },
   {
    "duration": 1498,
    "start_time": "2024-01-27T13:01:11.508Z"
   },
   {
    "duration": 5,
    "start_time": "2024-01-27T13:01:13.008Z"
   },
   {
    "duration": 61823,
    "start_time": "2024-01-27T13:01:13.014Z"
   },
   {
    "duration": 162,
    "start_time": "2024-01-27T13:02:14.840Z"
   },
   {
    "duration": 85,
    "start_time": "2024-01-27T13:02:15.004Z"
   },
   {
    "duration": 483,
    "start_time": "2024-01-27T13:02:15.091Z"
   },
   {
    "duration": 8139,
    "start_time": "2024-01-27T13:02:15.576Z"
   },
   {
    "duration": 1314,
    "start_time": "2024-01-27T13:02:56.994Z"
   },
   {
    "duration": 4,
    "start_time": "2024-01-27T13:02:58.310Z"
   },
   {
    "duration": 54335,
    "start_time": "2024-01-27T13:02:58.316Z"
   },
   {
    "duration": 171,
    "start_time": "2024-01-27T13:03:52.654Z"
   },
   {
    "duration": 73,
    "start_time": "2024-01-27T13:03:52.826Z"
   },
   {
    "duration": 490,
    "start_time": "2024-01-27T13:03:52.901Z"
   },
   {
    "duration": 8201,
    "start_time": "2024-01-27T13:03:53.393Z"
   },
   {
    "duration": 1340,
    "start_time": "2024-01-27T13:04:14.283Z"
   },
   {
    "duration": 5,
    "start_time": "2024-01-27T13:04:15.625Z"
   },
   {
    "duration": 53422,
    "start_time": "2024-01-27T13:04:15.632Z"
   },
   {
    "duration": 174,
    "start_time": "2024-01-27T13:05:09.056Z"
   },
   {
    "duration": 77,
    "start_time": "2024-01-27T13:05:09.232Z"
   },
   {
    "duration": 491,
    "start_time": "2024-01-27T13:05:09.311Z"
   },
   {
    "duration": 8173,
    "start_time": "2024-01-27T13:05:09.804Z"
   },
   {
    "duration": 1664,
    "start_time": "2024-01-27T13:14:45.224Z"
   },
   {
    "duration": 5,
    "start_time": "2024-01-27T13:14:46.890Z"
   },
   {
    "duration": 82364,
    "start_time": "2024-01-27T13:14:46.896Z"
   },
   {
    "duration": 160,
    "start_time": "2024-01-27T13:16:09.262Z"
   },
   {
    "duration": 74,
    "start_time": "2024-01-27T13:16:09.424Z"
   },
   {
    "duration": 487,
    "start_time": "2024-01-27T13:16:09.499Z"
   },
   {
    "duration": 8292,
    "start_time": "2024-01-27T13:16:09.988Z"
   },
   {
    "duration": 46,
    "start_time": "2024-01-27T13:21:12.163Z"
   },
   {
    "duration": 1259,
    "start_time": "2024-01-27T13:21:16.614Z"
   },
   {
    "duration": 5,
    "start_time": "2024-01-27T13:21:17.874Z"
   },
   {
    "duration": 54433,
    "start_time": "2024-01-27T13:21:17.880Z"
   },
   {
    "duration": 170,
    "start_time": "2024-01-27T13:22:12.315Z"
   },
   {
    "duration": 80,
    "start_time": "2024-01-27T13:22:12.486Z"
   },
   {
    "duration": 511,
    "start_time": "2024-01-27T13:22:12.567Z"
   },
   {
    "duration": 8251,
    "start_time": "2024-01-27T13:22:13.079Z"
   },
   {
    "duration": 51,
    "start_time": "2024-01-27T13:33:06.713Z"
   },
   {
    "duration": 1315,
    "start_time": "2024-01-27T13:33:11.493Z"
   },
   {
    "duration": 5,
    "start_time": "2024-01-27T13:33:12.809Z"
   },
   {
    "duration": 61361,
    "start_time": "2024-01-27T13:33:12.815Z"
   },
   {
    "duration": 156,
    "start_time": "2024-01-27T13:34:14.178Z"
   },
   {
    "duration": 69,
    "start_time": "2024-01-27T13:34:14.335Z"
   },
   {
    "duration": 480,
    "start_time": "2024-01-27T13:34:14.406Z"
   },
   {
    "duration": 8065,
    "start_time": "2024-01-27T13:34:14.887Z"
   },
   {
    "duration": 22449,
    "start_time": "2024-01-27T13:41:23.421Z"
   },
   {
    "duration": 52,
    "start_time": "2024-01-27T13:52:33.957Z"
   },
   {
    "duration": 0,
    "start_time": "2024-01-27T13:52:34.011Z"
   },
   {
    "duration": 0,
    "start_time": "2024-01-27T13:52:34.013Z"
   },
   {
    "duration": 0,
    "start_time": "2024-01-27T13:52:34.014Z"
   },
   {
    "duration": 0,
    "start_time": "2024-01-27T13:52:34.015Z"
   },
   {
    "duration": 0,
    "start_time": "2024-01-27T13:52:34.017Z"
   },
   {
    "duration": 0,
    "start_time": "2024-01-27T13:52:34.018Z"
   },
   {
    "duration": 0,
    "start_time": "2024-01-27T13:52:34.020Z"
   },
   {
    "duration": 0,
    "start_time": "2024-01-27T13:52:34.021Z"
   },
   {
    "duration": 0,
    "start_time": "2024-01-27T13:52:34.023Z"
   },
   {
    "duration": 0,
    "start_time": "2024-01-27T13:52:34.024Z"
   },
   {
    "duration": 0,
    "start_time": "2024-01-27T13:52:34.025Z"
   },
   {
    "duration": 0,
    "start_time": "2024-01-27T13:52:34.026Z"
   },
   {
    "duration": 1332,
    "start_time": "2024-01-27T13:52:41.780Z"
   },
   {
    "duration": 5,
    "start_time": "2024-01-27T13:52:43.114Z"
   },
   {
    "duration": 64722,
    "start_time": "2024-01-27T13:52:43.120Z"
   },
   {
    "duration": 154,
    "start_time": "2024-01-27T13:53:47.844Z"
   },
   {
    "duration": 68,
    "start_time": "2024-01-27T13:53:47.999Z"
   },
   {
    "duration": 486,
    "start_time": "2024-01-27T13:53:48.069Z"
   },
   {
    "duration": 8802,
    "start_time": "2024-01-27T13:53:48.556Z"
   },
   {
    "duration": 22152,
    "start_time": "2024-01-27T13:53:59.662Z"
   },
   {
    "duration": 8,
    "start_time": "2024-01-27T13:54:45.345Z"
   },
   {
    "duration": 8,
    "start_time": "2024-01-27T13:54:53.576Z"
   },
   {
    "duration": 9,
    "start_time": "2024-01-27T13:54:57.510Z"
   },
   {
    "duration": 9,
    "start_time": "2024-01-27T13:55:00.434Z"
   },
   {
    "duration": 24362,
    "start_time": "2024-01-27T13:57:18.155Z"
   },
   {
    "duration": 5,
    "start_time": "2024-01-27T13:57:42.519Z"
   },
   {
    "duration": 387,
    "start_time": "2024-01-27T13:57:42.525Z"
   },
   {
    "duration": 61491,
    "start_time": "2024-01-27T13:57:42.914Z"
   },
   {
    "duration": 4,
    "start_time": "2024-01-27T13:58:44.406Z"
   },
   {
    "duration": 14,
    "start_time": "2024-01-27T13:58:44.411Z"
   },
   {
    "duration": 41,
    "start_time": "2024-01-27T13:58:44.426Z"
   },
   {
    "duration": 671,
    "start_time": "2024-01-27T13:59:41.118Z"
   },
   {
    "duration": 153,
    "start_time": "2024-01-27T13:59:41.958Z"
   },
   {
    "duration": 1399,
    "start_time": "2024-01-27T14:03:00.302Z"
   },
   {
    "duration": 5,
    "start_time": "2024-01-27T14:03:01.702Z"
   },
   {
    "duration": 58770,
    "start_time": "2024-01-27T14:03:01.709Z"
   },
   {
    "duration": 167,
    "start_time": "2024-01-27T14:04:00.482Z"
   },
   {
    "duration": 71,
    "start_time": "2024-01-27T14:04:00.650Z"
   },
   {
    "duration": 489,
    "start_time": "2024-01-27T14:04:00.723Z"
   },
   {
    "duration": 8116,
    "start_time": "2024-01-27T14:04:01.214Z"
   },
   {
    "duration": 22125,
    "start_time": "2024-01-27T14:04:09.331Z"
   },
   {
    "duration": 15,
    "start_time": "2024-01-27T14:04:31.458Z"
   },
   {
    "duration": 23207,
    "start_time": "2024-01-27T14:04:31.476Z"
   },
   {
    "duration": 6,
    "start_time": "2024-01-27T14:04:54.684Z"
   },
   {
    "duration": 375,
    "start_time": "2024-01-27T14:04:54.692Z"
   },
   {
    "duration": 57380,
    "start_time": "2024-01-27T14:04:55.069Z"
   },
   {
    "duration": 2,
    "start_time": "2024-01-27T14:05:52.450Z"
   },
   {
    "duration": 6,
    "start_time": "2024-01-27T14:05:52.454Z"
   },
   {
    "duration": 2,
    "start_time": "2024-01-27T14:05:52.466Z"
   },
   {
    "duration": 194,
    "start_time": "2024-01-27T14:09:02.607Z"
   },
   {
    "duration": 674,
    "start_time": "2024-01-27T14:09:09.467Z"
   },
   {
    "duration": 165,
    "start_time": "2024-01-27T14:09:10.143Z"
   },
   {
    "duration": 127,
    "start_time": "2024-01-27T14:09:52.686Z"
   },
   {
    "duration": 1289,
    "start_time": "2024-01-27T14:10:03.212Z"
   },
   {
    "duration": 5,
    "start_time": "2024-01-27T14:10:04.503Z"
   },
   {
    "duration": 57054,
    "start_time": "2024-01-27T14:10:04.509Z"
   },
   {
    "duration": 155,
    "start_time": "2024-01-27T14:11:01.566Z"
   },
   {
    "duration": 74,
    "start_time": "2024-01-27T14:11:01.723Z"
   },
   {
    "duration": 432,
    "start_time": "2024-01-27T14:11:01.799Z"
   },
   {
    "duration": 8128,
    "start_time": "2024-01-27T14:11:02.232Z"
   },
   {
    "duration": 22356,
    "start_time": "2024-01-27T14:11:10.365Z"
   },
   {
    "duration": 11,
    "start_time": "2024-01-27T14:11:32.723Z"
   },
   {
    "duration": 23121,
    "start_time": "2024-01-27T14:11:32.737Z"
   },
   {
    "duration": 10,
    "start_time": "2024-01-27T14:11:55.860Z"
   },
   {
    "duration": 399,
    "start_time": "2024-01-27T14:11:55.872Z"
   },
   {
    "duration": 57962,
    "start_time": "2024-01-27T14:11:56.272Z"
   },
   {
    "duration": 3,
    "start_time": "2024-01-27T14:12:54.236Z"
   },
   {
    "duration": 4,
    "start_time": "2024-01-27T14:12:54.241Z"
   },
   {
    "duration": 5,
    "start_time": "2024-01-27T14:12:54.247Z"
   },
   {
    "duration": 664,
    "start_time": "2024-01-27T14:12:54.253Z"
   },
   {
    "duration": 1428,
    "start_time": "2024-01-27T14:13:59.556Z"
   },
   {
    "duration": 5,
    "start_time": "2024-01-27T14:14:00.986Z"
   },
   {
    "duration": 52749,
    "start_time": "2024-01-27T14:14:00.992Z"
   },
   {
    "duration": 166,
    "start_time": "2024-01-27T14:14:53.743Z"
   },
   {
    "duration": 75,
    "start_time": "2024-01-27T14:14:53.911Z"
   },
   {
    "duration": 488,
    "start_time": "2024-01-27T14:14:53.988Z"
   },
   {
    "duration": 8150,
    "start_time": "2024-01-27T14:14:54.477Z"
   },
   {
    "duration": 22294,
    "start_time": "2024-01-27T14:15:02.629Z"
   },
   {
    "duration": 12,
    "start_time": "2024-01-27T14:15:24.924Z"
   },
   {
    "duration": 22734,
    "start_time": "2024-01-27T14:15:24.938Z"
   },
   {
    "duration": 5,
    "start_time": "2024-01-27T14:15:47.673Z"
   },
   {
    "duration": 369,
    "start_time": "2024-01-27T14:15:47.680Z"
   },
   {
    "duration": 59385,
    "start_time": "2024-01-27T14:15:48.051Z"
   },
   {
    "duration": 3,
    "start_time": "2024-01-27T14:16:47.438Z"
   },
   {
    "duration": 6,
    "start_time": "2024-01-27T14:16:47.442Z"
   },
   {
    "duration": 3,
    "start_time": "2024-01-27T14:16:47.450Z"
   },
   {
    "duration": 673,
    "start_time": "2024-01-27T14:16:47.454Z"
   },
   {
    "duration": 1359,
    "start_time": "2024-01-27T14:18:23.937Z"
   },
   {
    "duration": 4,
    "start_time": "2024-01-27T14:18:25.298Z"
   },
   {
    "duration": 55803,
    "start_time": "2024-01-27T14:18:25.304Z"
   },
   {
    "duration": 157,
    "start_time": "2024-01-27T14:19:21.109Z"
   },
   {
    "duration": 62,
    "start_time": "2024-01-27T14:19:21.268Z"
   },
   {
    "duration": 452,
    "start_time": "2024-01-27T14:19:21.331Z"
   },
   {
    "duration": 8191,
    "start_time": "2024-01-27T14:19:21.784Z"
   },
   {
    "duration": 1407,
    "start_time": "2024-01-27T14:22:13.632Z"
   },
   {
    "duration": 4,
    "start_time": "2024-01-27T14:22:15.042Z"
   },
   {
    "duration": 75757,
    "start_time": "2024-01-27T14:22:15.048Z"
   },
   {
    "duration": 168,
    "start_time": "2024-01-27T14:23:30.807Z"
   },
   {
    "duration": 63,
    "start_time": "2024-01-27T14:23:30.976Z"
   },
   {
    "duration": 496,
    "start_time": "2024-01-27T14:23:31.040Z"
   },
   {
    "duration": 8199,
    "start_time": "2024-01-27T14:23:31.538Z"
   },
   {
    "duration": 22739,
    "start_time": "2024-01-27T14:23:39.739Z"
   },
   {
    "duration": 9,
    "start_time": "2024-01-27T14:24:02.480Z"
   },
   {
    "duration": 23010,
    "start_time": "2024-01-27T14:24:02.491Z"
   },
   {
    "duration": 6,
    "start_time": "2024-01-27T14:24:25.502Z"
   },
   {
    "duration": 413,
    "start_time": "2024-01-27T14:24:25.509Z"
   },
   {
    "duration": 60929,
    "start_time": "2024-01-27T14:24:25.924Z"
   },
   {
    "duration": 3,
    "start_time": "2024-01-27T14:25:26.855Z"
   },
   {
    "duration": 40,
    "start_time": "2024-01-27T14:25:26.865Z"
   },
   {
    "duration": 38,
    "start_time": "2024-01-27T14:25:26.906Z"
   },
   {
    "duration": 680,
    "start_time": "2024-01-27T14:25:26.945Z"
   },
   {
    "duration": 149,
    "start_time": "2024-01-27T14:25:32.679Z"
   },
   {
    "duration": 7116,
    "start_time": "2024-01-27T14:25:36.293Z"
   },
   {
    "duration": 9040,
    "start_time": "2024-01-27T14:25:48.728Z"
   },
   {
    "duration": 2051,
    "start_time": "2024-01-27T14:28:21.526Z"
   },
   {
    "duration": 4,
    "start_time": "2024-01-27T14:28:23.580Z"
   },
   {
    "duration": 95406,
    "start_time": "2024-01-27T14:28:23.586Z"
   },
   {
    "duration": 306,
    "start_time": "2024-01-27T14:29:58.994Z"
   },
   {
    "duration": 211,
    "start_time": "2024-01-27T14:29:59.302Z"
   },
   {
    "duration": 2007,
    "start_time": "2024-01-27T14:29:59.565Z"
   },
   {
    "duration": 52213,
    "start_time": "2024-01-27T14:30:01.574Z"
   },
   {
    "duration": 45300,
    "start_time": "2024-01-27T14:30:53.788Z"
   },
   {
    "duration": 9,
    "start_time": "2024-01-27T14:31:39.090Z"
   },
   {
    "duration": 90076,
    "start_time": "2024-01-27T14:31:39.102Z"
   },
   {
    "duration": 5,
    "start_time": "2024-01-27T14:33:09.180Z"
   },
   {
    "duration": 1079,
    "start_time": "2024-01-27T14:33:09.187Z"
   },
   {
    "duration": 2830,
    "start_time": "2024-01-27T14:41:08.644Z"
   },
   {
    "duration": 5,
    "start_time": "2024-01-27T14:41:11.476Z"
   },
   {
    "duration": 107428,
    "start_time": "2024-01-27T14:41:11.483Z"
   },
   {
    "duration": 364,
    "start_time": "2024-01-27T14:42:58.913Z"
   },
   {
    "duration": 202,
    "start_time": "2024-01-27T14:42:59.279Z"
   },
   {
    "duration": 2014,
    "start_time": "2024-01-27T14:42:59.483Z"
   },
   {
    "duration": 51279,
    "start_time": "2024-01-27T14:43:01.498Z"
   },
   {
    "duration": 45811,
    "start_time": "2024-01-27T14:43:52.779Z"
   },
   {
    "duration": 75,
    "start_time": "2024-01-27T14:44:38.592Z"
   },
   {
    "duration": 86514,
    "start_time": "2024-01-27T14:44:38.670Z"
   },
   {
    "duration": 6,
    "start_time": "2024-01-27T14:46:05.186Z"
   },
   {
    "duration": 1075,
    "start_time": "2024-01-27T14:46:05.194Z"
   },
   {
    "duration": 36896,
    "start_time": "2024-01-27T14:46:06.271Z"
   },
   {
    "duration": 3,
    "start_time": "2024-01-27T14:46:43.168Z"
   },
   {
    "duration": 27,
    "start_time": "2024-01-27T14:46:43.173Z"
   },
   {
    "duration": 64,
    "start_time": "2024-01-27T14:46:43.202Z"
   },
   {
    "duration": 2800,
    "start_time": "2024-01-27T14:52:21.017Z"
   },
   {
    "duration": 5,
    "start_time": "2024-01-27T14:52:23.819Z"
   },
   {
    "duration": 103937,
    "start_time": "2024-01-27T14:52:23.865Z"
   },
   {
    "duration": 372,
    "start_time": "2024-01-27T14:54:07.804Z"
   },
   {
    "duration": 195,
    "start_time": "2024-01-27T14:54:08.179Z"
   },
   {
    "duration": 2006,
    "start_time": "2024-01-27T14:54:08.376Z"
   },
   {
    "duration": 51116,
    "start_time": "2024-01-27T14:54:10.383Z"
   },
   {
    "duration": 45900,
    "start_time": "2024-01-27T14:55:01.500Z"
   },
   {
    "duration": 64,
    "start_time": "2024-01-27T14:55:47.402Z"
   },
   {
    "duration": 84133,
    "start_time": "2024-01-27T14:55:47.468Z"
   },
   {
    "duration": 6,
    "start_time": "2024-01-27T14:57:11.603Z"
   },
   {
    "duration": 1066,
    "start_time": "2024-01-27T14:57:11.610Z"
   },
   {
    "duration": 8319,
    "start_time": "2024-01-27T21:33:07.566Z"
   },
   {
    "duration": 803,
    "start_time": "2024-01-27T21:33:50.566Z"
   },
   {
    "duration": 7797,
    "start_time": "2024-01-27T21:34:05.478Z"
   },
   {
    "duration": 100,
    "start_time": "2024-01-27T21:34:13.367Z"
   },
   {
    "duration": 397911,
    "start_time": "2024-01-27T21:34:13.570Z"
   },
   {
    "duration": 1609,
    "start_time": "2024-01-27T21:40:51.569Z"
   },
   {
    "duration": 1091,
    "start_time": "2024-01-27T21:40:53.276Z"
   },
   {
    "duration": 8995,
    "start_time": "2024-01-27T21:40:54.369Z"
   },
   {
    "duration": 218206,
    "start_time": "2024-01-27T21:41:03.369Z"
   },
   {
    "duration": 190108,
    "start_time": "2024-01-27T21:44:41.765Z"
   },
   {
    "duration": 14,
    "start_time": "2024-01-27T21:47:51.964Z"
   },
   {
    "duration": 369199,
    "start_time": "2024-01-27T21:47:52.065Z"
   },
   {
    "duration": 99,
    "start_time": "2024-01-27T21:54:01.267Z"
   },
   {
    "duration": 3396,
    "start_time": "2024-01-27T21:54:01.377Z"
   },
   {
    "duration": 164096,
    "start_time": "2024-01-27T21:54:04.775Z"
   },
   {
    "duration": 4997,
    "start_time": "2024-01-27T21:56:48.876Z"
   },
   {
    "duration": 10193,
    "start_time": "2024-01-27T22:03:51.873Z"
   },
   {
    "duration": 5,
    "start_time": "2024-01-27T22:04:02.071Z"
   },
   {
    "duration": 333821,
    "start_time": "2024-01-27T22:04:02.080Z"
   },
   {
    "duration": 478,
    "start_time": "2024-01-27T22:09:35.907Z"
   },
   {
    "duration": 200,
    "start_time": "2024-01-27T22:09:36.389Z"
   },
   {
    "duration": 3174,
    "start_time": "2024-01-27T22:09:36.593Z"
   },
   {
    "duration": 199888,
    "start_time": "2024-01-27T22:09:39.777Z"
   },
   {
    "duration": 193800,
    "start_time": "2024-01-27T22:12:59.675Z"
   },
   {
    "duration": 100,
    "start_time": "2024-01-27T22:16:13.567Z"
   },
   {
    "duration": 356407,
    "start_time": "2024-01-27T22:16:13.672Z"
   },
   {
    "duration": 14,
    "start_time": "2024-01-27T22:22:10.166Z"
   },
   {
    "duration": 3690,
    "start_time": "2024-01-27T22:22:10.181Z"
   },
   {
    "duration": 166504,
    "start_time": "2024-01-27T22:22:13.874Z"
   },
   {
    "duration": 95,
    "start_time": "2024-01-27T22:25:00.470Z"
   },
   {
    "duration": 94,
    "start_time": "2024-01-27T22:25:00.573Z"
   },
   {
    "duration": 298,
    "start_time": "2024-01-27T22:25:00.669Z"
   },
   {
    "duration": 1594,
    "start_time": "2024-01-28T11:06:28.181Z"
   },
   {
    "duration": 4,
    "start_time": "2024-01-28T11:06:29.777Z"
   },
   {
    "duration": 65022,
    "start_time": "2024-01-28T11:06:29.782Z"
   },
   {
    "duration": 169,
    "start_time": "2024-01-28T11:07:34.806Z"
   },
   {
    "duration": 108,
    "start_time": "2024-01-28T11:07:34.977Z"
   },
   {
    "duration": 1039,
    "start_time": "2024-01-28T11:07:35.087Z"
   },
   {
    "duration": 25225,
    "start_time": "2024-01-28T11:07:36.128Z"
   },
   {
    "duration": 22797,
    "start_time": "2024-01-28T11:08:01.356Z"
   },
   {
    "duration": 12,
    "start_time": "2024-01-28T11:08:24.154Z"
   },
   {
    "duration": 41719,
    "start_time": "2024-01-28T11:08:24.168Z"
   },
   {
    "duration": 6,
    "start_time": "2024-01-28T11:09:05.889Z"
   },
   {
    "duration": 546,
    "start_time": "2024-01-28T11:09:05.897Z"
   },
   {
    "duration": 16366,
    "start_time": "2024-01-28T11:09:06.444Z"
   },
   {
    "duration": 2,
    "start_time": "2024-01-28T11:09:22.812Z"
   },
   {
    "duration": 15,
    "start_time": "2024-01-28T11:09:22.816Z"
   },
   {
    "duration": 5,
    "start_time": "2024-01-28T11:09:22.833Z"
   },
   {
    "duration": 697,
    "start_time": "2024-01-28T11:21:42.432Z"
   },
   {
    "duration": 2831,
    "start_time": "2024-01-28T11:22:01.755Z"
   },
   {
    "duration": 5,
    "start_time": "2024-01-28T11:22:04.588Z"
   },
   {
    "duration": 65387,
    "start_time": "2024-01-28T11:22:04.594Z"
   },
   {
    "duration": 164,
    "start_time": "2024-01-28T11:23:09.982Z"
   },
   {
    "duration": 107,
    "start_time": "2024-01-28T11:23:10.149Z"
   },
   {
    "duration": 1028,
    "start_time": "2024-01-28T11:23:10.257Z"
   },
   {
    "duration": 25454,
    "start_time": "2024-01-28T11:23:11.287Z"
   },
   {
    "duration": 22500,
    "start_time": "2024-01-28T11:23:36.743Z"
   },
   {
    "duration": 20,
    "start_time": "2024-01-28T11:23:59.245Z"
   },
   {
    "duration": 41908,
    "start_time": "2024-01-28T11:23:59.267Z"
   },
   {
    "duration": 6,
    "start_time": "2024-01-28T11:24:41.177Z"
   },
   {
    "duration": 523,
    "start_time": "2024-01-28T11:24:41.184Z"
   },
   {
    "duration": 18224,
    "start_time": "2024-01-28T11:24:41.708Z"
   },
   {
    "duration": 2,
    "start_time": "2024-01-28T11:24:59.935Z"
   },
   {
    "duration": 5,
    "start_time": "2024-01-28T11:24:59.939Z"
   },
   {
    "duration": 23,
    "start_time": "2024-01-28T11:24:59.946Z"
   },
   {
    "duration": 688,
    "start_time": "2024-01-28T11:24:59.971Z"
   },
   {
    "duration": 2070,
    "start_time": "2024-01-28T11:34:44.330Z"
   },
   {
    "duration": 4,
    "start_time": "2024-01-28T11:34:46.402Z"
   },
   {
    "duration": 68485,
    "start_time": "2024-01-28T11:34:46.408Z"
   },
   {
    "duration": 155,
    "start_time": "2024-01-28T11:35:54.895Z"
   },
   {
    "duration": 114,
    "start_time": "2024-01-28T11:35:55.051Z"
   },
   {
    "duration": 1032,
    "start_time": "2024-01-28T11:35:55.167Z"
   },
   {
    "duration": 25514,
    "start_time": "2024-01-28T11:35:56.201Z"
   },
   {
    "duration": 22193,
    "start_time": "2024-01-28T11:36:21.717Z"
   },
   {
    "duration": 18,
    "start_time": "2024-01-28T11:36:43.912Z"
   },
   {
    "duration": 40783,
    "start_time": "2024-01-28T11:36:43.932Z"
   },
   {
    "duration": 6,
    "start_time": "2024-01-28T11:37:24.717Z"
   },
   {
    "duration": 522,
    "start_time": "2024-01-28T11:37:24.724Z"
   },
   {
    "duration": 17342,
    "start_time": "2024-01-28T11:37:25.248Z"
   },
   {
    "duration": 3,
    "start_time": "2024-01-28T11:37:42.592Z"
   },
   {
    "duration": 4,
    "start_time": "2024-01-28T11:37:42.596Z"
   },
   {
    "duration": 4,
    "start_time": "2024-01-28T11:37:42.601Z"
   },
   {
    "duration": 3,
    "start_time": "2024-01-28T11:37:42.607Z"
   },
   {
    "duration": 205474,
    "start_time": "2024-01-28T11:42:14.503Z"
   },
   {
    "duration": 1767,
    "start_time": "2024-01-28T16:08:34.048Z"
   },
   {
    "duration": 6,
    "start_time": "2024-01-28T16:08:35.818Z"
   },
   {
    "duration": 69411,
    "start_time": "2024-01-28T16:08:35.826Z"
   },
   {
    "duration": 163,
    "start_time": "2024-01-28T16:09:45.240Z"
   },
   {
    "duration": 113,
    "start_time": "2024-01-28T16:09:45.404Z"
   },
   {
    "duration": 1030,
    "start_time": "2024-01-28T16:09:45.519Z"
   },
   {
    "duration": 25580,
    "start_time": "2024-01-28T16:09:46.551Z"
   },
   {
    "duration": 23232,
    "start_time": "2024-01-28T16:10:12.133Z"
   },
   {
    "duration": 11,
    "start_time": "2024-01-28T16:10:35.367Z"
   },
   {
    "duration": 41110,
    "start_time": "2024-01-28T16:10:35.381Z"
   },
   {
    "duration": 5,
    "start_time": "2024-01-28T16:11:16.493Z"
   },
   {
    "duration": 542,
    "start_time": "2024-01-28T16:11:16.500Z"
   },
   {
    "duration": 17739,
    "start_time": "2024-01-28T16:11:17.044Z"
   },
   {
    "duration": 3,
    "start_time": "2024-01-28T16:11:34.784Z"
   },
   {
    "duration": 25,
    "start_time": "2024-01-28T16:11:34.788Z"
   },
   {
    "duration": 8,
    "start_time": "2024-01-28T16:11:34.815Z"
   },
   {
    "duration": 108,
    "start_time": "2024-01-28T16:12:30.442Z"
   },
   {
    "duration": 209,
    "start_time": "2024-01-28T16:12:50.156Z"
   },
   {
    "duration": 13,
    "start_time": "2024-01-28T16:13:22.820Z"
   },
   {
    "duration": 2,
    "start_time": "2024-01-28T16:22:37.849Z"
   },
   {
    "duration": 3,
    "start_time": "2024-01-28T16:22:44.093Z"
   },
   {
    "duration": 9,
    "start_time": "2024-01-28T16:22:52.109Z"
   },
   {
    "duration": 2293,
    "start_time": "2024-01-28T16:23:49.648Z"
   },
   {
    "duration": 5,
    "start_time": "2024-01-28T16:23:51.942Z"
   },
   {
    "duration": 66545,
    "start_time": "2024-01-28T16:23:51.948Z"
   },
   {
    "duration": 184,
    "start_time": "2024-01-28T16:24:58.495Z"
   },
   {
    "duration": 117,
    "start_time": "2024-01-28T16:24:58.681Z"
   },
   {
    "duration": 1003,
    "start_time": "2024-01-28T16:24:58.800Z"
   },
   {
    "duration": 25676,
    "start_time": "2024-01-28T16:24:59.805Z"
   },
   {
    "duration": 23573,
    "start_time": "2024-01-28T16:25:25.482Z"
   },
   {
    "duration": 16,
    "start_time": "2024-01-28T16:25:49.056Z"
   },
   {
    "duration": 43106,
    "start_time": "2024-01-28T16:25:49.075Z"
   },
   {
    "duration": 6,
    "start_time": "2024-01-28T16:26:32.184Z"
   },
   {
    "duration": 530,
    "start_time": "2024-01-28T16:26:32.192Z"
   },
   {
    "duration": 18655,
    "start_time": "2024-01-28T16:26:32.723Z"
   },
   {
    "duration": 3,
    "start_time": "2024-01-28T16:26:51.380Z"
   },
   {
    "duration": 16,
    "start_time": "2024-01-28T16:26:51.385Z"
   },
   {
    "duration": 7,
    "start_time": "2024-01-28T16:26:51.403Z"
   },
   {
    "duration": 8,
    "start_time": "2024-01-28T16:26:51.412Z"
   },
   {
    "duration": 9,
    "start_time": "2024-01-28T16:26:54.563Z"
   },
   {
    "duration": 47,
    "start_time": "2024-01-28T16:30:35.420Z"
   },
   {
    "duration": 2292,
    "start_time": "2024-01-28T16:30:44.823Z"
   },
   {
    "duration": 4,
    "start_time": "2024-01-28T16:30:47.117Z"
   },
   {
    "duration": 68431,
    "start_time": "2024-01-28T16:30:47.123Z"
   },
   {
    "duration": 167,
    "start_time": "2024-01-28T16:31:55.556Z"
   },
   {
    "duration": 119,
    "start_time": "2024-01-28T16:31:55.725Z"
   },
   {
    "duration": 1051,
    "start_time": "2024-01-28T16:31:55.845Z"
   },
   {
    "duration": 25393,
    "start_time": "2024-01-28T16:31:56.898Z"
   },
   {
    "duration": 23006,
    "start_time": "2024-01-28T16:32:22.292Z"
   },
   {
    "duration": 9,
    "start_time": "2024-01-28T16:32:45.300Z"
   },
   {
    "duration": 41332,
    "start_time": "2024-01-28T16:32:45.311Z"
   },
   {
    "duration": 7,
    "start_time": "2024-01-28T16:33:26.644Z"
   },
   {
    "duration": 528,
    "start_time": "2024-01-28T16:33:26.653Z"
   },
   {
    "duration": 18365,
    "start_time": "2024-01-28T16:33:27.183Z"
   },
   {
    "duration": 15,
    "start_time": "2024-01-28T16:33:45.550Z"
   },
   {
    "duration": 5,
    "start_time": "2024-01-28T16:33:45.567Z"
   },
   {
    "duration": 17,
    "start_time": "2024-01-28T16:33:45.573Z"
   },
   {
    "duration": 535,
    "start_time": "2024-01-28T16:34:52.538Z"
   },
   {
    "duration": 401,
    "start_time": "2024-01-28T16:35:02.755Z"
   },
   {
    "duration": 29037,
    "start_time": "2024-01-28T16:36:02.457Z"
   },
   {
    "duration": 204308,
    "start_time": "2024-01-28T16:36:33.067Z"
   },
   {
    "duration": 7,
    "start_time": "2024-01-28T16:40:09.413Z"
   },
   {
    "duration": 7,
    "start_time": "2024-01-28T16:40:43.842Z"
   },
   {
    "duration": 21,
    "start_time": "2024-01-28T16:40:56.985Z"
   },
   {
    "duration": 14,
    "start_time": "2024-01-28T16:41:03.120Z"
   },
   {
    "duration": 14,
    "start_time": "2024-01-28T16:41:33.976Z"
   },
   {
    "duration": 85,
    "start_time": "2024-01-28T16:41:37.407Z"
   },
   {
    "duration": 68,
    "start_time": "2024-01-28T16:41:41.836Z"
   },
   {
    "duration": 2308,
    "start_time": "2024-01-28T16:41:54.342Z"
   },
   {
    "duration": 6,
    "start_time": "2024-01-28T16:41:56.653Z"
   },
   {
    "duration": 64015,
    "start_time": "2024-01-28T16:41:56.661Z"
   },
   {
    "duration": 191,
    "start_time": "2024-01-28T16:43:00.678Z"
   },
   {
    "duration": 113,
    "start_time": "2024-01-28T16:43:00.870Z"
   },
   {
    "duration": 1028,
    "start_time": "2024-01-28T16:43:00.984Z"
   },
   {
    "duration": 25870,
    "start_time": "2024-01-28T16:43:02.013Z"
   },
   {
    "duration": 23508,
    "start_time": "2024-01-28T16:43:27.885Z"
   },
   {
    "duration": 10,
    "start_time": "2024-01-28T16:43:51.395Z"
   },
   {
    "duration": 42745,
    "start_time": "2024-01-28T16:43:51.407Z"
   },
   {
    "duration": 12,
    "start_time": "2024-01-28T16:44:34.153Z"
   },
   {
    "duration": 545,
    "start_time": "2024-01-28T16:44:34.168Z"
   },
   {
    "duration": 17764,
    "start_time": "2024-01-28T16:44:34.714Z"
   },
   {
    "duration": 2,
    "start_time": "2024-01-28T16:44:52.479Z"
   },
   {
    "duration": 35,
    "start_time": "2024-01-28T16:44:52.482Z"
   },
   {
    "duration": 20,
    "start_time": "2024-01-28T16:44:52.518Z"
   },
   {
    "duration": 13,
    "start_time": "2024-01-28T16:44:52.539Z"
   },
   {
    "duration": 118,
    "start_time": "2024-01-28T16:46:03.380Z"
   },
   {
    "duration": 2,
    "start_time": "2024-01-28T16:46:08.985Z"
   },
   {
    "duration": 220044,
    "start_time": "2024-01-28T16:46:09.532Z"
   },
   {
    "duration": 530,
    "start_time": "2024-01-28T16:49:52.563Z"
   },
   {
    "duration": 55,
    "start_time": "2024-01-28T16:50:23.656Z"
   },
   {
    "duration": 2773,
    "start_time": "2024-01-28T16:50:32.070Z"
   },
   {
    "duration": 5,
    "start_time": "2024-01-28T16:50:34.845Z"
   },
   {
    "duration": 76498,
    "start_time": "2024-01-28T16:50:34.851Z"
   },
   {
    "duration": 154,
    "start_time": "2024-01-28T16:51:51.351Z"
   },
   {
    "duration": 77,
    "start_time": "2024-01-28T16:51:51.506Z"
   },
   {
    "duration": 528,
    "start_time": "2024-01-28T16:51:51.585Z"
   },
   {
    "duration": 8469,
    "start_time": "2024-01-28T16:51:52.115Z"
   },
   {
    "duration": 47,
    "start_time": "2024-01-28T16:59:29.166Z"
   },
   {
    "duration": 2161,
    "start_time": "2024-01-28T17:04:37.492Z"
   },
   {
    "duration": 5,
    "start_time": "2024-01-28T17:04:39.654Z"
   },
   {
    "duration": 68309,
    "start_time": "2024-01-28T17:04:39.660Z"
   },
   {
    "duration": 161,
    "start_time": "2024-01-28T17:05:47.970Z"
   },
   {
    "duration": 72,
    "start_time": "2024-01-28T17:05:48.133Z"
   },
   {
    "duration": 685,
    "start_time": "2024-01-28T17:05:48.206Z"
   },
   {
    "duration": 8854,
    "start_time": "2024-01-28T17:05:48.893Z"
   },
   {
    "duration": 2350,
    "start_time": "2024-01-28T17:06:09.282Z"
   },
   {
    "duration": 5,
    "start_time": "2024-01-28T17:06:11.634Z"
   },
   {
    "duration": 78032,
    "start_time": "2024-01-28T17:06:11.641Z"
   },
   {
    "duration": 166,
    "start_time": "2024-01-28T17:07:29.675Z"
   },
   {
    "duration": 82,
    "start_time": "2024-01-28T17:07:29.842Z"
   },
   {
    "duration": 513,
    "start_time": "2024-01-28T17:07:29.925Z"
   },
   {
    "duration": 8380,
    "start_time": "2024-01-28T17:07:30.440Z"
   },
   {
    "duration": 8584,
    "start_time": "2024-01-28T17:10:07.614Z"
   },
   {
    "duration": 50,
    "start_time": "2024-01-28T17:15:17.391Z"
   },
   {
    "duration": 2029,
    "start_time": "2024-01-28T17:15:20.219Z"
   },
   {
    "duration": 4,
    "start_time": "2024-01-28T17:15:22.250Z"
   },
   {
    "duration": 1769,
    "start_time": "2024-01-28T17:15:22.715Z"
   },
   {
    "duration": 45,
    "start_time": "2024-01-28T17:15:24.486Z"
   },
   {
    "duration": 44,
    "start_time": "2024-01-28T17:15:24.618Z"
   },
   {
    "duration": 12,
    "start_time": "2024-01-28T17:15:25.946Z"
   },
   {
    "duration": 497,
    "start_time": "2024-01-28T17:15:26.913Z"
   },
   {
    "duration": 1388,
    "start_time": "2024-01-28T17:15:27.985Z"
   },
   {
    "duration": 9,
    "start_time": "2024-01-28T17:15:29.375Z"
   },
   {
    "duration": 19237,
    "start_time": "2024-01-28T17:15:29.882Z"
   },
   {
    "duration": 5,
    "start_time": "2024-01-28T17:15:49.121Z"
   },
   {
    "duration": 18,
    "start_time": "2024-01-28T17:15:49.128Z"
   },
   {
    "duration": 142,
    "start_time": "2024-01-28T17:15:49.148Z"
   },
   {
    "duration": 2,
    "start_time": "2024-01-28T17:15:49.292Z"
   },
   {
    "duration": 9,
    "start_time": "2024-01-28T17:21:26.339Z"
   },
   {
    "duration": 104,
    "start_time": "2024-01-28T17:21:27.162Z"
   },
   {
    "duration": 1274,
    "start_time": "2024-01-28T17:21:34.352Z"
   },
   {
    "duration": 5,
    "start_time": "2024-01-28T17:21:35.627Z"
   },
   {
    "duration": 1706,
    "start_time": "2024-01-28T17:21:35.900Z"
   },
   {
    "duration": 59,
    "start_time": "2024-01-28T17:21:37.608Z"
   },
   {
    "duration": 36,
    "start_time": "2024-01-28T17:21:37.788Z"
   },
   {
    "duration": 14,
    "start_time": "2024-01-28T17:21:38.673Z"
   },
   {
    "duration": 515,
    "start_time": "2024-01-28T17:21:39.753Z"
   },
   {
    "duration": 1413,
    "start_time": "2024-01-28T17:21:41.153Z"
   },
   {
    "duration": 9,
    "start_time": "2024-01-28T17:21:42.568Z"
   },
   {
    "duration": 19467,
    "start_time": "2024-01-28T17:21:43.202Z"
   },
   {
    "duration": 7,
    "start_time": "2024-01-28T17:22:02.672Z"
   },
   {
    "duration": 28,
    "start_time": "2024-01-28T17:22:02.681Z"
   },
   {
    "duration": 156,
    "start_time": "2024-01-28T17:22:02.711Z"
   },
   {
    "duration": 2,
    "start_time": "2024-01-28T17:22:02.869Z"
   },
   {
    "duration": 3,
    "start_time": "2024-01-28T17:22:04.805Z"
   },
   {
    "duration": 2,
    "start_time": "2024-01-28T17:22:06.235Z"
   },
   {
    "duration": 2,
    "start_time": "2024-01-28T17:22:07.483Z"
   },
   {
    "duration": 7299,
    "start_time": "2024-01-28T17:22:08.195Z"
   },
   {
    "duration": 1917,
    "start_time": "2024-01-28T17:22:16.218Z"
   },
   {
    "duration": 75,
    "start_time": "2024-01-28T17:23:44.303Z"
   },
   {
    "duration": 2158,
    "start_time": "2024-01-28T17:39:43.553Z"
   },
   {
    "duration": 13,
    "start_time": "2024-01-28T17:39:46.112Z"
   },
   {
    "duration": 14,
    "start_time": "2024-01-28T17:40:50.714Z"
   },
   {
    "duration": 6,
    "start_time": "2024-01-28T17:45:24.423Z"
   },
   {
    "duration": 23,
    "start_time": "2024-01-28T17:45:29.269Z"
   },
   {
    "duration": 1233,
    "start_time": "2024-01-28T17:45:44.462Z"
   },
   {
    "duration": 4,
    "start_time": "2024-01-28T17:45:45.697Z"
   },
   {
    "duration": 6113,
    "start_time": "2024-01-28T17:45:45.703Z"
   },
   {
    "duration": 56,
    "start_time": "2024-01-28T17:45:51.819Z"
   },
   {
    "duration": 93,
    "start_time": "2024-01-28T17:45:51.876Z"
   },
   {
    "duration": 50,
    "start_time": "2024-01-28T17:45:51.970Z"
   },
   {
    "duration": 1186,
    "start_time": "2024-01-28T17:45:52.022Z"
   },
   {
    "duration": 4107,
    "start_time": "2024-01-28T17:45:53.210Z"
   },
   {
    "duration": 9,
    "start_time": "2024-01-28T17:45:57.318Z"
   },
   {
    "duration": 19432,
    "start_time": "2024-01-28T17:45:57.328Z"
   },
   {
    "duration": 5,
    "start_time": "2024-01-28T17:46:16.765Z"
   },
   {
    "duration": 40,
    "start_time": "2024-01-28T17:46:16.772Z"
   },
   {
    "duration": 1204,
    "start_time": "2024-01-28T17:46:16.814Z"
   },
   {
    "duration": 39,
    "start_time": "2024-01-28T17:48:39.484Z"
   },
   {
    "duration": 1158,
    "start_time": "2024-01-28T17:48:40.436Z"
   },
   {
    "duration": 4044,
    "start_time": "2024-01-28T17:48:41.643Z"
   },
   {
    "duration": 8,
    "start_time": "2024-01-28T17:48:45.689Z"
   },
   {
    "duration": 19898,
    "start_time": "2024-01-28T17:48:45.698Z"
   },
   {
    "duration": 5,
    "start_time": "2024-01-28T17:49:05.598Z"
   },
   {
    "duration": 147,
    "start_time": "2024-01-28T17:49:05.605Z"
   },
   {
    "duration": 0,
    "start_time": "2024-01-28T17:49:05.754Z"
   },
   {
    "duration": 0,
    "start_time": "2024-01-28T17:49:05.765Z"
   },
   {
    "duration": 0,
    "start_time": "2024-01-28T17:49:05.767Z"
   },
   {
    "duration": 0,
    "start_time": "2024-01-28T17:49:05.768Z"
   },
   {
    "duration": 0,
    "start_time": "2024-01-28T17:49:05.769Z"
   },
   {
    "duration": 0,
    "start_time": "2024-01-28T17:49:05.770Z"
   },
   {
    "duration": 0,
    "start_time": "2024-01-28T17:49:05.771Z"
   },
   {
    "duration": 8,
    "start_time": "2024-01-28T17:49:09.505Z"
   },
   {
    "duration": 1246,
    "start_time": "2024-01-28T17:49:16.636Z"
   },
   {
    "duration": 4,
    "start_time": "2024-01-28T17:49:17.884Z"
   },
   {
    "duration": 5062,
    "start_time": "2024-01-28T17:49:18.300Z"
   },
   {
    "duration": 61,
    "start_time": "2024-01-28T17:49:23.364Z"
   },
   {
    "duration": 110,
    "start_time": "2024-01-28T17:49:23.427Z"
   },
   {
    "duration": 67,
    "start_time": "2024-01-28T17:49:23.539Z"
   },
   {
    "duration": 1182,
    "start_time": "2024-01-28T17:49:23.608Z"
   },
   {
    "duration": 4262,
    "start_time": "2024-01-28T17:49:24.791Z"
   },
   {
    "duration": 9,
    "start_time": "2024-01-28T17:49:29.065Z"
   },
   {
    "duration": 19764,
    "start_time": "2024-01-28T17:49:29.076Z"
   },
   {
    "duration": 7,
    "start_time": "2024-01-28T17:49:48.842Z"
   },
   {
    "duration": 43,
    "start_time": "2024-01-28T17:49:48.865Z"
   },
   {
    "duration": 1291,
    "start_time": "2024-01-28T17:49:48.909Z"
   },
   {
    "duration": 2,
    "start_time": "2024-01-28T17:49:50.202Z"
   },
   {
    "duration": 17,
    "start_time": "2024-01-28T17:49:50.206Z"
   },
   {
    "duration": 24,
    "start_time": "2024-01-28T17:49:50.225Z"
   },
   {
    "duration": 11,
    "start_time": "2024-01-28T17:49:50.250Z"
   },
   {
    "duration": 9618,
    "start_time": "2024-01-28T17:49:50.262Z"
   },
   {
    "duration": 2145,
    "start_time": "2024-01-28T17:49:59.882Z"
   },
   {
    "duration": 69,
    "start_time": "2024-01-28T17:50:02.029Z"
   },
   {
    "duration": 43,
    "start_time": "2024-01-28T17:50:07.612Z"
   },
   {
    "duration": 32,
    "start_time": "2024-01-28T17:50:28.076Z"
   },
   {
    "duration": 149,
    "start_time": "2024-01-28T17:50:34.500Z"
   },
   {
    "duration": 39,
    "start_time": "2024-01-28T17:50:43.879Z"
   },
   {
    "duration": 28,
    "start_time": "2024-01-28T17:50:48.115Z"
   },
   {
    "duration": 27,
    "start_time": "2024-01-28T17:50:49.992Z"
   },
   {
    "duration": 27,
    "start_time": "2024-01-28T17:50:51.794Z"
   },
   {
    "duration": 28,
    "start_time": "2024-01-28T17:50:57.505Z"
   },
   {
    "duration": 42,
    "start_time": "2024-01-28T17:51:01.557Z"
   },
   {
    "duration": 53,
    "start_time": "2024-01-28T17:51:59.079Z"
   },
   {
    "duration": 24,
    "start_time": "2024-01-28T17:52:10.996Z"
   },
   {
    "duration": 7,
    "start_time": "2024-01-28T17:53:24.615Z"
   },
   {
    "duration": 4327,
    "start_time": "2024-01-28T17:53:47.198Z"
   },
   {
    "duration": 4564,
    "start_time": "2024-01-28T17:53:52.874Z"
   },
   {
    "duration": 7,
    "start_time": "2024-01-28T17:53:59.138Z"
   },
   {
    "duration": 6,
    "start_time": "2024-01-28T17:54:00.380Z"
   },
   {
    "duration": 4440,
    "start_time": "2024-01-28T17:54:06.013Z"
   },
   {
    "duration": 4,
    "start_time": "2024-01-28T17:54:10.455Z"
   },
   {
    "duration": 58,
    "start_time": "2024-01-28T17:58:29.804Z"
   },
   {
    "duration": 45,
    "start_time": "2024-01-28T17:58:33.201Z"
   },
   {
    "duration": 50,
    "start_time": "2024-01-28T17:59:05.499Z"
   },
   {
    "duration": 47,
    "start_time": "2024-01-28T17:59:12.177Z"
   },
   {
    "duration": 49,
    "start_time": "2024-01-28T17:59:15.540Z"
   },
   {
    "duration": 75,
    "start_time": "2024-01-28T17:59:59.924Z"
   },
   {
    "duration": 12,
    "start_time": "2024-01-28T18:00:02.862Z"
   },
   {
    "duration": 10,
    "start_time": "2024-01-28T18:00:13.797Z"
   },
   {
    "duration": 592,
    "start_time": "2024-01-28T18:00:17.478Z"
   },
   {
    "duration": 9,
    "start_time": "2024-01-28T18:00:22.558Z"
   },
   {
    "duration": 3,
    "start_time": "2024-01-28T18:22:11.080Z"
   },
   {
    "duration": 2,
    "start_time": "2024-01-28T18:37:31.912Z"
   },
   {
    "duration": 4,
    "start_time": "2024-01-28T18:37:39.346Z"
   },
   {
    "duration": 3,
    "start_time": "2024-01-28T18:37:45.050Z"
   },
   {
    "duration": 5,
    "start_time": "2024-01-28T18:37:47.143Z"
   },
   {
    "duration": 3,
    "start_time": "2024-01-28T18:38:14.159Z"
   },
   {
    "duration": 3,
    "start_time": "2024-01-28T18:38:22.884Z"
   },
   {
    "duration": 5,
    "start_time": "2024-01-28T18:38:24.365Z"
   },
   {
    "duration": 4,
    "start_time": "2024-01-28T18:38:36.617Z"
   },
   {
    "duration": 2,
    "start_time": "2024-01-28T18:38:40.603Z"
   },
   {
    "duration": 5,
    "start_time": "2024-01-28T18:38:49.735Z"
   },
   {
    "duration": 10,
    "start_time": "2024-01-28T18:39:08.178Z"
   },
   {
    "duration": 9,
    "start_time": "2024-01-28T18:39:11.180Z"
   },
   {
    "duration": 3,
    "start_time": "2024-01-28T18:39:43.545Z"
   },
   {
    "duration": 5,
    "start_time": "2024-01-28T18:39:45.378Z"
   },
   {
    "duration": 94,
    "start_time": "2024-01-28T18:40:18.835Z"
   },
   {
    "duration": 5,
    "start_time": "2024-01-28T18:40:21.686Z"
   },
   {
    "duration": 15,
    "start_time": "2024-01-28T18:40:29.874Z"
   },
   {
    "duration": 12,
    "start_time": "2024-01-28T18:40:38.308Z"
   },
   {
    "duration": 6,
    "start_time": "2024-01-28T18:41:57.842Z"
   },
   {
    "duration": 6,
    "start_time": "2024-01-28T18:42:02.356Z"
   },
   {
    "duration": 7,
    "start_time": "2024-01-28T18:42:06.424Z"
   },
   {
    "duration": 3,
    "start_time": "2024-01-28T18:42:46.278Z"
   },
   {
    "duration": 8,
    "start_time": "2024-01-28T18:42:51.590Z"
   },
   {
    "duration": 9,
    "start_time": "2024-01-28T18:42:54.935Z"
   },
   {
    "duration": 5,
    "start_time": "2024-01-28T18:42:59.993Z"
   },
   {
    "duration": 6,
    "start_time": "2024-01-28T18:43:06.791Z"
   },
   {
    "duration": 5,
    "start_time": "2024-01-28T21:54:16.260Z"
   },
   {
    "duration": 5,
    "start_time": "2024-01-28T21:54:16.752Z"
   },
   {
    "duration": 6495,
    "start_time": "2024-01-28T21:54:18.888Z"
   },
   {
    "duration": 44,
    "start_time": "2024-01-28T21:54:27.159Z"
   },
   {
    "duration": 88,
    "start_time": "2024-01-28T21:54:28.160Z"
   },
   {
    "duration": 51,
    "start_time": "2024-01-28T21:54:28.861Z"
   },
   {
    "duration": 1189,
    "start_time": "2024-01-28T21:54:29.746Z"
   },
   {
    "duration": 4000,
    "start_time": "2024-01-28T21:54:30.936Z"
   },
   {
    "duration": 9,
    "start_time": "2024-01-28T21:54:34.937Z"
   },
   {
    "duration": 19760,
    "start_time": "2024-01-28T21:54:36.210Z"
   },
   {
    "duration": 6,
    "start_time": "2024-01-28T21:54:55.972Z"
   },
   {
    "duration": 37,
    "start_time": "2024-01-28T21:54:55.979Z"
   },
   {
    "duration": 1163,
    "start_time": "2024-01-28T21:54:56.789Z"
   },
   {
    "duration": 3,
    "start_time": "2024-01-28T21:54:57.954Z"
   },
   {
    "duration": 3,
    "start_time": "2024-01-28T21:54:58.601Z"
   },
   {
    "duration": 2,
    "start_time": "2024-01-28T21:54:59.421Z"
   },
   {
    "duration": 3,
    "start_time": "2024-01-28T21:55:00.508Z"
   },
   {
    "duration": 44,
    "start_time": "2024-01-28T21:55:01.454Z"
   },
   {
    "duration": 5,
    "start_time": "2024-01-28T21:55:03.149Z"
   },
   {
    "duration": 75,
    "start_time": "2024-01-28T21:55:04.014Z"
   },
   {
    "duration": 84,
    "start_time": "2024-01-28T21:55:20.542Z"
   },
   {
    "duration": 5,
    "start_time": "2024-01-28T21:55:30.038Z"
   },
   {
    "duration": 5,
    "start_time": "2024-01-28T21:57:49.326Z"
   },
   {
    "duration": 5,
    "start_time": "2024-01-28T21:58:07.950Z"
   },
   {
    "duration": 5,
    "start_time": "2024-01-28T21:58:16.782Z"
   },
   {
    "duration": 5,
    "start_time": "2024-01-28T22:02:47.473Z"
   },
   {
    "duration": 10,
    "start_time": "2024-01-28T22:02:55.815Z"
   },
   {
    "duration": 83,
    "start_time": "2024-01-28T22:05:15.792Z"
   },
   {
    "duration": 5,
    "start_time": "2024-01-28T22:05:21.504Z"
   },
   {
    "duration": 5,
    "start_time": "2024-01-28T22:05:46.987Z"
   },
   {
    "duration": 11,
    "start_time": "2024-01-28T22:05:47.616Z"
   },
   {
    "duration": 5,
    "start_time": "2024-01-28T22:05:57.859Z"
   },
   {
    "duration": 2,
    "start_time": "2024-01-28T22:05:58.976Z"
   },
   {
    "duration": 9,
    "start_time": "2024-01-28T22:06:53.673Z"
   },
   {
    "duration": 5,
    "start_time": "2024-01-28T22:07:05.985Z"
   },
   {
    "duration": 11,
    "start_time": "2024-01-28T22:07:06.240Z"
   },
   {
    "duration": 5,
    "start_time": "2024-01-28T22:07:43.033Z"
   },
   {
    "duration": 3,
    "start_time": "2024-01-28T22:07:43.529Z"
   },
   {
    "duration": 81,
    "start_time": "2024-01-28T22:07:50.890Z"
   },
   {
    "duration": 5,
    "start_time": "2024-01-28T22:08:24.134Z"
   },
   {
    "duration": 11,
    "start_time": "2024-01-28T22:08:24.537Z"
   },
   {
    "duration": 95,
    "start_time": "2024-01-28T22:08:34.104Z"
   },
   {
    "duration": 3,
    "start_time": "2024-01-28T22:08:38.886Z"
   },
   {
    "duration": 5,
    "start_time": "2024-01-28T22:08:42.097Z"
   },
   {
    "duration": 87,
    "start_time": "2024-01-28T22:08:42.280Z"
   },
   {
    "duration": 7,
    "start_time": "2024-01-28T22:08:53.585Z"
   },
   {
    "duration": 4,
    "start_time": "2024-01-28T22:08:56.145Z"
   },
   {
    "duration": 82,
    "start_time": "2024-01-28T22:08:56.321Z"
   },
   {
    "duration": 5,
    "start_time": "2024-01-28T22:09:33.529Z"
   },
   {
    "duration": 607,
    "start_time": "2024-01-28T22:09:34.552Z"
   },
   {
    "duration": 7,
    "start_time": "2024-01-28T22:09:47.946Z"
   },
   {
    "duration": 85,
    "start_time": "2024-01-28T22:09:48.978Z"
   },
   {
    "duration": 4,
    "start_time": "2024-01-28T22:10:04.778Z"
   },
   {
    "duration": 463,
    "start_time": "2024-01-28T22:10:06.004Z"
   },
   {
    "duration": 5,
    "start_time": "2024-01-28T22:10:13.983Z"
   },
   {
    "duration": 5,
    "start_time": "2024-01-28T22:10:19.948Z"
   },
   {
    "duration": 88,
    "start_time": "2024-01-28T22:10:20.112Z"
   },
   {
    "duration": 5,
    "start_time": "2024-01-28T22:10:32.442Z"
   },
   {
    "duration": 2372,
    "start_time": "2024-01-28T22:10:33.306Z"
   },
   {
    "duration": 5,
    "start_time": "2024-01-28T22:11:13.291Z"
   },
   {
    "duration": 2650,
    "start_time": "2024-01-28T22:11:13.489Z"
   },
   {
    "duration": 2412,
    "start_time": "2024-01-28T22:11:23.721Z"
   },
   {
    "duration": 5,
    "start_time": "2024-01-28T22:11:27.570Z"
   },
   {
    "duration": 45,
    "start_time": "2024-01-28T22:11:38.202Z"
   },
   {
    "duration": 1192,
    "start_time": "2024-01-28T22:11:54.695Z"
   },
   {
    "duration": 6,
    "start_time": "2024-01-28T22:11:55.892Z"
   },
   {
    "duration": 6466,
    "start_time": "2024-01-28T22:11:55.900Z"
   },
   {
    "duration": 60,
    "start_time": "2024-01-28T22:12:02.368Z"
   },
   {
    "duration": 103,
    "start_time": "2024-01-28T22:12:02.430Z"
   },
   {
    "duration": 68,
    "start_time": "2024-01-28T22:12:02.535Z"
   },
   {
    "duration": 1163,
    "start_time": "2024-01-28T22:12:02.605Z"
   },
   {
    "duration": 4092,
    "start_time": "2024-01-28T22:12:03.770Z"
   },
   {
    "duration": 10,
    "start_time": "2024-01-28T22:12:07.863Z"
   },
   {
    "duration": 19444,
    "start_time": "2024-01-28T22:12:07.877Z"
   },
   {
    "duration": 7,
    "start_time": "2024-01-28T22:12:27.323Z"
   },
   {
    "duration": 59,
    "start_time": "2024-01-28T22:12:27.332Z"
   },
   {
    "duration": 1244,
    "start_time": "2024-01-28T22:12:27.393Z"
   },
   {
    "duration": 3,
    "start_time": "2024-01-28T22:12:28.639Z"
   },
   {
    "duration": 15,
    "start_time": "2024-01-28T22:12:28.644Z"
   },
   {
    "duration": 14,
    "start_time": "2024-01-28T22:12:28.661Z"
   },
   {
    "duration": 17,
    "start_time": "2024-01-28T22:12:28.676Z"
   },
   {
    "duration": 139,
    "start_time": "2024-01-28T22:12:28.695Z"
   },
   {
    "duration": 0,
    "start_time": "2024-01-28T22:12:28.835Z"
   },
   {
    "duration": 0,
    "start_time": "2024-01-28T22:12:28.836Z"
   },
   {
    "duration": 0,
    "start_time": "2024-01-28T22:12:28.837Z"
   },
   {
    "duration": 4,
    "start_time": "2024-01-28T22:12:46.312Z"
   },
   {
    "duration": 4,
    "start_time": "2024-01-28T22:12:46.320Z"
   },
   {
    "duration": 4978,
    "start_time": "2024-01-28T22:12:46.325Z"
   },
   {
    "duration": 45,
    "start_time": "2024-01-28T22:12:51.305Z"
   },
   {
    "duration": 91,
    "start_time": "2024-01-28T22:12:51.352Z"
   },
   {
    "duration": 69,
    "start_time": "2024-01-28T22:12:51.445Z"
   },
   {
    "duration": 1144,
    "start_time": "2024-01-28T22:12:51.516Z"
   },
   {
    "duration": 3917,
    "start_time": "2024-01-28T22:12:52.661Z"
   },
   {
    "duration": 9,
    "start_time": "2024-01-28T22:12:56.580Z"
   },
   {
    "duration": 18910,
    "start_time": "2024-01-28T22:12:56.590Z"
   },
   {
    "duration": 6,
    "start_time": "2024-01-28T22:13:15.501Z"
   },
   {
    "duration": 35,
    "start_time": "2024-01-28T22:13:15.509Z"
   },
   {
    "duration": 1266,
    "start_time": "2024-01-28T22:13:15.545Z"
   },
   {
    "duration": 2,
    "start_time": "2024-01-28T22:13:16.813Z"
   },
   {
    "duration": 5,
    "start_time": "2024-01-28T22:13:16.816Z"
   },
   {
    "duration": 5,
    "start_time": "2024-01-28T22:13:16.822Z"
   },
   {
    "duration": 5,
    "start_time": "2024-01-28T22:13:16.828Z"
   },
   {
    "duration": 2492,
    "start_time": "2024-01-28T22:13:16.834Z"
   },
   {
    "duration": 5,
    "start_time": "2024-01-28T22:13:29.746Z"
   },
   {
    "duration": 4437,
    "start_time": "2024-01-28T22:13:30.161Z"
   },
   {
    "duration": 5,
    "start_time": "2024-01-28T22:13:45.282Z"
   },
   {
    "duration": 4326,
    "start_time": "2024-01-28T22:13:45.458Z"
   },
   {
    "duration": 6,
    "start_time": "2024-01-28T22:14:03.762Z"
   },
   {
    "duration": 4463,
    "start_time": "2024-01-28T22:14:03.902Z"
   },
   {
    "duration": 6,
    "start_time": "2024-01-28T22:14:13.898Z"
   },
   {
    "duration": 4409,
    "start_time": "2024-01-28T22:14:18.187Z"
   },
   {
    "duration": 6,
    "start_time": "2024-01-28T22:14:22.598Z"
   },
   {
    "duration": 4517,
    "start_time": "2024-01-28T22:15:09.027Z"
   },
   {
    "duration": 6,
    "start_time": "2024-01-28T22:15:13.546Z"
   },
   {
    "duration": 5,
    "start_time": "2024-01-28T22:16:17.683Z"
   },
   {
    "duration": 1403,
    "start_time": "2024-01-28T22:16:27.523Z"
   },
   {
    "duration": 5,
    "start_time": "2024-01-28T22:16:30.389Z"
   },
   {
    "duration": 4395,
    "start_time": "2024-01-28T22:16:30.554Z"
   },
   {
    "duration": 1403,
    "start_time": "2024-01-28T22:16:34.951Z"
   },
   {
    "duration": 14,
    "start_time": "2024-01-28T22:16:45.611Z"
   },
   {
    "duration": 12,
    "start_time": "2024-01-28T22:16:48.067Z"
   },
   {
    "duration": 5,
    "start_time": "2024-01-28T22:16:59.183Z"
   },
   {
    "duration": 4557,
    "start_time": "2024-01-28T22:17:00.898Z"
   },
   {
    "duration": 22,
    "start_time": "2024-01-28T22:17:05.457Z"
   },
   {
    "duration": 14,
    "start_time": "2024-01-28T22:17:32.428Z"
   },
   {
    "duration": 14,
    "start_time": "2024-01-28T22:17:59.068Z"
   },
   {
    "duration": 11,
    "start_time": "2024-01-28T22:18:01.893Z"
   },
   {
    "duration": 14,
    "start_time": "2024-01-28T22:18:07.638Z"
   },
   {
    "duration": 15,
    "start_time": "2024-01-28T22:18:19.539Z"
   },
   {
    "duration": 6,
    "start_time": "2024-01-28T22:18:36.717Z"
   },
   {
    "duration": 1551,
    "start_time": "2024-01-29T08:54:01.606Z"
   },
   {
    "duration": 6,
    "start_time": "2024-01-29T08:54:03.159Z"
   },
   {
    "duration": 6821,
    "start_time": "2024-01-29T08:54:04.195Z"
   },
   {
    "duration": 64,
    "start_time": "2024-01-29T08:54:11.017Z"
   },
   {
    "duration": 102,
    "start_time": "2024-01-29T08:54:11.082Z"
   },
   {
    "duration": 53,
    "start_time": "2024-01-29T08:54:11.187Z"
   },
   {
    "duration": 1215,
    "start_time": "2024-01-29T08:54:11.242Z"
   },
   {
    "duration": 4178,
    "start_time": "2024-01-29T08:54:12.459Z"
   },
   {
    "duration": 27,
    "start_time": "2024-01-29T08:54:16.639Z"
   },
   {
    "duration": 20505,
    "start_time": "2024-01-29T08:54:16.667Z"
   },
   {
    "duration": 6,
    "start_time": "2024-01-29T08:54:37.174Z"
   },
   {
    "duration": 56,
    "start_time": "2024-01-29T08:54:37.182Z"
   },
   {
    "duration": 1294,
    "start_time": "2024-01-29T08:54:37.239Z"
   },
   {
    "duration": 2,
    "start_time": "2024-01-29T08:54:38.535Z"
   },
   {
    "duration": 7,
    "start_time": "2024-01-29T08:54:38.539Z"
   },
   {
    "duration": 21,
    "start_time": "2024-01-29T08:54:38.547Z"
   },
   {
    "duration": 15,
    "start_time": "2024-01-29T08:54:38.569Z"
   },
   {
    "duration": 5150,
    "start_time": "2024-01-29T08:54:38.586Z"
   },
   {
    "duration": 4,
    "start_time": "2024-01-29T08:58:33.037Z"
   },
   {
    "duration": 3,
    "start_time": "2024-01-29T08:59:25.345Z"
   },
   {
    "duration": 4,
    "start_time": "2024-01-29T08:59:35.507Z"
   },
   {
    "duration": 5,
    "start_time": "2024-01-29T09:00:04.992Z"
   },
   {
    "duration": 6,
    "start_time": "2024-01-29T09:00:13.754Z"
   },
   {
    "duration": 6,
    "start_time": "2024-01-29T09:00:19.114Z"
   },
   {
    "duration": 5,
    "start_time": "2024-01-29T09:00:23.071Z"
   },
   {
    "duration": 6,
    "start_time": "2024-01-29T09:00:46.586Z"
   },
   {
    "duration": 6,
    "start_time": "2024-01-29T09:00:56.537Z"
   },
   {
    "duration": 9,
    "start_time": "2024-01-29T09:01:00.554Z"
   },
   {
    "duration": 6,
    "start_time": "2024-01-29T09:01:28.862Z"
   },
   {
    "duration": 6,
    "start_time": "2024-01-29T09:01:31.775Z"
   },
   {
    "duration": 6,
    "start_time": "2024-01-29T09:02:07.560Z"
   },
   {
    "duration": 6339,
    "start_time": "2024-01-29T09:02:10.012Z"
   },
   {
    "duration": 5,
    "start_time": "2024-01-29T09:03:40.917Z"
   },
   {
    "duration": 5278,
    "start_time": "2024-01-29T09:03:41.843Z"
   },
   {
    "duration": 17,
    "start_time": "2024-01-29T09:03:49.706Z"
   },
   {
    "duration": 5,
    "start_time": "2024-01-29T09:04:17.214Z"
   },
   {
    "duration": 1469,
    "start_time": "2024-01-29T09:04:34.533Z"
   },
   {
    "duration": 4,
    "start_time": "2024-01-29T09:04:36.004Z"
   },
   {
    "duration": 1874,
    "start_time": "2024-01-29T09:04:36.010Z"
   },
   {
    "duration": 45,
    "start_time": "2024-01-29T09:04:37.886Z"
   },
   {
    "duration": 42,
    "start_time": "2024-01-29T09:04:37.932Z"
   },
   {
    "duration": 8,
    "start_time": "2024-01-29T09:04:37.976Z"
   },
   {
    "duration": 439,
    "start_time": "2024-01-29T09:04:37.986Z"
   },
   {
    "duration": 1152,
    "start_time": "2024-01-29T09:04:38.427Z"
   },
   {
    "duration": 11,
    "start_time": "2024-01-29T09:04:39.580Z"
   },
   {
    "duration": 20254,
    "start_time": "2024-01-29T09:04:39.593Z"
   },
   {
    "duration": 17,
    "start_time": "2024-01-29T09:04:59.849Z"
   },
   {
    "duration": 21,
    "start_time": "2024-01-29T09:04:59.868Z"
   },
   {
    "duration": 60,
    "start_time": "2024-01-29T09:04:59.891Z"
   },
   {
    "duration": 3,
    "start_time": "2024-01-29T09:04:59.952Z"
   },
   {
    "duration": 4,
    "start_time": "2024-01-29T09:04:59.957Z"
   },
   {
    "duration": 14,
    "start_time": "2024-01-29T09:04:59.963Z"
   },
   {
    "duration": 6,
    "start_time": "2024-01-29T09:08:08.057Z"
   },
   {
    "duration": 185,
    "start_time": "2024-01-29T09:08:08.313Z"
   },
   {
    "duration": 78,
    "start_time": "2024-01-29T09:08:29.513Z"
   },
   {
    "duration": 5,
    "start_time": "2024-01-29T09:08:32.782Z"
   },
   {
    "duration": 85,
    "start_time": "2024-01-29T09:08:32.903Z"
   },
   {
    "duration": 5,
    "start_time": "2024-01-29T09:08:44.625Z"
   },
   {
    "duration": 103,
    "start_time": "2024-01-29T09:08:46.380Z"
   },
   {
    "duration": 6,
    "start_time": "2024-01-29T09:08:49.291Z"
   },
   {
    "duration": 1265,
    "start_time": "2024-01-29T09:09:17.021Z"
   },
   {
    "duration": 5,
    "start_time": "2024-01-29T09:09:18.288Z"
   },
   {
    "duration": 5815,
    "start_time": "2024-01-29T09:09:18.295Z"
   },
   {
    "duration": 56,
    "start_time": "2024-01-29T09:09:24.112Z"
   },
   {
    "duration": 99,
    "start_time": "2024-01-29T09:09:24.172Z"
   },
   {
    "duration": 52,
    "start_time": "2024-01-29T09:09:24.272Z"
   },
   {
    "duration": 1165,
    "start_time": "2024-01-29T09:09:24.326Z"
   },
   {
    "duration": 4343,
    "start_time": "2024-01-29T09:09:25.492Z"
   },
   {
    "duration": 9,
    "start_time": "2024-01-29T09:09:29.837Z"
   },
   {
    "duration": 19461,
    "start_time": "2024-01-29T09:09:29.866Z"
   },
   {
    "duration": 5,
    "start_time": "2024-01-29T09:09:49.329Z"
   },
   {
    "duration": 63,
    "start_time": "2024-01-29T09:09:49.336Z"
   },
   {
    "duration": 1272,
    "start_time": "2024-01-29T09:09:49.401Z"
   },
   {
    "duration": 3,
    "start_time": "2024-01-29T09:09:50.675Z"
   },
   {
    "duration": 6,
    "start_time": "2024-01-29T09:09:50.679Z"
   },
   {
    "duration": 17,
    "start_time": "2024-01-29T09:09:50.686Z"
   },
   {
    "duration": 7,
    "start_time": "2024-01-29T09:10:11.439Z"
   },
   {
    "duration": 2576,
    "start_time": "2024-01-29T09:10:11.781Z"
   },
   {
    "duration": 10,
    "start_time": "2024-01-29T09:10:14.359Z"
   },
   {
    "duration": 4655,
    "start_time": "2024-01-29T09:10:28.477Z"
   },
   {
    "duration": 6,
    "start_time": "2024-01-29T09:10:33.134Z"
   },
   {
    "duration": 5,
    "start_time": "2024-01-29T09:13:04.945Z"
   },
   {
    "duration": 6,
    "start_time": "2024-01-29T09:13:07.562Z"
   },
   {
    "duration": 5,
    "start_time": "2024-01-29T09:13:16.281Z"
   },
   {
    "duration": 4885,
    "start_time": "2024-01-29T09:13:16.599Z"
   },
   {
    "duration": 113,
    "start_time": "2024-01-29T09:13:21.486Z"
   },
   {
    "duration": 5,
    "start_time": "2024-01-29T09:14:35.784Z"
   },
   {
    "duration": 14,
    "start_time": "2024-01-29T09:14:37.689Z"
   },
   {
    "duration": 5,
    "start_time": "2024-01-29T09:14:43.378Z"
   },
   {
    "duration": 4647,
    "start_time": "2024-01-29T09:14:43.584Z"
   },
   {
    "duration": 19,
    "start_time": "2024-01-29T09:14:48.233Z"
   },
   {
    "duration": 12,
    "start_time": "2024-01-29T09:14:59.346Z"
   },
   {
    "duration": 4693,
    "start_time": "2024-01-29T09:14:59.452Z"
   },
   {
    "duration": 23,
    "start_time": "2024-01-29T09:15:04.147Z"
   },
   {
    "duration": 6,
    "start_time": "2024-01-29T09:15:38.063Z"
   },
   {
    "duration": 4771,
    "start_time": "2024-01-29T09:15:39.164Z"
   },
   {
    "duration": 15,
    "start_time": "2024-01-29T09:15:43.937Z"
   },
   {
    "duration": 18,
    "start_time": "2024-01-29T09:16:08.133Z"
   },
   {
    "duration": 180,
    "start_time": "2024-01-29T09:16:22.223Z"
   },
   {
    "duration": 17,
    "start_time": "2024-01-29T09:16:24.905Z"
   },
   {
    "duration": 5,
    "start_time": "2024-01-29T09:16:47.627Z"
   },
   {
    "duration": 4613,
    "start_time": "2024-01-29T09:16:49.171Z"
   },
   {
    "duration": 81,
    "start_time": "2024-01-29T09:16:53.786Z"
   },
   {
    "duration": 14,
    "start_time": "2024-01-29T09:17:37.705Z"
   },
   {
    "duration": 1465,
    "start_time": "2024-01-29T09:17:59.757Z"
   },
   {
    "duration": 4,
    "start_time": "2024-01-29T09:18:01.224Z"
   },
   {
    "duration": 87420,
    "start_time": "2024-01-29T09:18:01.414Z"
   },
   {
    "duration": 168,
    "start_time": "2024-01-29T09:19:28.835Z"
   },
   {
    "duration": 61,
    "start_time": "2024-01-29T09:19:43.561Z"
   },
   {
    "duration": 472,
    "start_time": "2024-01-29T09:19:44.983Z"
   },
   {
    "duration": 8169,
    "start_time": "2024-01-29T09:19:48.645Z"
   },
   {
    "duration": 22771,
    "start_time": "2024-01-29T09:20:00.624Z"
   },
   {
    "duration": 9,
    "start_time": "2024-01-29T09:20:27.559Z"
   },
   {
    "duration": 8,
    "start_time": "2024-01-29T09:20:32.415Z"
   },
   {
    "duration": 8,
    "start_time": "2024-01-29T09:20:36.036Z"
   },
   {
    "duration": 23728,
    "start_time": "2024-01-29T09:20:43.575Z"
   },
   {
    "duration": 6,
    "start_time": "2024-01-29T09:21:17.911Z"
   },
   {
    "duration": 370,
    "start_time": "2024-01-29T09:21:19.282Z"
   },
   {
    "duration": 61988,
    "start_time": "2024-01-29T09:21:21.233Z"
   },
   {
    "duration": 2,
    "start_time": "2024-01-29T09:22:25.029Z"
   },
   {
    "duration": 2,
    "start_time": "2024-01-29T09:22:27.268Z"
   },
   {
    "duration": 2,
    "start_time": "2024-01-29T09:22:32.352Z"
   },
   {
    "duration": 6,
    "start_time": "2024-01-29T09:22:33.228Z"
   },
   {
    "duration": 16583,
    "start_time": "2024-01-29T09:22:34.076Z"
   },
   {
    "duration": 9,
    "start_time": "2024-01-29T09:22:59.244Z"
   },
   {
    "duration": 17275,
    "start_time": "2024-01-29T09:22:59.698Z"
   },
   {
    "duration": 729,
    "start_time": "2024-01-29T09:23:46.356Z"
   },
   {
    "duration": 51,
    "start_time": "2024-01-29T09:23:53.758Z"
   },
   {
    "duration": 156,
    "start_time": "2024-01-29T09:24:04.193Z"
   },
   {
    "duration": 819,
    "start_time": "2024-01-29T09:24:06.468Z"
   },
   {
    "duration": 5,
    "start_time": "2024-01-29T09:25:17.284Z"
   },
   {
    "duration": 16951,
    "start_time": "2024-01-29T09:25:17.375Z"
   },
   {
    "duration": 5,
    "start_time": "2024-01-29T09:26:10.712Z"
   },
   {
    "duration": 13285,
    "start_time": "2024-01-29T09:26:11.256Z"
   },
   {
    "duration": 5,
    "start_time": "2024-01-29T09:26:40.713Z"
   },
   {
    "duration": 6,
    "start_time": "2024-01-29T09:27:25.708Z"
   },
   {
    "duration": 1490,
    "start_time": "2024-01-29T09:27:35.833Z"
   },
   {
    "duration": 5,
    "start_time": "2024-01-29T09:27:37.324Z"
   },
   {
    "duration": 1440,
    "start_time": "2024-01-29T09:28:19.228Z"
   },
   {
    "duration": 5,
    "start_time": "2024-01-29T09:28:20.670Z"
   },
   {
    "duration": 5602,
    "start_time": "2024-01-29T09:28:20.676Z"
   },
   {
    "duration": 52,
    "start_time": "2024-01-29T09:28:26.279Z"
   },
   {
    "duration": 99,
    "start_time": "2024-01-29T09:28:26.334Z"
   },
   {
    "duration": 61,
    "start_time": "2024-01-29T09:28:26.435Z"
   },
   {
    "duration": 1235,
    "start_time": "2024-01-29T09:28:26.498Z"
   },
   {
    "duration": 4157,
    "start_time": "2024-01-29T09:28:27.734Z"
   },
   {
    "duration": 9,
    "start_time": "2024-01-29T09:28:31.893Z"
   },
   {
    "duration": 19726,
    "start_time": "2024-01-29T09:28:31.903Z"
   },
   {
    "duration": 7,
    "start_time": "2024-01-29T09:28:51.630Z"
   },
   {
    "duration": 74,
    "start_time": "2024-01-29T09:28:51.639Z"
   },
   {
    "duration": 1362,
    "start_time": "2024-01-29T09:28:51.715Z"
   },
   {
    "duration": 3,
    "start_time": "2024-01-29T09:28:53.079Z"
   },
   {
    "duration": 31,
    "start_time": "2024-01-29T09:28:53.084Z"
   },
   {
    "duration": 7,
    "start_time": "2024-01-29T09:28:53.116Z"
   },
   {
    "duration": 5,
    "start_time": "2024-01-29T09:28:55.467Z"
   },
   {
    "duration": 1643,
    "start_time": "2024-01-29T09:28:55.841Z"
   },
   {
    "duration": 80,
    "start_time": "2024-01-29T09:28:57.487Z"
   },
   {
    "duration": 883,
    "start_time": "2024-01-29T09:29:39.547Z"
   },
   {
    "duration": 900,
    "start_time": "2024-01-29T09:29:50.534Z"
   },
   {
    "duration": 751,
    "start_time": "2024-01-29T09:29:57.137Z"
   },
   {
    "duration": 672,
    "start_time": "2024-01-29T09:30:00.674Z"
   },
   {
    "duration": 5,
    "start_time": "2024-01-29T09:30:32.245Z"
   },
   {
    "duration": 686,
    "start_time": "2024-01-29T09:30:33.711Z"
   },
   {
    "duration": 5,
    "start_time": "2024-01-29T09:31:21.327Z"
   },
   {
    "duration": 5,
    "start_time": "2024-01-29T09:31:27.578Z"
   },
   {
    "duration": 6,
    "start_time": "2024-01-29T09:32:18.289Z"
   },
   {
    "duration": 22,
    "start_time": "2024-01-29T09:32:18.297Z"
   },
   {
    "duration": 805,
    "start_time": "2024-01-29T09:32:18.320Z"
   },
   {
    "duration": 5,
    "start_time": "2024-01-29T09:32:56.388Z"
   },
   {
    "duration": 5,
    "start_time": "2024-01-29T09:33:00.920Z"
   },
   {
    "duration": 8,
    "start_time": "2024-01-29T09:34:34.609Z"
   },
   {
    "duration": 21,
    "start_time": "2024-01-29T09:34:34.619Z"
   },
   {
    "duration": 762,
    "start_time": "2024-01-29T09:34:34.642Z"
   },
   {
    "duration": 6,
    "start_time": "2024-01-29T09:35:15.463Z"
   },
   {
    "duration": 5,
    "start_time": "2024-01-29T09:35:15.544Z"
   },
   {
    "duration": 751,
    "start_time": "2024-01-29T09:35:15.971Z"
   },
   {
    "duration": 6,
    "start_time": "2024-01-29T09:35:28.712Z"
   },
   {
    "duration": 5,
    "start_time": "2024-01-29T09:35:28.799Z"
   },
   {
    "duration": 693,
    "start_time": "2024-01-29T09:35:29.006Z"
   },
   {
    "duration": 62,
    "start_time": "2024-01-29T09:47:46.005Z"
   },
   {
    "duration": 4512,
    "start_time": "2024-01-29T09:48:03.237Z"
   },
   {
    "duration": 116,
    "start_time": "2024-01-29T09:48:07.752Z"
   },
   {
    "duration": 692,
    "start_time": "2024-01-29T09:48:16.640Z"
   },
   {
    "duration": 133,
    "start_time": "2024-01-29T09:48:17.334Z"
   },
   {
    "duration": 8,
    "start_time": "2024-01-29T09:53:12.583Z"
   },
   {
    "duration": 8,
    "start_time": "2024-01-29T09:53:20.919Z"
   },
   {
    "duration": 104,
    "start_time": "2024-01-29T09:53:34.520Z"
   },
   {
    "duration": 12,
    "start_time": "2024-01-29T09:53:43.599Z"
   },
   {
    "duration": 11,
    "start_time": "2024-01-29T09:53:49.770Z"
   },
   {
    "duration": 17,
    "start_time": "2024-01-29T09:54:05.545Z"
   },
   {
    "duration": 13,
    "start_time": "2024-01-29T09:54:05.933Z"
   },
   {
    "duration": 17,
    "start_time": "2024-01-29T09:54:14.645Z"
   },
   {
    "duration": 7,
    "start_time": "2024-01-29T09:54:24.660Z"
   },
   {
    "duration": 5,
    "start_time": "2024-01-29T09:54:25.991Z"
   },
   {
    "duration": 4,
    "start_time": "2024-01-29T09:55:20.326Z"
   },
   {
    "duration": 8,
    "start_time": "2024-01-29T09:55:22.710Z"
   },
   {
    "duration": 7,
    "start_time": "2024-01-29T09:55:33.985Z"
   },
   {
    "duration": 6,
    "start_time": "2024-01-29T09:55:43.580Z"
   },
   {
    "duration": 7,
    "start_time": "2024-01-29T10:02:49.495Z"
   },
   {
    "duration": 6,
    "start_time": "2024-01-29T10:02:49.601Z"
   },
   {
    "duration": 103,
    "start_time": "2024-01-29T10:02:52.997Z"
   },
   {
    "duration": 6,
    "start_time": "2024-01-29T10:02:58.633Z"
   },
   {
    "duration": 688,
    "start_time": "2024-01-29T10:02:58.740Z"
   },
   {
    "duration": 6,
    "start_time": "2024-01-29T10:08:13.091Z"
   },
   {
    "duration": 20548,
    "start_time": "2024-01-29T10:08:13.099Z"
   },
   {
    "duration": 6,
    "start_time": "2024-01-29T10:08:45.335Z"
   },
   {
    "duration": 83,
    "start_time": "2024-01-29T10:13:03.866Z"
   },
   {
    "duration": 18331,
    "start_time": "2024-01-29T10:13:03.959Z"
   },
   {
    "duration": 6,
    "start_time": "2024-01-29T10:13:22.368Z"
   },
   {
    "duration": 11228,
    "start_time": "2024-01-29T10:13:23.697Z"
   },
   {
    "duration": 6,
    "start_time": "2024-01-29T10:13:36.455Z"
   },
   {
    "duration": 63923,
    "start_time": "2024-01-29T10:13:36.571Z"
   },
   {
    "duration": 6,
    "start_time": "2024-01-29T10:14:40.496Z"
   },
   {
    "duration": 4,
    "start_time": "2024-01-29T10:16:32.723Z"
   },
   {
    "duration": 6,
    "start_time": "2024-01-29T10:16:51.509Z"
   },
   {
    "duration": 82435,
    "start_time": "2024-01-29T10:16:53.751Z"
   },
   {
    "duration": 79,
    "start_time": "2024-01-29T10:18:16.188Z"
   },
   {
    "duration": 7,
    "start_time": "2024-01-29T10:18:26.488Z"
   },
   {
    "duration": 24197,
    "start_time": "2024-01-29T10:18:26.577Z"
   },
   {
    "duration": 7,
    "start_time": "2024-01-29T10:18:52.083Z"
   },
   {
    "duration": 65356,
    "start_time": "2024-01-29T10:18:52.191Z"
   },
   {
    "duration": 10,
    "start_time": "2024-01-29T10:21:17.337Z"
   },
   {
    "duration": 10,
    "start_time": "2024-01-29T10:21:27.189Z"
   },
   {
    "duration": 11,
    "start_time": "2024-01-29T10:21:39.023Z"
   },
   {
    "duration": 12,
    "start_time": "2024-01-29T10:23:04.718Z"
   },
   {
    "duration": 7,
    "start_time": "2024-01-29T10:23:07.235Z"
   },
   {
    "duration": 77427,
    "start_time": "2024-01-29T10:23:07.449Z"
   },
   {
    "duration": 7,
    "start_time": "2024-01-29T10:24:24.878Z"
   },
   {
    "duration": 40,
    "start_time": "2024-01-29T10:24:24.886Z"
   },
   {
    "duration": 12,
    "start_time": "2024-01-29T10:25:58.131Z"
   },
   {
    "duration": 7,
    "start_time": "2024-01-29T10:26:18.423Z"
   },
   {
    "duration": 7,
    "start_time": "2024-01-29T10:26:21.207Z"
   },
   {
    "duration": 17,
    "start_time": "2024-01-29T10:26:21.861Z"
   },
   {
    "duration": 10,
    "start_time": "2024-01-29T10:26:23.122Z"
   },
   {
    "duration": 7,
    "start_time": "2024-01-29T10:26:25.098Z"
   },
   {
    "duration": 70507,
    "start_time": "2024-01-29T10:26:25.204Z"
   },
   {
    "duration": 7,
    "start_time": "2024-01-29T10:27:35.712Z"
   },
   {
    "duration": 152,
    "start_time": "2024-01-29T10:27:35.721Z"
   },
   {
    "duration": 8,
    "start_time": "2024-01-29T10:28:37.205Z"
   },
   {
    "duration": 1962,
    "start_time": "2024-01-29T10:35:01.537Z"
   },
   {
    "duration": 5,
    "start_time": "2024-01-29T10:35:03.501Z"
   },
   {
    "duration": 5366,
    "start_time": "2024-01-29T10:35:03.507Z"
   },
   {
    "duration": 50,
    "start_time": "2024-01-29T10:35:08.875Z"
   },
   {
    "duration": 93,
    "start_time": "2024-01-29T10:35:08.927Z"
   },
   {
    "duration": 55,
    "start_time": "2024-01-29T10:35:09.022Z"
   },
   {
    "duration": 960,
    "start_time": "2024-01-29T10:35:09.080Z"
   },
   {
    "duration": 3568,
    "start_time": "2024-01-29T10:35:10.042Z"
   },
   {
    "duration": 9,
    "start_time": "2024-01-29T10:35:13.612Z"
   },
   {
    "duration": 19860,
    "start_time": "2024-01-29T10:35:13.623Z"
   },
   {
    "duration": 6,
    "start_time": "2024-01-29T10:35:33.485Z"
   },
   {
    "duration": 70,
    "start_time": "2024-01-29T10:35:33.492Z"
   },
   {
    "duration": 944,
    "start_time": "2024-01-29T10:35:33.564Z"
   },
   {
    "duration": 7,
    "start_time": "2024-01-29T10:35:34.510Z"
   },
   {
    "duration": 7,
    "start_time": "2024-01-29T10:35:34.519Z"
   },
   {
    "duration": 8,
    "start_time": "2024-01-29T10:35:34.528Z"
   },
   {
    "duration": 70,
    "start_time": "2024-01-29T10:35:34.537Z"
   },
   {
    "duration": 6,
    "start_time": "2024-01-29T10:35:36.291Z"
   },
   {
    "duration": 2194,
    "start_time": "2024-01-29T10:35:36.672Z"
   },
   {
    "duration": 109,
    "start_time": "2024-01-29T10:35:48.089Z"
   },
   {
    "duration": 9,
    "start_time": "2024-01-29T10:38:22.393Z"
   },
   {
    "duration": 97,
    "start_time": "2024-01-29T10:38:24.428Z"
   },
   {
    "duration": 2016,
    "start_time": "2024-01-29T10:38:24.550Z"
   },
   {
    "duration": 8,
    "start_time": "2024-01-29T10:38:26.568Z"
   },
   {
    "duration": 7,
    "start_time": "2024-01-29T10:38:28.655Z"
   },
   {
    "duration": 1888,
    "start_time": "2024-01-29T10:38:29.578Z"
   },
   {
    "duration": 9,
    "start_time": "2024-01-29T10:38:31.468Z"
   },
   {
    "duration": 7,
    "start_time": "2024-01-29T10:38:40.268Z"
   },
   {
    "duration": 1853,
    "start_time": "2024-01-29T10:38:40.419Z"
   },
   {
    "duration": 95,
    "start_time": "2024-01-29T10:38:42.274Z"
   },
   {
    "duration": 7,
    "start_time": "2024-01-29T10:38:55.801Z"
   },
   {
    "duration": 1955,
    "start_time": "2024-01-29T10:38:55.912Z"
   },
   {
    "duration": 98,
    "start_time": "2024-01-29T10:38:57.869Z"
   },
   {
    "duration": 8,
    "start_time": "2024-01-29T10:39:09.543Z"
   },
   {
    "duration": 2030,
    "start_time": "2024-01-29T10:39:09.636Z"
   },
   {
    "duration": 11,
    "start_time": "2024-01-29T10:39:11.668Z"
   },
   {
    "duration": 7,
    "start_time": "2024-01-29T10:39:21.955Z"
   },
   {
    "duration": 1930,
    "start_time": "2024-01-29T10:39:22.038Z"
   },
   {
    "duration": 97,
    "start_time": "2024-01-29T10:39:23.970Z"
   },
   {
    "duration": 8,
    "start_time": "2024-01-29T10:39:29.870Z"
   },
   {
    "duration": 1930,
    "start_time": "2024-01-29T10:39:31.143Z"
   },
   {
    "duration": 93,
    "start_time": "2024-01-29T10:39:33.075Z"
   },
   {
    "duration": 167,
    "start_time": "2024-01-29T10:49:55.350Z"
   },
   {
    "duration": 7,
    "start_time": "2024-01-29T10:50:12.748Z"
   },
   {
    "duration": 272,
    "start_time": "2024-01-29T10:50:13.902Z"
   },
   {
    "duration": 9,
    "start_time": "2024-01-29T10:50:33.159Z"
   },
   {
    "duration": 2170,
    "start_time": "2024-01-29T10:50:33.295Z"
   },
   {
    "duration": 7,
    "start_time": "2024-01-29T10:50:38.282Z"
   },
   {
    "duration": 18,
    "start_time": "2024-01-29T10:50:42.967Z"
   },
   {
    "duration": 19,
    "start_time": "2024-01-29T10:50:50.337Z"
   },
   {
    "duration": 8,
    "start_time": "2024-01-29T10:52:52.881Z"
   },
   {
    "duration": 1998,
    "start_time": "2024-01-29T10:52:54.368Z"
   },
   {
    "duration": 298,
    "start_time": "2024-01-29T10:52:56.369Z"
   },
   {
    "duration": 8,
    "start_time": "2024-01-29T10:53:12.161Z"
   },
   {
    "duration": 1882,
    "start_time": "2024-01-29T10:53:12.598Z"
   },
   {
    "duration": 292,
    "start_time": "2024-01-29T10:53:14.482Z"
   },
   {
    "duration": 10,
    "start_time": "2024-01-29T10:53:47.016Z"
   },
   {
    "duration": 1974,
    "start_time": "2024-01-29T10:53:47.099Z"
   },
   {
    "duration": 196,
    "start_time": "2024-01-29T10:53:49.075Z"
   },
   {
    "duration": 8,
    "start_time": "2024-01-29T10:55:02.164Z"
   },
   {
    "duration": 1892,
    "start_time": "2024-01-29T10:55:02.375Z"
   },
   {
    "duration": 110,
    "start_time": "2024-01-29T10:55:04.269Z"
   },
   {
    "duration": 8,
    "start_time": "2024-01-29T10:57:54.600Z"
   },
   {
    "duration": 2035,
    "start_time": "2024-01-29T10:57:54.740Z"
   },
   {
    "duration": 103,
    "start_time": "2024-01-29T10:57:56.867Z"
   },
   {
    "duration": 8,
    "start_time": "2024-01-29T10:58:13.027Z"
   },
   {
    "duration": 1821,
    "start_time": "2024-01-29T10:58:13.150Z"
   },
   {
    "duration": 198,
    "start_time": "2024-01-29T10:58:14.973Z"
   },
   {
    "duration": 4,
    "start_time": "2024-01-29T10:58:32.818Z"
   },
   {
    "duration": 5,
    "start_time": "2024-01-29T10:58:37.715Z"
   },
   {
    "duration": 4,
    "start_time": "2024-01-29T10:58:49.836Z"
   },
   {
    "duration": 4,
    "start_time": "2024-01-29T10:58:53.407Z"
   },
   {
    "duration": 8,
    "start_time": "2024-01-29T10:59:00.056Z"
   },
   {
    "duration": 8,
    "start_time": "2024-01-29T10:59:02.212Z"
   },
   {
    "duration": 2050,
    "start_time": "2024-01-29T10:59:02.317Z"
   },
   {
    "duration": 111,
    "start_time": "2024-01-29T10:59:04.369Z"
   },
   {
    "duration": 67,
    "start_time": "2024-01-29T10:59:53.234Z"
   },
   {
    "duration": 11652,
    "start_time": "2024-01-29T11:00:35.544Z"
   },
   {
    "duration": 7,
    "start_time": "2024-01-29T11:00:51.262Z"
   },
   {
    "duration": 1891,
    "start_time": "2024-01-29T11:00:51.375Z"
   },
   {
    "duration": 19,
    "start_time": "2024-01-29T11:00:53.268Z"
   },
   {
    "duration": 8,
    "start_time": "2024-01-29T11:01:15.409Z"
   },
   {
    "duration": 2043,
    "start_time": "2024-01-29T11:01:16.633Z"
   },
   {
    "duration": 118,
    "start_time": "2024-01-29T11:01:18.767Z"
   },
   {
    "duration": 9,
    "start_time": "2024-01-29T11:01:51.306Z"
   },
   {
    "duration": 1878,
    "start_time": "2024-01-29T11:01:53.207Z"
   },
   {
    "duration": 19,
    "start_time": "2024-01-29T11:01:55.167Z"
   },
   {
    "duration": 10,
    "start_time": "2024-01-29T11:04:07.675Z"
   },
   {
    "duration": 6,
    "start_time": "2024-01-29T11:04:07.922Z"
   },
   {
    "duration": 8,
    "start_time": "2024-01-29T11:04:12.776Z"
   },
   {
    "duration": 4,
    "start_time": "2024-01-29T11:04:13.009Z"
   },
   {
    "duration": 6,
    "start_time": "2024-01-29T11:04:17.837Z"
   },
   {
    "duration": 9,
    "start_time": "2024-01-29T11:04:29.095Z"
   },
   {
    "duration": 9,
    "start_time": "2024-01-29T11:08:10.159Z"
   },
   {
    "duration": 11,
    "start_time": "2024-01-29T11:08:18.006Z"
   },
   {
    "duration": 11,
    "start_time": "2024-01-29T11:12:22.531Z"
   },
   {
    "duration": 45,
    "start_time": "2024-01-29T12:54:18.183Z"
   },
   {
    "duration": 8,
    "start_time": "2024-01-29T12:54:28.150Z"
   },
   {
    "duration": 9,
    "start_time": "2024-01-29T12:56:13.923Z"
   },
   {
    "duration": 2528,
    "start_time": "2024-01-29T12:56:15.041Z"
   },
   {
    "duration": 305,
    "start_time": "2024-01-29T12:56:17.572Z"
   },
   {
    "duration": 15,
    "start_time": "2024-01-29T12:57:34.061Z"
   },
   {
    "duration": 2048,
    "start_time": "2024-01-29T12:57:34.118Z"
   },
   {
    "duration": 989,
    "start_time": "2024-01-29T12:57:36.182Z"
   },
   {
    "duration": 12,
    "start_time": "2024-01-29T13:19:02.575Z"
   },
   {
    "duration": 2058,
    "start_time": "2024-01-29T13:19:02.719Z"
   },
   {
    "duration": 1096,
    "start_time": "2024-01-29T13:19:04.780Z"
   },
   {
    "duration": 8,
    "start_time": "2024-01-29T13:19:14.441Z"
   },
   {
    "duration": 2047,
    "start_time": "2024-01-29T13:19:14.522Z"
   },
   {
    "duration": 798,
    "start_time": "2024-01-29T13:19:16.571Z"
   },
   {
    "duration": 8,
    "start_time": "2024-01-29T13:19:27.881Z"
   },
   {
    "duration": 1973,
    "start_time": "2024-01-29T13:19:27.999Z"
   },
   {
    "duration": 901,
    "start_time": "2024-01-29T13:19:29.974Z"
   },
   {
    "duration": 7,
    "start_time": "2024-01-29T13:19:37.585Z"
   },
   {
    "duration": 2295,
    "start_time": "2024-01-29T13:19:37.671Z"
   },
   {
    "duration": 880,
    "start_time": "2024-01-29T13:19:41.301Z"
   },
   {
    "duration": 10,
    "start_time": "2024-01-29T13:19:50.592Z"
   },
   {
    "duration": 1996,
    "start_time": "2024-01-29T13:19:50.676Z"
   },
   {
    "duration": 2489,
    "start_time": "2024-01-29T13:19:52.680Z"
   },
   {
    "duration": 10832,
    "start_time": "2024-01-29T13:20:44.035Z"
   },
   {
    "duration": 5,
    "start_time": "2024-01-29T13:21:20.811Z"
   },
   {
    "duration": 9,
    "start_time": "2024-01-29T13:21:21.187Z"
   },
   {
    "duration": 6648,
    "start_time": "2024-01-29T13:21:21.902Z"
   },
   {
    "duration": 54,
    "start_time": "2024-01-29T13:21:28.551Z"
   },
   {
    "duration": 103,
    "start_time": "2024-01-29T13:21:28.607Z"
   },
   {
    "duration": 68,
    "start_time": "2024-01-29T13:21:28.712Z"
   },
   {
    "duration": 1274,
    "start_time": "2024-01-29T13:21:28.782Z"
   },
   {
    "duration": 4174,
    "start_time": "2024-01-29T13:21:30.058Z"
   },
   {
    "duration": 11,
    "start_time": "2024-01-29T13:21:34.234Z"
   },
   {
    "duration": 21023,
    "start_time": "2024-01-29T13:21:34.266Z"
   },
   {
    "duration": 6,
    "start_time": "2024-01-29T13:21:55.291Z"
   },
   {
    "duration": 51,
    "start_time": "2024-01-29T13:21:55.301Z"
   },
   {
    "duration": 1371,
    "start_time": "2024-01-29T13:21:55.353Z"
   },
   {
    "duration": 2,
    "start_time": "2024-01-29T13:21:56.726Z"
   },
   {
    "duration": 16,
    "start_time": "2024-01-29T13:21:56.730Z"
   },
   {
    "duration": 15,
    "start_time": "2024-01-29T13:21:56.749Z"
   },
   {
    "duration": 9,
    "start_time": "2024-01-29T13:21:56.766Z"
   },
   {
    "duration": 5,
    "start_time": "2024-01-29T13:22:41.765Z"
   },
   {
    "duration": 5,
    "start_time": "2024-01-29T13:22:42.033Z"
   },
   {
    "duration": 5744,
    "start_time": "2024-01-29T13:22:42.689Z"
   },
   {
    "duration": 64,
    "start_time": "2024-01-29T13:22:48.435Z"
   },
   {
    "duration": 96,
    "start_time": "2024-01-29T13:22:48.500Z"
   },
   {
    "duration": 66,
    "start_time": "2024-01-29T13:22:48.599Z"
   },
   {
    "duration": 1226,
    "start_time": "2024-01-29T13:22:48.667Z"
   },
   {
    "duration": 4406,
    "start_time": "2024-01-29T13:22:49.895Z"
   },
   {
    "duration": 8,
    "start_time": "2024-01-29T13:22:54.303Z"
   },
   {
    "duration": 20695,
    "start_time": "2024-01-29T13:22:54.313Z"
   },
   {
    "duration": 7,
    "start_time": "2024-01-29T13:23:15.009Z"
   },
   {
    "duration": 119,
    "start_time": "2024-01-29T13:23:15.018Z"
   },
   {
    "duration": 1367,
    "start_time": "2024-01-29T13:23:15.139Z"
   },
   {
    "duration": 3,
    "start_time": "2024-01-29T13:23:16.508Z"
   },
   {
    "duration": 36,
    "start_time": "2024-01-29T13:23:16.513Z"
   },
   {
    "duration": 16,
    "start_time": "2024-01-29T13:23:16.550Z"
   },
   {
    "duration": 2,
    "start_time": "2024-01-29T13:24:16.706Z"
   },
   {
    "duration": 9,
    "start_time": "2024-01-29T13:24:17.230Z"
   },
   {
    "duration": 71647,
    "start_time": "2024-01-29T13:24:17.699Z"
   },
   {
    "duration": 5253,
    "start_time": "2024-01-29T13:25:29.348Z"
   },
   {
    "duration": 75653,
    "start_time": "2024-01-29T13:26:31.453Z"
   },
   {
    "duration": 90834,
    "start_time": "2024-01-29T13:27:53.773Z"
   },
   {
    "duration": 5591,
    "start_time": "2024-01-29T13:29:24.609Z"
   },
   {
    "duration": 5,
    "start_time": "2024-01-29T13:29:33.690Z"
   },
   {
    "duration": 46,
    "start_time": "2024-01-29T13:29:33.719Z"
   },
   {
    "duration": 65284,
    "start_time": "2024-01-29T13:29:33.768Z"
   },
   {
    "duration": 192,
    "start_time": "2024-01-29T13:30:39.054Z"
   },
   {
    "duration": 84,
    "start_time": "2024-01-29T13:30:39.248Z"
   },
   {
    "duration": 463,
    "start_time": "2024-01-29T13:30:39.333Z"
   },
   {
    "duration": 8441,
    "start_time": "2024-01-29T13:30:39.798Z"
   },
   {
    "duration": 23451,
    "start_time": "2024-01-29T13:30:48.241Z"
   },
   {
    "duration": 10,
    "start_time": "2024-01-29T13:31:11.695Z"
   },
   {
    "duration": 25167,
    "start_time": "2024-01-29T13:31:11.707Z"
   },
   {
    "duration": 6,
    "start_time": "2024-01-29T13:31:36.877Z"
   },
   {
    "duration": 407,
    "start_time": "2024-01-29T13:31:36.884Z"
   },
   {
    "duration": 61918,
    "start_time": "2024-01-29T13:31:37.293Z"
   },
   {
    "duration": 3,
    "start_time": "2024-01-29T13:32:39.213Z"
   },
   {
    "duration": 28,
    "start_time": "2024-01-29T13:32:39.218Z"
   },
   {
    "duration": 50,
    "start_time": "2024-01-29T13:32:39.248Z"
   },
   {
    "duration": 1473,
    "start_time": "2024-01-29T14:23:35.865Z"
   },
   {
    "duration": 5,
    "start_time": "2024-01-29T14:23:37.339Z"
   },
   {
    "duration": 72813,
    "start_time": "2024-01-29T14:23:37.346Z"
   },
   {
    "duration": 178,
    "start_time": "2024-01-29T14:24:50.161Z"
   },
   {
    "duration": 87,
    "start_time": "2024-01-29T14:24:50.341Z"
   },
   {
    "duration": 533,
    "start_time": "2024-01-29T14:24:50.430Z"
   },
   {
    "duration": 8660,
    "start_time": "2024-01-29T14:24:50.966Z"
   },
   {
    "duration": 24183,
    "start_time": "2024-01-29T14:24:59.627Z"
   },
   {
    "duration": 10,
    "start_time": "2024-01-29T14:25:23.812Z"
   },
   {
    "duration": 24932,
    "start_time": "2024-01-29T14:25:23.824Z"
   },
   {
    "duration": 6,
    "start_time": "2024-01-29T14:25:48.757Z"
   },
   {
    "duration": 378,
    "start_time": "2024-01-29T14:25:48.764Z"
   },
   {
    "duration": 61926,
    "start_time": "2024-01-29T14:25:49.144Z"
   },
   {
    "duration": 4,
    "start_time": "2024-01-29T14:26:51.073Z"
   },
   {
    "duration": 17,
    "start_time": "2024-01-29T14:26:51.079Z"
   },
   {
    "duration": 8,
    "start_time": "2024-01-29T14:26:51.098Z"
   },
   {
    "duration": 9,
    "start_time": "2024-01-29T14:27:06.634Z"
   },
   {
    "duration": 1512,
    "start_time": "2024-01-29T14:33:20.933Z"
   },
   {
    "duration": 5,
    "start_time": "2024-01-29T14:33:22.447Z"
   },
   {
    "duration": 64820,
    "start_time": "2024-01-29T14:33:22.453Z"
   },
   {
    "duration": 192,
    "start_time": "2024-01-29T14:34:27.275Z"
   },
   {
    "duration": 67,
    "start_time": "2024-01-29T14:34:27.468Z"
   },
   {
    "duration": 466,
    "start_time": "2024-01-29T14:34:27.536Z"
   },
   {
    "duration": 8728,
    "start_time": "2024-01-29T14:34:28.003Z"
   },
   {
    "duration": 23889,
    "start_time": "2024-01-29T14:34:36.733Z"
   },
   {
    "duration": 14,
    "start_time": "2024-01-29T14:35:00.624Z"
   },
   {
    "duration": 24956,
    "start_time": "2024-01-29T14:35:00.665Z"
   },
   {
    "duration": 6,
    "start_time": "2024-01-29T14:35:25.622Z"
   },
   {
    "duration": 423,
    "start_time": "2024-01-29T14:35:25.630Z"
   },
   {
    "duration": 63333,
    "start_time": "2024-01-29T14:35:26.055Z"
   },
   {
    "duration": 3,
    "start_time": "2024-01-29T14:36:29.389Z"
   },
   {
    "duration": 20,
    "start_time": "2024-01-29T14:36:29.394Z"
   },
   {
    "duration": 9,
    "start_time": "2024-01-29T14:36:29.416Z"
   },
   {
    "duration": 13,
    "start_time": "2024-01-29T14:38:50.708Z"
   },
   {
    "duration": 144338,
    "start_time": "2024-01-29T14:38:50.776Z"
   },
   {
    "duration": 10,
    "start_time": "2024-01-29T14:41:16.044Z"
   },
   {
    "duration": 1515,
    "start_time": "2024-01-29T14:42:06.161Z"
   },
   {
    "duration": 4,
    "start_time": "2024-01-29T14:42:07.678Z"
   },
   {
    "duration": 64720,
    "start_time": "2024-01-29T14:42:07.684Z"
   },
   {
    "duration": 205,
    "start_time": "2024-01-29T14:43:12.407Z"
   },
   {
    "duration": 84,
    "start_time": "2024-01-29T14:43:12.613Z"
   },
   {
    "duration": 501,
    "start_time": "2024-01-29T14:43:12.698Z"
   },
   {
    "duration": 8719,
    "start_time": "2024-01-29T14:43:13.201Z"
   },
   {
    "duration": 23703,
    "start_time": "2024-01-29T14:43:21.922Z"
   },
   {
    "duration": 10,
    "start_time": "2024-01-29T14:43:45.627Z"
   },
   {
    "duration": 24670,
    "start_time": "2024-01-29T14:43:45.640Z"
   },
   {
    "duration": 6,
    "start_time": "2024-01-29T14:44:10.312Z"
   },
   {
    "duration": 395,
    "start_time": "2024-01-29T14:44:10.319Z"
   },
   {
    "duration": 62197,
    "start_time": "2024-01-29T14:44:10.715Z"
   },
   {
    "duration": 3,
    "start_time": "2024-01-29T14:45:12.914Z"
   },
   {
    "duration": 28,
    "start_time": "2024-01-29T14:45:12.918Z"
   },
   {
    "duration": 31,
    "start_time": "2024-01-29T14:45:12.948Z"
   },
   {
    "duration": 8,
    "start_time": "2024-01-29T14:45:39.095Z"
   },
   {
    "duration": 1454,
    "start_time": "2024-01-29T15:22:38.760Z"
   },
   {
    "duration": 8,
    "start_time": "2024-01-29T15:22:40.216Z"
   },
   {
    "duration": 66542,
    "start_time": "2024-01-29T15:22:40.225Z"
   },
   {
    "duration": 173,
    "start_time": "2024-01-29T15:23:46.768Z"
   },
   {
    "duration": 76,
    "start_time": "2024-01-29T15:23:46.943Z"
   },
   {
    "duration": 484,
    "start_time": "2024-01-29T15:23:47.021Z"
   },
   {
    "duration": 8420,
    "start_time": "2024-01-29T15:23:47.507Z"
   },
   {
    "duration": 23554,
    "start_time": "2024-01-29T15:23:55.929Z"
   },
   {
    "duration": 9,
    "start_time": "2024-01-29T15:24:19.485Z"
   },
   {
    "duration": 24354,
    "start_time": "2024-01-29T15:24:19.496Z"
   },
   {
    "duration": 5,
    "start_time": "2024-01-29T15:24:43.851Z"
   },
   {
    "duration": 404,
    "start_time": "2024-01-29T15:24:43.865Z"
   },
   {
    "duration": 66190,
    "start_time": "2024-01-29T15:24:44.271Z"
   },
   {
    "duration": 3,
    "start_time": "2024-01-29T15:25:50.465Z"
   },
   {
    "duration": 18,
    "start_time": "2024-01-29T15:25:50.469Z"
   },
   {
    "duration": 16,
    "start_time": "2024-01-29T15:25:50.489Z"
   },
   {
    "duration": 9,
    "start_time": "2024-01-29T15:27:46.178Z"
   },
   {
    "duration": 55478,
    "start_time": "2024-01-29T15:27:48.743Z"
   },
   {
    "duration": 10,
    "start_time": "2024-01-29T15:28:47.839Z"
   },
   {
    "duration": 54818,
    "start_time": "2024-01-29T15:28:47.871Z"
   },
   {
    "duration": 11,
    "start_time": "2024-01-29T15:29:44.874Z"
   },
   {
    "duration": 1486,
    "start_time": "2024-01-29T15:31:27.376Z"
   },
   {
    "duration": 5,
    "start_time": "2024-01-29T15:31:28.864Z"
   },
   {
    "duration": 59060,
    "start_time": "2024-01-29T15:31:28.871Z"
   },
   {
    "duration": 178,
    "start_time": "2024-01-29T15:32:27.933Z"
   },
   {
    "duration": 77,
    "start_time": "2024-01-29T15:32:28.112Z"
   },
   {
    "duration": 506,
    "start_time": "2024-01-29T15:32:28.191Z"
   },
   {
    "duration": 8546,
    "start_time": "2024-01-29T15:32:28.699Z"
   },
   {
    "duration": 23210,
    "start_time": "2024-01-29T15:32:37.247Z"
   },
   {
    "duration": 14,
    "start_time": "2024-01-29T15:33:00.464Z"
   },
   {
    "duration": 25144,
    "start_time": "2024-01-29T15:33:00.481Z"
   },
   {
    "duration": 12,
    "start_time": "2024-01-29T15:33:25.627Z"
   },
   {
    "duration": 424,
    "start_time": "2024-01-29T15:33:25.641Z"
   },
   {
    "duration": 67756,
    "start_time": "2024-01-29T15:33:26.067Z"
   },
   {
    "duration": 3,
    "start_time": "2024-01-29T15:34:33.825Z"
   },
   {
    "duration": 17,
    "start_time": "2024-01-29T15:34:33.829Z"
   },
   {
    "duration": 17,
    "start_time": "2024-01-29T15:34:33.847Z"
   },
   {
    "duration": 2,
    "start_time": "2024-01-29T15:56:36.312Z"
   },
   {
    "duration": 8,
    "start_time": "2024-01-29T15:56:37.486Z"
   },
   {
    "duration": 47,
    "start_time": "2024-01-29T16:27:35.046Z"
   },
   {
    "duration": 1306,
    "start_time": "2024-01-29T16:27:46.588Z"
   },
   {
    "duration": 5,
    "start_time": "2024-01-29T16:27:47.900Z"
   },
   {
    "duration": 64694,
    "start_time": "2024-01-29T16:27:47.907Z"
   },
   {
    "duration": 181,
    "start_time": "2024-01-29T16:28:52.603Z"
   },
   {
    "duration": 64,
    "start_time": "2024-01-29T16:28:52.786Z"
   },
   {
    "duration": 491,
    "start_time": "2024-01-29T16:28:52.852Z"
   },
   {
    "duration": 8172,
    "start_time": "2024-01-29T16:28:53.345Z"
   },
   {
    "duration": 22132,
    "start_time": "2024-01-29T16:29:01.518Z"
   },
   {
    "duration": 19,
    "start_time": "2024-01-29T16:29:23.652Z"
   },
   {
    "duration": 23347,
    "start_time": "2024-01-29T16:29:23.674Z"
   },
   {
    "duration": 7,
    "start_time": "2024-01-29T16:29:47.023Z"
   },
   {
    "duration": 387,
    "start_time": "2024-01-29T16:29:47.031Z"
   },
   {
    "duration": 61840,
    "start_time": "2024-01-29T16:29:47.420Z"
   },
   {
    "duration": 3,
    "start_time": "2024-01-29T16:30:49.262Z"
   },
   {
    "duration": 31,
    "start_time": "2024-01-29T16:30:49.267Z"
   },
   {
    "duration": 1343,
    "start_time": "2024-01-29T17:03:59.157Z"
   },
   {
    "duration": 4,
    "start_time": "2024-01-29T17:04:00.502Z"
   },
   {
    "duration": 9,
    "start_time": "2024-01-29T17:07:05.867Z"
   },
   {
    "duration": 16884,
    "start_time": "2024-01-29T17:07:05.877Z"
   },
   {
    "duration": 1069,
    "start_time": "2024-01-29T17:07:22.763Z"
   },
   {
    "duration": 0,
    "start_time": "2024-01-29T17:07:23.834Z"
   },
   {
    "duration": 0,
    "start_time": "2024-01-29T17:07:23.835Z"
   },
   {
    "duration": 0,
    "start_time": "2024-01-29T17:07:23.836Z"
   },
   {
    "duration": 0,
    "start_time": "2024-01-29T17:07:23.837Z"
   },
   {
    "duration": 0,
    "start_time": "2024-01-29T17:07:23.838Z"
   },
   {
    "duration": 0,
    "start_time": "2024-01-29T17:07:23.839Z"
   },
   {
    "duration": 0,
    "start_time": "2024-01-29T17:07:23.840Z"
   },
   {
    "duration": 0,
    "start_time": "2024-01-29T17:07:23.841Z"
   },
   {
    "duration": 0,
    "start_time": "2024-01-29T17:07:23.842Z"
   },
   {
    "duration": 0,
    "start_time": "2024-01-29T17:07:23.843Z"
   },
   {
    "duration": 0,
    "start_time": "2024-01-29T17:07:23.865Z"
   },
   {
    "duration": 0,
    "start_time": "2024-01-29T17:07:23.867Z"
   },
   {
    "duration": 0,
    "start_time": "2024-01-29T17:07:23.868Z"
   },
   {
    "duration": 0,
    "start_time": "2024-01-29T17:07:23.870Z"
   }
  ],
  "kernelspec": {
   "display_name": "Python 3 (ipykernel)",
   "language": "python",
   "name": "python3"
  },
  "language_info": {
   "codemirror_mode": {
    "name": "ipython",
    "version": 3
   },
   "file_extension": ".py",
   "mimetype": "text/x-python",
   "name": "python",
   "nbconvert_exporter": "python",
   "pygments_lexer": "ipython3",
   "version": "3.9.5"
  },
  "toc": {
   "base_numbering": 1,
   "nav_menu": {},
   "number_sections": true,
   "sideBar": true,
   "skip_h1_title": true,
   "title_cell": "Table of Contents",
   "title_sidebar": "Contents",
   "toc_cell": false,
   "toc_position": {
    "height": "739px",
    "left": "138px",
    "top": "159.125px",
    "width": "384px"
   },
   "toc_section_display": true,
   "toc_window_display": true
  }
 },
 "nbformat": 4,
 "nbformat_minor": 5
}
